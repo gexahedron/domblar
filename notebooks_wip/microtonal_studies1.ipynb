{
 "cells": [
  {
   "cell_type": "code",
   "execution_count": 1,
   "id": "bc0f05eb",
   "metadata": {},
   "outputs": [],
   "source": [
    "from setup import D\n",
    "\n",
    "synth_count = 4\n",
    "d = D(\n",
    "    synth_count=synth_count,\n",
    "    # context='tyrelln6',\n",
    "    context='dexed',\n",
    ")"
   ]
  },
  {
   "cell_type": "code",
   "execution_count": 2,
   "id": "5440f41c",
   "metadata": {},
   "outputs": [],
   "source": [
    "# miniature composition\n",
    "# generate a scale\n",
    "# generate 1 bar of music\n",
    "# generate melodic gesture\n",
    "# generate ...\n",
    "\n",
    "# 22 edo\n"
   ]
  },
  {
   "cell_type": "code",
   "execution_count": 5,
   "id": "28de7d45",
   "metadata": {},
   "outputs": [
    {
     "name": "stdout",
     "output_type": "stream",
     "text": [
      "[0, 2, 3, 6, 9, 10, 12, 13, 16, 19, 20, 23, 26, 29, 30, 33, 36, 37]\n",
      "steps - [2, 1, 3, 3, 1, 2, 1, 3, 3, 1, 3, 3, 3, 1, 3, 3, 1]\n"
     ]
    }
   ],
   "source": [
    "# random example\n",
    "\n",
    "from domblar.edo import mos, intervals_in_edo\n",
    "\n",
    "def set_synths():\n",
    "    # d.set_synth(0, 'tub_bells')\n",
    "    d.set_synth(0, 'brass/toto_africa')\n",
    "# set_synths()\n",
    "\n",
    "edo = 37\n",
    "# fixme: remove this scale, looks redundant\n",
    "scale = list(range(edo))\n",
    "\n",
    "scales = {}\n",
    "scales['orgone7'] = mos(7, gen=10, edo=edo, down=0, shift=0) + [edo]\n",
    "\n",
    "cur_scale = scales['orgone7']\n",
    "print(cur_scale)\n",
    "print('steps -', intervals_in_edo(cur_scale, edo))\n",
    "d.play(cur_scale, scale, edo, synth_idx=[0], dur=0.3)\n"
   ]
  },
  {
   "cell_type": "code",
   "execution_count": 74,
   "id": "fe562959",
   "metadata": {},
   "outputs": [],
   "source": [
    "finetuning = 2\n",
    "\n",
    "try:\n",
    "    finetuning\n",
    "except Exception as e:\n",
    "    d.open_editor(0)\n",
    "    finetuning = 1\n",
    "else:\n",
    "    if finetuning == 0:\n",
    "        d.open_editor(0)\n",
    "    elif finetuning == 1:\n",
    "        # transfer instrument to all synths\n",
    "        d.save_preset(0)\n",
    "        import time\n",
    "        time.sleep(0.5)\n",
    "        for i in range(synth_count):\n",
    "            d.load_preset(i)\n",
    "    else:\n",
    "        d.print_params(0)"
   ]
  }
 ],
 "metadata": {
  "kernelspec": {
   "display_name": "Python 3 (ipykernel)",
   "language": "python",
   "name": "python3"
  },
  "language_info": {
   "codemirror_mode": {
    "name": "ipython",
    "version": 3
   },
   "file_extension": ".py",
   "mimetype": "text/x-python",
   "name": "python",
   "nbconvert_exporter": "python",
   "pygments_lexer": "ipython3",
   "version": "3.10.11"
  },
  "vscode": {
   "interpreter": {
    "hash": "fbf0dd17592d3ca6e635cabb1c16d1355bb8d9b58dd5152262ed90a953ba68fb"
   }
  }
 },
 "nbformat": 4,
 "nbformat_minor": 5
}
