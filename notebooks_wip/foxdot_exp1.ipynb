{
 "cells": [
  {
   "cell_type": "code",
   "execution_count": 1,
   "metadata": {},
   "outputs": [],
   "source": [
    "# from FoxDot import play, expvar, Clock, tt\n",
    "from FoxDot import *"
   ]
  },
  {
   "cell_type": "code",
   "execution_count": 2,
   "metadata": {},
   "outputs": [],
   "source": [
    "# fx = FxList.new(\"tanh\", \"tanhDisto\", {\"tanh\":0}, order=2)\n",
    "# fx.add(\"osc = osc + (osc*tanh).tanh.sqrt()\")\n",
    "# fx.save()\n",
    "\n",
    "# Effect.server.setFx(FxList)"
   ]
  },
  {
   "cell_type": "code",
   "execution_count": 3,
   "metadata": {},
   "outputs": [
    {
     "name": "stdout",
     "output_type": "stream",
     "text": [
      "None\n"
     ]
    }
   ],
   "source": [
    "Clock.bpm = 150 * expvar([0.5, 1.5])\n",
    "tt >> play('=', room=1, mix=0.15,\n",
    "           pan=expvar([-0.35, 0.35], 8),\n",
    "           sample=1, dur=0.5, delay=0,\n",
    "           lpf=4000 * expvar([0.5, 1.5], [32, 0]),\n",
    "           )\n",
    "print(tt.filename)\n",
    "\n",
    "\n",
    "    # 1301 group\n",
    "    #      1302 startSound\n",
    "    #        bus: 106 rate: 1 sus: 2.8443539142609\n",
    "    #      1303 play1\n",
    "    #        amp: 1 sus: 0.35554423928261 pan: -0.33905935287476 freq: 0 vib: 0 fmod: 0 rate: 1 bus: 106 blur: 1 beat_dur: 0.71108847856522 atk: 0.0099999997764826 decay: 0.0099999997764826 rel: 0.0099999997764826 peak: 1 level: 0.80000001192093 buf: 1 pos: 0 room: 1\n",
    "    #      1304 lowPassFilter\n",
    "    #        bus: 106 lpf: 2003.9073486328 lpr: 1\n",
    "    #      1305 reverb\n",
    "    #        bus: 106 room: 1 mix: 0.15000000596046\n",
    "    #      1306 makeSound\n",
    "    #        bus: 106 sus: 0.35554423928261\n",
    "\n",
    "# class In(Effect):\n",
    "#     def __init__(self):\n",
    "#         Effect.__init__(self, 'startSound', 'startSound')\n",
    "#         self.save()\n",
    "#     def __str__(self):\n",
    "#         s  = \"SynthDef.new(\\startSound,\\n\"\n",
    "#         s += \"{ arg bus, rate=1, sus; var osc;\\n\"\n",
    "#         s += \"\tReplaceOut.kr(bus, rate)}).add;\\n\"\n",
    "#         return s\n",
    "\n",
    "# class Out(Effect):\n",
    "#     def __init__(self):\n",
    "#         self.max_duration = 8\n",
    "#         Effect.__init__(self, 'makeSound', 'makeSound')\n",
    "#         self.save()\n",
    "#     def __str__(self):\n",
    "#         s  = \"SynthDef.new(\\makeSound,\\n\"\n",
    "#         s += \"{ arg bus, sus; var osc;\\n\"\n",
    "#         s += \"\tosc = In.ar(bus, 2);\\n\"\n",
    "#         s += \"  osc = EnvGen.ar(Env([1,1,0],[sus * {}, 0.1]), doneAction: 14) * osc;\\n\".format(self.max_duration)\n",
    "#         s += \"\tDetectSilence.ar(osc, amp:0.0001, time: 0.1, doneAction: 14);\\n\"\n",
    "#         #s += \"\tOut.ar(0, osc);\\n\"\n",
    "#         s += \"OffsetOut.ar(0, osc[0]);\\n\"\n",
    "#         s += \"OffsetOut.ar(1, osc[1]);\\n\"\n",
    "#         s += \" }).add;\\n\"\n",
    "#         return s\n"
   ]
  },
  {
   "cell_type": "code",
   "execution_count": 2,
   "metadata": {},
   "outputs": [],
   "source": [
    "Clock.bpm = 150\n",
    "eeri = SynthDef('eeri')\n",
    "var.brk = var([1, 0], [56, 8, 31, 1, 31, 1, 28, 4, 28, 4, 120, 8])\n",
    "var.hi_amp = var([1, 0], [512, 256, 256, 128, 128, 64, 64, 32])\n",
    "var.fade_in = expvar([0, 1, 1], [128, inf]) # * 0.001\n"
   ]
  },
  {
   "cell_type": "code",
   "execution_count": 3,
   "metadata": {},
   "outputs": [
    {
     "data": {
      "text/plain": [
       "<tt - play2>"
      ]
     },
     "execution_count": 3,
     "metadata": {},
     "output_type": "execute_result"
    }
   ],
   "source": [
    "tt >> play('t', sample=1, dur=0.5,\n",
    "           lpf=1000 * expvar([0.5, 1.5], [32, 0]),\n",
    "           amp=P[0.75, 1] * var([0, 0.25],\n",
    "                                [[64, 256, 128],\n",
    "                                 [32, 128, 128], 128, 256, 64, 128]) * var.hi_amp * var.fade_in)\n"
   ]
  },
  {
   "cell_type": "code",
   "execution_count": 9,
   "metadata": {},
   "outputs": [
    {
     "data": {
      "text/plain": [
       "<h2 - play2>"
      ]
     },
     "execution_count": 9,
     "metadata": {},
     "output_type": "execute_result"
    }
   ],
   "source": [
    "h2 >> play('=', room=1, mix=0.15, pan=expvar([-0.35, 0.35], 8),\n",
    "           sample=1, dur=0.5, delay=0,\n",
    "           lpf=4000 * expvar([0.5, 1.5], [32, 0]),\n",
    "           amp=P[0.5, 1] * var([0, 0.65], [32, 64, 32, 128, 256, 64, 128, 256]) * var.hi_amp * var.fade_in)\n"
   ]
  },
  {
   "cell_type": "code",
   "execution_count": 5,
   "metadata": {},
   "outputs": [
    {
     "data": {
      "text/plain": [
       "<rs - play2>"
      ]
     },
     "execution_count": 5,
     "metadata": {},
     "output_type": "execute_result"
    }
   ],
   "source": [
    "rs >> play('x', sample=0, dur=var([16, 8, 4, 2, 1], [64, 64, 64, 64, 128]), delay=0,\n",
    "           amp=0.9 * var.brk * var.hi_amp * var.fade_in)\n"
   ]
  },
  {
   "cell_type": "code",
   "execution_count": 6,
   "metadata": {},
   "outputs": [
    {
     "data": {
      "text/plain": [
       "<h1 - play2>"
      ]
     },
     "execution_count": 6,
     "metadata": {},
     "output_type": "execute_result"
    }
   ],
   "source": [
    "cl >> play('H', sample=1, dur=var([8, 4, 2], [32, 16, 8, 8, 64, 32, 32]), delay=var([0, 0.5], [128, 64, 64, 32, 32, 128, 32]), amp=0.07 * var.hi_amp * var.fade_in)\n",
    "sh >> play('s', room=1, mix=0.1, dur=1, delay=0.5, amp=expvar([0, 0, 1, 1], [[64, 0, 32, 128], [64, 32, 128, 32, 64, 0, 64], [64, 0, 128, 0, 32, [32, 64]], [0, 64, 0, 0, 32]]) * var.hi_amp * var.fade_in)\n",
    "ss >> play('S', dur=0.5, amp=P[0.5, 1] * var([0, 1], [64, 128, 64, 64, 32, 64, 128, 128, 128, 64]) * expvar([0.35, 0.5], [32, 0]) * 0.5 * var.hi_amp * var.fade_in)\n",
    "rc >> play('~', dur=0.25, amp=P[1, [0.8, var([0.1, 0.5, 0.85, 0.95], 32)], 1, 0.85] * expvar([0, 0, 1], [[[64, 128], [128, 64, 256]], [128, 64, 256, 128], 0]) * var.hi_amp * var.fade_in)\n",
    "h1 >> play(':', sample=P[2, var([1, 2, 1, 0], [32, 32, 64, 64]), var([0, 2], 64), var([0, 1, 2], [64, 32, 32])], dur=0.25, delay=0.5, lpf=expvar([3000, 4000], [[16, 32, 64, 8, 8, 4, 4], 0]), lpr=0.5,\n",
    "    amp=P[\n",
    "        1, var([0.25, 1, 0.25, 0.5], 16), 1, [0.75, var([0, 1, 0.5, 0.75], [8, 4, 32, 16, 16]), 0.25, 0.5]\n",
    "    ] * expvar([0, 0.5], [64, 128, 128, 256, 64, 32]) * 0.85 * var([0, 1], [256, 64, 128, 32, 64, 32, 256, 128, 512, 128]) * var.hi_amp * var.fade_in\n",
    ")\n"
   ]
  },
  {
   "cell_type": "code",
   "execution_count": 7,
   "metadata": {},
   "outputs": [
    {
     "data": {
      "text/plain": [
       "<er - eeri>"
      ]
     },
     "execution_count": 7,
     "metadata": {},
     "output_type": "execute_result"
    }
   ],
   "source": [
    "ns >> play('nu', rate=0.25, sample=var([0, 1, 2, 3, 4, 5], 64), dur=1/8, amp=P[0.5, 1, 1, 1] * expvar([0.75, 0.15], 1/3) * expvar([0.5, 0, 0.5, 0, 0, 0.5], [[128, 64, 256], [4, 8, 2, 4]]) * var.fade_in)\n",
    "er >> eeri(dur=0.25,\n",
    "    tremolo=P[var([4, 0], 128), var([0, 4, 2, 0], 64), var([4, 2, 0, 0], [128, 256]), var([4, 2, 0, 4], [64, 256, 128, 128])],\n",
    "    sus=P[0.1, expvar([0, 0.5], 256), 0.1, expvar([0.5, 0.1], [128, 0])],\n",
    "    lpf=P[200, 3000, var([500, 110], [256, 128]), [300, 500]],\n",
    "    lpr=0.5,\n",
    "    amp=expvar([0, 0.5, 0.5], [256, 512, 0]) * var.fade_in\n",
    ")\n"
   ]
  },
  {
   "cell_type": "code",
   "execution_count": 8,
   "metadata": {},
   "outputs": [
    {
     "data": {
      "text/plain": [
       "<e2 - eeri>"
      ]
     },
     "execution_count": 8,
     "metadata": {},
     "output_type": "execute_result"
    }
   ],
   "source": [
    "e2 >> eeri(dur=1, tremolo=2, sus=1,\n",
    "    bend=var([2, 3, -3, 1], [[4, 4, 4, 64], [2, 2, 2, 32], [3, 3, 3, 128], [3, 3, 3, 64], 1, 3, 1, 1, 1]),\n",
    "    hpf=var([200, 800, 700, 750, 600], 128), hpr=0.25,\n",
    "    amp=P[[0.75, 0.5], [0.25, 0.25]] * var.fade_in\n",
    ")\n"
   ]
  },
  {
   "cell_type": "code",
   "execution_count": 9,
   "metadata": {},
   "outputs": [
    {
     "data": {
      "text/plain": [
       "<x6 - play2>"
      ]
     },
     "execution_count": 9,
     "metadata": {},
     "output_type": "execute_result"
    }
   ],
   "source": [
    "u1 >> play('U', pan=PWhite(-0.75, 0.75), rate=PRand([1, 0.9, 0.95, 1], 64), sample=2, dur=1, delay=0.5,\n",
    "    amp=0.25 * expvar([0, 1], [4, 9, 2, 16, 8, 28]) * expvar([0, 0, 1, 1], [[256, 128], [128, 64], [128, 256, 512], 4]) * var.fade_in\n",
    ")\n",
    "xx >> play('X', sample=1, dur=0.25, lpf=P[P[300, 200], 0, 150, 200] * expvar([1, 1.5], [64, 0]),\n",
    "    amp=P[1, 0, var.brk * int(var([1, 0], [128, 64, 128, 128, 256, 128, 32, 64, 8, 4, 8, 4, 8, 4])) * P[expvar([0.1, 0.5], [64, 0]), var([0.25, 0.5], [16, 32, 64]), [0.2, 0], [0.3, 0]], var([0, 0.9], [[7, 7, 7, 7, 15, 15, 15, 15, 31, 31, 31, 31, 63, 63, 63, 63], 1])] * 1.35 # * var.brk\n",
    ")\n",
    "# xx.amp=P[1, 0, [0, 0.25, [0, 0.25, 0.5, 0.75], 0.5], [0, [0.25, 0], 0, 0, var([0.8, 0], 64), 0, var([0.8, 0], 128), 0]]\n",
    "# xx.amp = P[1, 0, 0, 0]\n",
    "rk >> play('X', sample=2, rate=-1, lpf=1000, dur=var([4, 2], [32, 64, 32]), amp=P[1, var([0, 0.5], [32, 64])] * var([0, 0.25], 128) * var([1, 0], [28, 4]) * 0.5)\n",
    "jb >> jbass(sus=P[0.2, 0.1, [0.2, 0.35, 0.15, 0.4], [0.1, 0.25, 0.1, 0.1]], oct=5, tremolo=2,\n",
    "    bend=var([0, 0.15, -0.15, 0.2, -0.05, -0.2, 0.1], 32),\n",
    "    dur=0.25,\n",
    "    amp=P[1, [0, var([0, 0.1], 64)], 0.55, var([0, 0.3], [64, 32, 128])] * var([1, 0], [31, 1, 28, 4, 64, 0, 31, 1, 28, 4, 128, 0]) * expvar([0, 0, 1, 1], [256, 128, 256, 0])\n",
    ")\n",
    "x7 >> play('X', rate=0.8, dur=1, delay=var([0.5, 0], 256), sample=x6.sample, lpf=x6.lpf, lpr=x6.lpr * 1.25, amp=P[1, PWhite(0, 0.85)] * 0.35)\n",
    "x6 >> play('v',\n",
    "    rate=expvar([1, 0.9], [128, 0]), dur=0.5,\n",
    "    lpf=P[\n",
    "        1,\n",
    "        [0.85, var([0.9, 0.25], [64, 32]), var([0.9, 0.25], [28, 4]), var([0.9, 0.5], [64, 32, 128, 64, 64])],\n",
    "        [var([0.5, 0.15, 0.6, 0.4], 64), 1, [0.25, 0.25, 0.25, var([0.25, 0.85], 32)], 0.25],\n",
    "        var([0.25, 0.75], [[26, 28], [8, 4]])\n",
    "    ] * expvar([200, [1000, 800, 900, 350]], [256, 0]),\n",
    "    lpr=expvar([0.5, 0.85], [16, 0]),\n",
    "    sample=1,\n",
    "    bend=0.5, # expvar([0.5, 0], [16, 0]),\n",
    "    amp=P[0, 1, 1, 1] * var([1, 0], [56, 8, 31, 1, 31, 1, 28, 4, 28, 4, 120, 8]) * var([1, 0], [[256, 512], 64])\n",
    ")\n"
   ]
  },
  {
   "cell_type": "code",
   "execution_count": 2,
   "metadata": {},
   "outputs": [
    {
     "data": {
      "text/plain": [
       "<p1 - pluck>"
      ]
     },
     "execution_count": 2,
     "metadata": {},
     "output_type": "execute_result"
    }
   ],
   "source": [
    "# k1 >> play('S')\n",
    "p1 >> pluck()"
   ]
  },
  {
   "cell_type": "code",
   "execution_count": 84,
   "metadata": {},
   "outputs": [],
   "source": [
    "Clock.clear()"
   ]
  },
  {
   "cell_type": "code",
   "execution_count": 131,
   "metadata": {},
   "outputs": [
    {
     "data": {
      "text/plain": [
       "'pluck'"
      ]
     },
     "execution_count": 131,
     "metadata": {},
     "output_type": "execute_result"
    }
   ],
   "source": [
    "list(Clock.queue.data[0].items)[0].synthdef"
   ]
  },
  {
   "cell_type": "code",
   "execution_count": 83,
   "metadata": {},
   "outputs": [
    {
     "name": "stdout",
     "output_type": "stream",
     "text": [
      "57.507554054260254\n"
     ]
    },
    {
     "data": {
      "text/plain": [
       "58.0"
      ]
     },
     "execution_count": 83,
     "metadata": {},
     "output_type": "execute_result"
    }
   ],
   "source": [
    "print(Clock.beat)\n",
    "list(Clock.queue.data[0].items)[0].event_index"
   ]
  },
  {
   "cell_type": "code",
   "execution_count": null,
   "metadata": {},
   "outputs": [],
   "source": []
  }
 ],
 "metadata": {
  "kernelspec": {
   "display_name": "Python 3",
   "language": "python",
   "name": "python3"
  },
  "language_info": {
   "codemirror_mode": {
    "name": "ipython",
    "version": 3
   },
   "file_extension": ".py",
   "mimetype": "text/x-python",
   "name": "python",
   "nbconvert_exporter": "python",
   "pygments_lexer": "ipython3",
   "version": "3.8.10"
  }
 },
 "nbformat": 4,
 "nbformat_minor": 2
}
