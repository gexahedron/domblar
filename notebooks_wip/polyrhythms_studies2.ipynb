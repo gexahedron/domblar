{
 "cells": [
  {
   "cell_type": "code",
   "execution_count": 24,
   "id": "bc0f05eb",
   "metadata": {},
   "outputs": [],
   "source": [
    "from setup import D\n",
    "\n",
    "synth_count = 4\n",
    "d = D(\n",
    "    synth_count=synth_count,\n",
    "    # context='tyrelln6',\n",
    "    context='opl',\n",
    ")\n",
    "\n",
    "# FIXME: doesn't work for 'opl' context with state=1 (state=0 works, state=2 works)\n",
    "def finetune(state=0, synth_idx=0):\n",
    "    match state:\n",
    "        case 0:\n",
    "            d.open_editor(synth_idx)\n",
    "        case 1:\n",
    "            # transfer instrument to all synths\n",
    "            d.save_preset(synth_idx)\n",
    "            import time\n",
    "            time.sleep(0.5)\n",
    "            for i in range(synth_count):\n",
    "                d.load_preset(i)\n",
    "        case _:\n",
    "            d.print_params(synth_idx)\n"
   ]
  },
  {
   "cell_type": "code",
   "execution_count": null,
   "id": "9c9170cf",
   "metadata": {},
   "outputs": [
    {
     "ename": "KeyboardInterrupt",
     "evalue": "",
     "output_type": "error",
     "traceback": [
      "\u001b[0;31m---------------------------------------------------------------------------\u001b[0m",
      "\u001b[0;31mKeyboardInterrupt\u001b[0m                         Traceback (most recent call last)",
      "Cell \u001b[0;32mIn[10], line 17\u001b[0m\n\u001b[1;32m     15\u001b[0m \u001b[39m# finetune(1)\u001b[39;00m\n\u001b[1;32m     16\u001b[0m \u001b[39mimport\u001b[39;00m \u001b[39mtime\u001b[39;00m\n\u001b[0;32m---> 17\u001b[0m time\u001b[39m.\u001b[39;49msleep(\u001b[39m1.0\u001b[39;49m)\n",
      "\u001b[0;31mKeyboardInterrupt\u001b[0m: "
     ]
    }
   ],
   "source": [
    "def set_synths():\n",
    "    for i in range(3):\n",
    "        d.set_synth(i, 'sdrum2')\n",
    "set_synths()\n",
    "\n",
    "root_hz = 220.0\n",
    "notes = []\n",
    "harmonics = [1/4, 1/2, 1, 2, 4]\n",
    "for h in harmonics:\n",
    "    notes.append([root_hz * h])\n",
    "\n",
    "finetune(0)\n",
    "while True:\n",
    "    d.play_non_edo(notes, synth_idx=[0, 1, 2], dur=0.12)\n",
    "    # finetune(1)\n",
    "    import time\n",
    "    time.sleep(1.0)"
   ]
  },
  {
   "cell_type": "code",
   "execution_count": null,
   "id": "d8b5bced",
   "metadata": {},
   "outputs": [],
   "source": [
    "finetune(2)"
   ]
  },
  {
   "cell_type": "code",
   "execution_count": 25,
   "id": "0255ebb0",
   "metadata": {},
   "outputs": [
    {
     "name": "stdout",
     "output_type": "stream",
     "text": [
      "[-4, '.', '.', '.', -4, '.', '.', '.', -4, '.', '.', '.', -4, '.', '.', '.']\n",
      "['.', '.', '.', '.', -8, '.', '.', '.', '.', '.', '.', '.', -8, '.', '.', '.']\n",
      "['.', '.', '.', '.', '.', '.', '.', '.', '.', 0, '.', '.', '.', '.', '.', '.']\n",
      "['.', '.', -2, '.', '.', '.', -2, '.', '.', '.', -2, '.', '.', '.', -2, '.']\n"
     ]
    },
    {
     "ename": "KeyboardInterrupt",
     "evalue": "",
     "output_type": "error",
     "traceback": [
      "\u001b[0;31m---------------------------------------------------------------------------\u001b[0m",
      "\u001b[0;31mKeyboardInterrupt\u001b[0m                         Traceback (most recent call last)",
      "Cell \u001b[0;32mIn[25], line 40\u001b[0m\n\u001b[1;32m     37\u001b[0m \u001b[39m# voices = list(zip(kick_voice, open_hihat_voice))\u001b[39;00m\n\u001b[1;32m     39\u001b[0m \u001b[39mfor\u001b[39;00m _ \u001b[39min\u001b[39;00m \u001b[39mrange\u001b[39m(\u001b[39m4\u001b[39m):\n\u001b[0;32m---> 40\u001b[0m     d\u001b[39m.\u001b[39;49mplay(voices, scale, edo, synth_idx\u001b[39m=\u001b[39;49m[\u001b[39m0\u001b[39;49m, \u001b[39m1\u001b[39;49m, \u001b[39m2\u001b[39;49m, \u001b[39m3\u001b[39;49m], dur\u001b[39m=\u001b[39;49m\u001b[39m0.12\u001b[39;49m)\n",
      "File \u001b[0;32m~/devel/domblar/domblar/domblar.py:110\u001b[0m, in \u001b[0;36mDomblar.play\u001b[0;34m(self, chords_or_voices, scale, edo, dur, sus, delay, synth_idx, rep, muls, amps, voice_amps, once, loop_from)\u001b[0m\n\u001b[1;32m    107\u001b[0m     \u001b[39mreturn\u001b[39;00m\n\u001b[1;32m    108\u001b[0m \u001b[39mif\u001b[39;00m \u001b[39mself\u001b[39m\u001b[39m.\u001b[39mmode \u001b[39m==\u001b[39m \u001b[39m'\u001b[39m\u001b[39monce\u001b[39m\u001b[39m'\u001b[39m:\n\u001b[1;32m    109\u001b[0m     \u001b[39m# FIXME: remove this, by reusing tracker\u001b[39;00m\n\u001b[0;32m--> 110\u001b[0m     play(chords_or_voices, scale, edo, \u001b[39mself\u001b[39;49m\u001b[39m.\u001b[39;49mclient,\n\u001b[1;32m    111\u001b[0m             dur\u001b[39m=\u001b[39;49mdur, sus\u001b[39m=\u001b[39;49msus, delay\u001b[39m=\u001b[39;49mdelay, synth_idx\u001b[39m=\u001b[39;49msynth_idx,\n\u001b[1;32m    112\u001b[0m             muls\u001b[39m=\u001b[39;49mmuls, rep\u001b[39m=\u001b[39;49mrep,\n\u001b[1;32m    113\u001b[0m             amps\u001b[39m=\u001b[39;49mamps, voice_amps\u001b[39m=\u001b[39;49mvoice_amps,\n\u001b[1;32m    114\u001b[0m             )\n\u001b[1;32m    115\u001b[0m \u001b[39melse\u001b[39;00m:\n\u001b[1;32m    116\u001b[0m     \u001b[39mfrom\u001b[39;00m \u001b[39mdomblar\u001b[39;00m\u001b[39m.\u001b[39;00m\u001b[39mchord_theory\u001b[39;00m \u001b[39mimport\u001b[39;00m Voices\n",
      "File \u001b[0;32m~/devel/domblar/domblar/players.py:90\u001b[0m, in \u001b[0;36mplay\u001b[0;34m(chords, scale, edo, client, dur, sus, delay, synth_idx, rep, muls, amps, voice_amps)\u001b[0m\n\u001b[1;32m     88\u001b[0m \u001b[39mif\u001b[39;00m muls:\n\u001b[1;32m     89\u001b[0m     sleep_dur \u001b[39m*\u001b[39m\u001b[39m=\u001b[39m muls[chord_idx]\n\u001b[0;32m---> 90\u001b[0m time\u001b[39m.\u001b[39;49msleep(sleep_dur)\n",
      "\u001b[0;31mKeyboardInterrupt\u001b[0m: "
     ]
    }
   ],
   "source": [
    "# todo: kick, open hi-hat, closed hi-hat\n",
    "\n",
    "# Bass drum: Uses both operators. Essentially just doubles output amplitude?\n",
    "# Hi-hat: Uses modulator settings. Half-sine recommended.\n",
    "\n",
    "# Snare: Uses carrier settings. Abs-sine waveform recommended.\n",
    "# Tom: Uses modulator settings. Sine waveform recommended.\n",
    "# Cymbal: Uses carrier settings. Half-sine recommended.\n",
    "\n",
    "from domblar.rhythm import rhythm_to_notes\n",
    "\n",
    "# four on the floor\n",
    "\n",
    "def set_synths():\n",
    "    d.set_synth(0, 'bdrum_ok')\n",
    "    d.set_synth(1, 'sdrum2')\n",
    "    d.set_synth(2, 'h_hit1')\n",
    "    d.set_synth(3, 'h_hit1')\n",
    "set_synths()\n",
    "\n",
    "edo = 2\n",
    "scale = list(range(edo))\n",
    "\n",
    "kick_voice = 'x...' * 4\n",
    "kick_voice = rhythm_to_notes(kick_voice, -2 * edo)\n",
    "print(kick_voice)\n",
    "snare_voice = (['.'] * 4 + ['x', '.', '.', '.']) * 2\n",
    "snare_voice = rhythm_to_notes(snare_voice, -4 * edo)\n",
    "print(snare_voice)\n",
    "closed_hihat_voice = ['.'] * 8 + ['.', 'x', '.', '.'] + ['.'] * 4\n",
    "closed_hihat_voice = rhythm_to_notes(closed_hihat_voice, 0)\n",
    "print(closed_hihat_voice)\n",
    "open_hihat_voice = ['.', '.', 'x', '.'] * 4\n",
    "open_hihat_voice = rhythm_to_notes(open_hihat_voice, -edo)\n",
    "print(open_hihat_voice)\n",
    "voices = list(zip(kick_voice, snare_voice, closed_hihat_voice, open_hihat_voice))\n",
    "# voices = list(zip(kick_voice, open_hihat_voice))\n",
    "\n",
    "for _ in range(4):\n",
    "    d.play(voices, scale, edo, synth_idx=[0, 1, 2, 3], dur=0.12)\n"
   ]
  },
  {
   "cell_type": "code",
   "execution_count": null,
   "id": "1a5907f5",
   "metadata": {},
   "outputs": [
    {
     "name": "stdout",
     "output_type": "stream",
     "text": [
      "[0, '.', '.', 0, '.', '.', 0, '.', '.', 0, '.', 0, '.', '.', 0, '.', '.', 0, '.', '.', 0, '.']\n",
      "[-8]\n"
     ]
    },
    {
     "ename": "KeyboardInterrupt",
     "evalue": "",
     "output_type": "error",
     "traceback": [
      "\u001b[0;31m---------------------------------------------------------------------------\u001b[0m",
      "\u001b[0;31mKeyboardInterrupt\u001b[0m                         Traceback (most recent call last)",
      "\u001b[0;32m<ipython-input-21-c21c4c601818>\u001b[0m in \u001b[0;36m<cell line: 114>\u001b[0;34m()\u001b[0m\n\u001b[1;32m    112\u001b[0m \u001b[0;34m\u001b[0m\u001b[0m\n\u001b[1;32m    113\u001b[0m \u001b[0;31m# for _ in range(4):\u001b[0m\u001b[0;34m\u001b[0m\u001b[0;34m\u001b[0m\u001b[0;34m\u001b[0m\u001b[0m\n\u001b[0;32m--> 114\u001b[0;31m \u001b[0mplay_events\u001b[0m\u001b[0;34m(\u001b[0m\u001b[0md\u001b[0m\u001b[0;34m,\u001b[0m \u001b[0mevents\u001b[0m\u001b[0;34m,\u001b[0m \u001b[0mbeat\u001b[0m\u001b[0;34m=\u001b[0m\u001b[0;36m1.5\u001b[0m\u001b[0;34m)\u001b[0m\u001b[0;34m\u001b[0m\u001b[0;34m\u001b[0m\u001b[0m\n\u001b[0m\u001b[1;32m    115\u001b[0m \u001b[0;34m\u001b[0m\u001b[0m\n\u001b[1;32m    116\u001b[0m \u001b[0;31m# TODO:\u001b[0m\u001b[0;34m\u001b[0m\u001b[0;34m\u001b[0m\u001b[0;34m\u001b[0m\u001b[0m\n",
      "\u001b[0;32m<ipython-input-21-c21c4c601818>\u001b[0m in \u001b[0;36mplay_events\u001b[0;34m(d, voices, beat)\u001b[0m\n\u001b[1;32m     61\u001b[0m         \u001b[0;32mif\u001b[0m \u001b[0mwaiting\u001b[0m \u001b[0;32mand\u001b[0m \u001b[0;32mnot\u001b[0m \u001b[0mprogressed\u001b[0m\u001b[0;34m:\u001b[0m\u001b[0;34m\u001b[0m\u001b[0;34m\u001b[0m\u001b[0m\n\u001b[1;32m     62\u001b[0m             \u001b[0;31m# sleep smallest beat division that we observed so far\u001b[0m\u001b[0;34m\u001b[0m\u001b[0;34m\u001b[0m\u001b[0;34m\u001b[0m\u001b[0m\n\u001b[0;32m---> 63\u001b[0;31m             \u001b[0mtime\u001b[0m\u001b[0;34m.\u001b[0m\u001b[0msleep\u001b[0m\u001b[0;34m(\u001b[0m\u001b[0mbetween_sleep\u001b[0m\u001b[0;34m)\u001b[0m\u001b[0;34m\u001b[0m\u001b[0;34m\u001b[0m\u001b[0m\n\u001b[0m\u001b[1;32m     64\u001b[0m \u001b[0;34m\u001b[0m\u001b[0m\n\u001b[1;32m     65\u001b[0m     \u001b[0mtime\u001b[0m\u001b[0;34m.\u001b[0m\u001b[0msleep\u001b[0m\u001b[0;34m(\u001b[0m\u001b[0mfinal_sleep\u001b[0m \u001b[0;34m-\u001b[0m \u001b[0mtime\u001b[0m\u001b[0;34m.\u001b[0m\u001b[0mtime\u001b[0m\u001b[0;34m(\u001b[0m\u001b[0;34m)\u001b[0m\u001b[0;34m)\u001b[0m\u001b[0;34m\u001b[0m\u001b[0;34m\u001b[0m\u001b[0m\n",
      "\u001b[0;31mKeyboardInterrupt\u001b[0m: "
     ]
    }
   ],
   "source": [
    "import time\n",
    "\n",
    "from domblar.rhythm import rhythm_to_notes\n",
    "from domblar.edo import get_freq\n",
    "\n",
    "# polyrhythms\n",
    "\n",
    "def set_synths():\n",
    "    d.set_synth(0, 'timpani2')\n",
    "    d.set_synth(1, 'snare1')\n",
    "    # d.set_synth(2, 'closed_hi_hat')\n",
    "    # d.set_synth(3, 'hi_hat')\n",
    "set_synths()\n",
    "\n",
    "def play_events(d, voices, beat):\n",
    "    # event: (note, edo, scale, dur: float, sus, amp, synth_idx)\n",
    "    # voices: [[event]]\n",
    "    # each idx is separate voice/channel\n",
    "\n",
    "    last_event_idx = [0] * len(voices)\n",
    "    last_event_time = [0] * len(voices)\n",
    "    final_sleep = 0\n",
    "    between_sleep = beat\n",
    "    start_time = time.time()\n",
    "\n",
    "    beats_ahead = 1  # FIXME: how much do we need this?\n",
    "\n",
    "    progressed = True\n",
    "    waiting = False\n",
    "    while progressed or waiting:\n",
    "        progressed = False\n",
    "        waiting = False\n",
    "        for voice_idx in range(len(voices)):\n",
    "            if last_event_idx[voice_idx] >= len(voices[voice_idx]):\n",
    "                continue\n",
    "            waiting = True\n",
    "            cur_beat = (time.time() - start_time) / beat\n",
    "            if last_event_time[voice_idx] / beat > cur_beat + beats_ahead:\n",
    "                continue\n",
    "\n",
    "            note, edo, scale, dur, sus, amp, synth_idx = voices[voice_idx][last_event_idx[voice_idx]]\n",
    "            freq = get_freq(note, scale, edo)\n",
    "            cur_beat = (time.time() - start_time)\n",
    "            if last_event_time[voice_idx] > cur_beat + beats_ahead * beat:\n",
    "                continue\n",
    "            send_note_dur = beat * sus\n",
    "            time_increase = beat * dur\n",
    "            timetag = start_time + last_event_time[voice_idx]\n",
    "            between_sleep = min(between_sleep, time_increase)\n",
    "            final_sleep = max(final_sleep, timetag + time_increase)\n",
    "\n",
    "            d.client.send_note(\n",
    "                synth_idx,\n",
    "                freq=freq, dur=send_note_dur, amp=amp,\n",
    "                timetag=timetag, channel=0)  # TODO: for MPE with channels use channel=note_idx\n",
    "\n",
    "            last_event_idx[voice_idx] += 1\n",
    "            last_event_time[voice_idx] += time_increase\n",
    "            progressed = True\n",
    "\n",
    "        if waiting and not progressed:\n",
    "            # sleep smallest beat division that we observed so far\n",
    "            time.sleep(between_sleep)\n",
    "\n",
    "    time.sleep(final_sleep - time.time())\n",
    "\n",
    "\n",
    "edo = 2\n",
    "scale = list(range(edo))\n",
    "\n",
    "events = [[], []]\n",
    "\n",
    "# TODO: replace with 'x...' * 4\n",
    "kick_voice = 'x..x..x..x.' * 2  # 22 notes\n",
    "kick_voice = rhythm_to_notes(kick_voice, 0)\n",
    "print(kick_voice)\n",
    "kick_dur = 1\n",
    "kick_sum_dur = 0\n",
    "for rep in range(10):\n",
    "    for note in kick_voice:\n",
    "        dur = kick_dur / len(kick_voice)\n",
    "        kick_sum_dur += dur\n",
    "        sus = dur * 0.8\n",
    "        amp = 1\n",
    "        synth_idx = voice_idx = 0\n",
    "        events[voice_idx].append((note, edo, scale, dur, sus, amp, synth_idx))\n",
    "\n",
    "\n",
    "# snare_voice = '.x.x' * 5  # 20 notes\n",
    "snare_voice = 'x'  # 1 note\n",
    "snare_voice = rhythm_to_notes(snare_voice, -4 * edo)\n",
    "print(snare_voice)\n",
    "snare_sum_dur = 0\n",
    "for rep in range(11):\n",
    "    for note in snare_voice:\n",
    "        dur = kick_dur * 20/22 / len(snare_voice)\n",
    "        snare_sum_dur += dur\n",
    "        sus = dur * 0.5\n",
    "        amp = 1\n",
    "        synth_idx = voice_idx = 1\n",
    "        events[voice_idx].append((note, edo, scale, dur, sus, amp, synth_idx))\n",
    "\n",
    "# print('durs', kick_sum_dur, snare_sum_dur)\n",
    "\n",
    "# closed_hihat_voice = ['.'] * 8 + ['.', 'x', '.', '.'] + ['.'] * 4\n",
    "# closed_hihat_voice = rhythm_to_notes(closed_hihat_voice, -edo)\n",
    "# print(closed_hihat_voice)\n",
    "# open_hihat_voice = ['.', '.', 'x', '.'] * 4\n",
    "# open_hihat_voice = rhythm_to_notes(open_hihat_voice, -8 * edo)\n",
    "# print(open_hihat_voice)\n",
    "# voices = list(zip(kick_voice, snare_voice, closed_hihat_voice, open_hihat_voice))\n",
    "\n",
    "# for _ in range(4):\n",
    "play_events(d, events, beat=1.5)\n",
    "\n",
    "# TODO:\n",
    "# - mini-notation for polyrhythms\n",
    "# - support several streams\n",
    "# - rational numbers\n",
    "# - understanding what is playing concurrently and\n",
    "# coordinating compatibility of simultaneous sounds\n",
    "# - sync streams\n",
    "\n"
   ]
  },
  {
   "cell_type": "code",
   "execution_count": null,
   "id": "2594bdcb",
   "metadata": {},
   "outputs": [],
   "source": []
  },
  {
   "cell_type": "code",
   "execution_count": null,
   "id": "96e43f9e",
   "metadata": {},
   "outputs": [
    {
     "name": "stdout",
     "output_type": "stream",
     "text": [
      "[-2, '.', '.', '.', -2, '.', '.', '.', -2, '.', '.', '.', -2, '.', '.', '.']\n",
      "['.', '.', '.', '.', -8, '.', '.', '.', '.', '.', '.', '.', -8, '.', '.', '.']\n",
      "['.', '.', '.', '.', '.', '.', '.', '.', '.', -2, '.', '.', '.', '.', '.', '.']\n",
      "['.', '.', -16, '.', '.', '.', -16, '.', '.', '.', -16, '.', '.', '.', -16, '.']\n"
     ]
    }
   ],
   "source": []
  },
  {
   "cell_type": "code",
   "execution_count": null,
   "id": "6ca55786",
   "metadata": {},
   "outputs": [
    {
     "name": "stdout",
     "output_type": "stream",
     "text": [
      "[0, 0, '.', '.', '.', '.', '.', 0, '.', '.', 0, 0, '.', '.', '.', '.']\n",
      "['.', '.', '.', '.', 2, '.', '.', '.', '.', '.', '.', '.', 2, '.', '.', '.']\n",
      "[-16, '.', -16, '.', -16, '.', -16, '.', -16, '.', -16, '.', -16, '.', -16, '.']\n"
     ]
    }
   ],
   "source": [
    "# the levee break\n",
    "\n",
    "def set_synths():\n",
    "    d.set_synth(0, 'kick03')\n",
    "    d.set_synth(1, 'log_drum')\n",
    "    d.set_synth(2, 'closed_hi_hat')\n",
    "set_synths()\n",
    "\n",
    "edo = 2\n",
    "scale = list(range(edo))\n",
    "\n",
    "kick_voice = ['x', 'x', '.', '.'] + ['.', '.', '.', 'x'] + ['.', '.', 'x', 'x'] + ['.'] * 4\n",
    "kick_voice = rhythm_to_notes(kick_voice, 0)\n",
    "print(kick_voice)\n",
    "snare_voice = (['.'] * 4 + ['x', '.', '.', '.']) * 2\n",
    "snare_voice = rhythm_to_notes(snare_voice, edo)\n",
    "print(snare_voice)\n",
    "closed_hihat_voice = ['x', '.'] * 8\n",
    "closed_hihat_voice = rhythm_to_notes(closed_hihat_voice, -8*edo)\n",
    "print(closed_hihat_voice)\n",
    "voices = list(zip(kick_voice, snare_voice, closed_hihat_voice))\n",
    "\n",
    "\n",
    "for _ in range(4):\n",
    "    d.play(voices, scale, edo, synth_idx=[0, 1, 2], dur=0.15)\n"
   ]
  },
  {
   "cell_type": "code",
   "execution_count": null,
   "id": "e0eaec24",
   "metadata": {},
   "outputs": [],
   "source": [
    "# FIXME: replace with method/function\n",
    "finetuning = 0\n",
    "synth_idx = 0\n",
    "\n",
    "try:\n",
    "    finetuning\n",
    "except Exception as e:\n",
    "    d.open_editor(synth_idx)\n",
    "    finetuning = 1\n",
    "else:\n",
    "    if finetuning == 0:\n",
    "        d.open_editor(synth_idx)\n",
    "    elif finetuning == 1:\n",
    "        # transfer instrument to all synths\n",
    "        d.save_preset(synth_idx)\n",
    "        import time\n",
    "        time.sleep(0.5)\n",
    "        for i in range(synth_count):\n",
    "            d.load_preset(i)\n",
    "    else:\n",
    "        d.print_params(synth_idx)"
   ]
  },
  {
   "cell_type": "code",
   "execution_count": null,
   "id": "b48c0364",
   "metadata": {},
   "outputs": [],
   "source": [
    "# cleanup\n",
    "d.stop_server()"
   ]
  }
 ],
 "metadata": {
  "kernelspec": {
   "display_name": "py38",
   "language": "python",
   "name": "python3"
  },
  "language_info": {
   "codemirror_mode": {
    "name": "ipython",
    "version": 3
   },
   "file_extension": ".py",
   "mimetype": "text/x-python",
   "name": "python",
   "nbconvert_exporter": "python",
   "pygments_lexer": "ipython3",
   "version": "3.10.11"
  },
  "vscode": {
   "interpreter": {
    "hash": "fbf0dd17592d3ca6e635cabb1c16d1355bb8d9b58dd5152262ed90a953ba68fb"
   }
  }
 },
 "nbformat": 4,
 "nbformat_minor": 5
}
