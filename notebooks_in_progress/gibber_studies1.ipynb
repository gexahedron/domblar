{
 "cells": [
  {
   "cell_type": "code",
   "execution_count": 1,
   "id": "bc0f05eb",
   "metadata": {},
   "outputs": [],
   "source": [
    "from setup import D\n",
    "\n",
    "synth_count = 5\n",
    "d = D(\n",
    "    synth_count=synth_count,\n",
    "    context='tyrelln6',\n",
    ")\n",
    "\n",
    "def finetune(state=0, synth_idx=0):\n",
    "    match state:\n",
    "        case 0:\n",
    "            d.open_editor(synth_idx)\n",
    "        case 1:\n",
    "            # transfer instrument to all synths\n",
    "            d.save_preset(synth_idx)\n",
    "            import time\n",
    "            time.sleep(0.5)\n",
    "            for i in range(synth_count):\n",
    "                d.load_preset(i)\n",
    "        case _:\n",
    "            d.print_params(synth_idx)\n"
   ]
  },
  {
   "cell_type": "code",
   "execution_count": 2,
   "id": "288569ab",
   "metadata": {},
   "outputs": [],
   "source": [
    "// hit alt+enter to run all code\n",
    "// or run line/selection with ctrl+enter.\n",
    "// ctrl+period to stop all sounds.\n",
    " \n",
    "Theory.tuning = 'slendro'\n",
    "Theory.mode = null\n",
    "  \n",
    "verb  = Reverb( 'space' ).bus()\n",
    "delay = Delay( '1/3' ).bus().connect( verb, .1 )\n",
    "  \n",
    "perc = FM[3]( 'perc' )\n",
    "  .connect( delay, .65 ).connect( verb, .35 )\n",
    "  .spread(.975)\n",
    "  .note.seq( sine( btof(8),7,0 ), 1/8,  0 )\n",
    "  .note.seq( sine( btof(4),3,0 ), 1/16, 1 )\n",
    "  .note.seq( sine( btof(8),7,7 ), 1/6,  2 )\n",
    "  .loudness.seq( sine(4.33,.35,.7)  )\n",
    " \n",
    "kik = Kick()\n",
    "  .trigger.seq( 1,1/4 )\n",
    " \n",
    "hat = Hat({ decay:.0125 })\n",
    "  .trigger.seq( [1,.5], 1/4, 0, 1/8 )\n",
    " \n",
    "bass = Synth( 'bass.hollow' )\n",
    "  .note.seq( [0,1,2,-1], 1 )\n",
    "  .trigger.seq( [.75,.5,.25], [1/4,1/8] )\n",
    " \n",
    "clave = Clave({ gain:.1 }).connect( verb, .25 )\n",
    "  .trigger.seq( .5, e = Euclid(3,8) )\n",
    " \n",
    "e.rotate.seq( [1,-1], 2, 0, 4 )\n",
    " \n",
    "fm = FM({ feedback:.0015, decay:1/2 })\n",
    "  .connect( verb, .35 ).connect( delay, .125 )\n",
    "  .note.seq( \n",
    "    sine( btof(4.5),4,5 ), \n",
    "    Hex(0x8032,1/4 ),\n",
    "    0,\n",
    "    8\n",
    "  )"
   ]
  },
  {
   "cell_type": "code",
   "execution_count": 8,
   "id": "fe562959",
   "metadata": {},
   "outputs": [],
   "source": [
    "finetune(0)"
   ]
  }
 ],
 "metadata": {
  "kernelspec": {
   "display_name": "Python 3 (ipykernel)",
   "language": "python",
   "name": "python3"
  },
  "language_info": {
   "codemirror_mode": {
    "name": "ipython",
    "version": 3
   },
   "file_extension": ".py",
   "mimetype": "text/x-python",
   "name": "python",
   "nbconvert_exporter": "python",
   "pygments_lexer": "ipython3",
   "version": "3.10.11"
  },
  "vscode": {
   "interpreter": {
    "hash": "fbf0dd17592d3ca6e635cabb1c16d1355bb8d9b58dd5152262ed90a953ba68fb"
   }
  }
 },
 "nbformat": 4,
 "nbformat_minor": 5
}
