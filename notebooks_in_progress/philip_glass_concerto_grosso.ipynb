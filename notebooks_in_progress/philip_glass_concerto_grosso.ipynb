{
 "cells": [
  {
   "cell_type": "code",
   "execution_count": 1,
   "id": "f09b0507",
   "metadata": {},
   "outputs": [],
   "source": [
    "from setup import D\n",
    "\n",
    "synth_count = 4\n",
    "d = D(\n",
    "    synth_count=synth_count,\n",
    "    context='tyrelln6'\n",
    ")"
   ]
  },
  {
   "cell_type": "code",
   "execution_count": 27,
   "id": "83868016",
   "metadata": {},
   "outputs": [],
   "source": [
    "# Philip Glass - Concerto Grosso\n",
    "\n",
    "from domblar.gestures import apply_gestures\n",
    "\n",
    "def set_synths():\n",
    "    for i in range(synth_count):\n",
    "        d.set_synth(i, 'syn_harp')\n",
    "set_synths()\n",
    "\n",
    "class Event:\n",
    "    pass\n",
    "    # synth / voice\n",
    "    # onset time; or offset event, to end the drone\n",
    "    # freq; or note; FIXME Note class\n",
    "    # sustain; or None, if drone\n",
    "    # amplitude\n",
    "    # envelope\n",
    "    # ...\n",
    "\n",
    "def par(v1, v2):\n",
    "    # combine v1 and v2\n",
    "    # convert to list of events\n",
    "    events = []\n",
    "    for v in [v1, v2]:\n",
    "        for n in v:\n",
    "            # FIXME: add info about synth\n",
    "            events.append(Event(n))\n",
    "    pass\n",
    "\n",
    "edo = 12\n",
    "scale = list(range(edo))\n",
    "\n",
    "# FIXME: this is ugly\n",
    "pc = [[5, 9, 11, 12]]\n",
    "# pc = [[5, 8, 11, 12]]\n",
    "# pc = [[5, 8, 10, 11]]\n",
    "# pc = [[5, 7, 8, 10]]\n",
    "gesture = [0, 1, 2, 3, 2, 3, 2]\n",
    "gesture = [[x] for x in gesture]\n",
    "pc = pc * len(gesture)\n",
    "phrase = apply_gestures(pc, gesture, edo)\n",
    "\n",
    "gesture2 = [0, 1, 2, (0, 1), 2, (0, 1), 2]\n",
    "gesture2 = [[x] for x in gesture2]\n",
    "phrase2 = apply_gestures(pc, gesture2, edo)\n",
    "\n",
    "# FIXME: combine 2 voices together\n",
    "music = par(phrase, phrase2)\n",
    "akdfaksdjf  # code is broken at the moment\n",
    "\n",
    "dur = 0.22\n",
    "d.play(music, scale, edo,\n",
    "       synth_idx=[0],\n",
    "       dur=dur, sus=dur * 0.9,)\n"
   ]
  },
  {
   "cell_type": "code",
   "execution_count": 85,
   "id": "20dec18e",
   "metadata": {},
   "outputs": [],
   "source": [
    "finetuning = 0\n",
    "\n",
    "try:\n",
    "    finetuning\n",
    "except Exception as e:\n",
    "    d.open_editor(0)\n",
    "    finetuning = 1\n",
    "else:\n",
    "    if finetuning == 0:\n",
    "        d.open_editor(0)\n",
    "    elif finetuning == 1:\n",
    "        # transfer instrument to all synths\n",
    "        d.save_preset(0)\n",
    "        import time\n",
    "        time.sleep(0.5)\n",
    "        for i in range(synth_count):\n",
    "            d.load_preset(i)\n",
    "    else:\n",
    "        d.print_params(0)"
   ]
  },
  {
   "cell_type": "code",
   "execution_count": null,
   "id": "b48c0364",
   "metadata": {},
   "outputs": [],
   "source": [
    "# cleanup\n",
    "d.stop_server()"
   ]
  },
  {
   "cell_type": "code",
   "execution_count": null,
   "id": "85fcb657",
   "metadata": {},
   "outputs": [],
   "source": []
  }
 ],
 "metadata": {
  "kernelspec": {
   "display_name": "py38",
   "language": "python",
   "name": "python3"
  },
  "language_info": {
   "codemirror_mode": {
    "name": "ipython",
    "version": 3
   },
   "file_extension": ".py",
   "mimetype": "text/x-python",
   "name": "python",
   "nbconvert_exporter": "python",
   "pygments_lexer": "ipython3",
   "version": "3.10.11"
  },
  "vscode": {
   "interpreter": {
    "hash": "fbf0dd17592d3ca6e635cabb1c16d1355bb8d9b58dd5152262ed90a953ba68fb"
   }
  }
 },
 "nbformat": 4,
 "nbformat_minor": 5
}
