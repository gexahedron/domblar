{
 "cells": [
  {
   "cell_type": "code",
   "execution_count": 6,
   "id": "bc0f05eb",
   "metadata": {},
   "outputs": [],
   "source": [
    "from typing import Callable, TypeVar, Generic, List\n",
    "\n",
    "from fractions import Fraction\n",
    "\n",
    "T = TypeVar('T')\n",
    "\n",
    "class Span():\n",
    "    def __init__(self, begin: Fraction, end: Fraction):\n",
    "        assert isinstance(begin, Fraction)\n",
    "        assert isinstance(end, Fraction)\n",
    "        self.b = begin\n",
    "        self.e = end\n",
    "\n",
    "class Event(Generic[T]):\n",
    "    def __init__(self, active: Span, value: T):\n",
    "        self.active = active\n",
    "        self.value = value\n",
    "\n",
    "class Pattern(Generic[T]):\n",
    "    def __init__(self, query: Callable[[Span], List[T]]):\n",
    "        self.query = query\n",
    "\n",
    "def saw_func(ts: Span) -> List[Fraction]:\n",
    "    return [(ts.b + (ts.e - ts.b) / 2) % 1]\n",
    "\n",
    "saw = Pattern(query=saw_func)\n"
   ]
  },
  {
   "cell_type": "code",
   "execution_count": 10,
   "id": "6958cd0d",
   "metadata": {},
   "outputs": [
    {
     "data": {
      "text/plain": [
       "[Fraction(2, 5)]"
      ]
     },
     "execution_count": 10,
     "metadata": {},
     "output_type": "execute_result"
    }
   ],
   "source": [
    "saw_func(Span(Fraction(7, 5), Fraction(7, 5)))"
   ]
  },
  {
   "cell_type": "code",
   "execution_count": null,
   "id": "b7db21f2",
   "metadata": {},
   "outputs": [],
   "source": []
  }
 ],
 "metadata": {
  "kernelspec": {
   "display_name": "Python 3 (ipykernel)",
   "language": "python",
   "name": "python3"
  },
  "language_info": {
   "codemirror_mode": {
    "name": "ipython",
    "version": 3
   },
   "file_extension": ".py",
   "mimetype": "text/x-python",
   "name": "python",
   "nbconvert_exporter": "python",
   "pygments_lexer": "ipython3",
   "version": "3.10.11"
  },
  "vscode": {
   "interpreter": {
    "hash": "fbf0dd17592d3ca6e635cabb1c16d1355bb8d9b58dd5152262ed90a953ba68fb"
   }
  }
 },
 "nbformat": 4,
 "nbformat_minor": 5
}
