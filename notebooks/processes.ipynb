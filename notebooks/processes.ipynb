{
 "cells": [
  {
   "cell_type": "code",
   "execution_count": 5,
   "id": "4987b6f7",
   "metadata": {},
   "outputs": [
    {
     "name": "stdout",
     "output_type": "stream",
     "text": [
      "f ('a', 'b')\n",
      "{'a': 2, 'b': 3}\n",
      "keys dict_keys(['sum'])\n"
     ]
    },
    {
     "data": {
      "text/plain": [
       "{'sum': 5}"
      ]
     },
     "execution_count": 5,
     "metadata": {},
     "output_type": "execute_result"
    }
   ],
   "source": [
    "import inspect\n",
    "from functools import wraps\n",
    "\n",
    "\n",
    "def get_default_args(func):\n",
    "    signature = inspect.signature(func)\n",
    "    return {\n",
    "        k: v.default\n",
    "        for k, v in signature.parameters.items()\n",
    "        if v.default is not inspect.Parameter.empty\n",
    "    }\n",
    "\n",
    "\n",
    "def block(func):\n",
    "    @wraps(func)\n",
    "    def filter_kwargs(*args, **kwargs):\n",
    "        # FIXME: make this assert more nice\n",
    "        # replace with printing info that we accept only named variables\n",
    "        assert len(args) == 0\n",
    "        print(func.__name__, func.__code__.co_varnames)\n",
    "        default_args = get_default_args(func)\n",
    "        print(kwargs)\n",
    "        selected_kwargs = {}\n",
    "        for key in func.__code__.co_varnames:\n",
    "            # FIXME: make this assert more nice\n",
    "            # e. g., display a message that graph doesn't compile\n",
    "            assert (key in kwargs) or (key in default_args)\n",
    "            if key in kwargs:\n",
    "                selected_kwargs[key] = kwargs[key]\n",
    "            else:\n",
    "                selected_kwargs[key] = default_args[key]\n",
    "        for key in kwargs:\n",
    "            # TODO: make this configurable\n",
    "            assert key in func.__code__.co_varnames\n",
    "        result = func(**selected_kwargs)\n",
    "        # FIXME: make this assert more nice\n",
    "        # e. g., display a message that graph doesn't compile\n",
    "        assert type(result) is dict\n",
    "        # TODO: register function, inputs and outputs\n",
    "        # TODO: how to call a fuction by name\n",
    "        # https://stackoverflow.com/questions/3061/calling-a-function-of-a-module-by-using-its-name-a-string\n",
    "        return result\n",
    "    return filter_kwargs\n",
    "\n",
    "\n",
    "@block\n",
    "def f(a, b=4):\n",
    "    return {'sum': a + b}\n",
    "\n",
    "# f(a=2, c=3)\n",
    "f(a=2, b=3)\n"
   ]
  },
  {
   "cell_type": "code",
   "execution_count": 1,
   "id": "368d2835",
   "metadata": {},
   "outputs": [
    {
     "ename": "NameError",
     "evalue": "name 'build_graph' is not defined",
     "output_type": "error",
     "traceback": [
      "\u001b[0;31m---------------------------------------------------------------------------\u001b[0m",
      "\u001b[0;31mNameError\u001b[0m                                 Traceback (most recent call last)",
      "\u001b[0;32m<ipython-input-1-6265862b8302>\u001b[0m in \u001b[0;36m<cell line: 5>\u001b[0;34m()\u001b[0m\n\u001b[1;32m      3\u001b[0m \u001b[0;31m# TODO: time tracker\u001b[0m\u001b[0;34m\u001b[0m\u001b[0;34m\u001b[0m\u001b[0;34m\u001b[0m\u001b[0m\n\u001b[1;32m      4\u001b[0m \u001b[0;31m# TODO: blocks\u001b[0m\u001b[0;34m\u001b[0m\u001b[0;34m\u001b[0m\u001b[0;34m\u001b[0m\u001b[0m\n\u001b[0;32m----> 5\u001b[0;31m \u001b[0mgraph\u001b[0m \u001b[0;34m=\u001b[0m \u001b[0mbuild_graph\u001b[0m\u001b[0;34m(\u001b[0m\u001b[0mblocks\u001b[0m\u001b[0;34m)\u001b[0m  \u001b[0;31m# TODO\u001b[0m\u001b[0;34m\u001b[0m\u001b[0;34m\u001b[0m\u001b[0m\n\u001b[0m\u001b[1;32m      6\u001b[0m \u001b[0;32mfor\u001b[0m \u001b[0mt\u001b[0m \u001b[0;32min\u001b[0m \u001b[0mrange\u001b[0m\u001b[0;34m(\u001b[0m\u001b[0;36m10\u001b[0m\u001b[0;34m)\u001b[0m\u001b[0;34m:\u001b[0m\u001b[0;34m\u001b[0m\u001b[0;34m\u001b[0m\u001b[0m\n\u001b[1;32m      7\u001b[0m     \u001b[0mrun_graph\u001b[0m\u001b[0;34m(\u001b[0m\u001b[0mt\u001b[0m\u001b[0;34m)\u001b[0m  \u001b[0;31m# TODO\u001b[0m\u001b[0;34m\u001b[0m\u001b[0;34m\u001b[0m\u001b[0m\n",
      "\u001b[0;31mNameError\u001b[0m: name 'build_graph' is not defined"
     ]
    }
   ],
   "source": [
    "# simulator\n",
    "\n",
    "# TODO: time tracker\n",
    "# TODO: blocks\n",
    "graph = build_graph(blocks)  # TODO: use all available blocks\n",
    "# TODO: or maybe we could also build custom graph with mini-notation\n",
    "for t in range(10):\n",
    "    run_graph(t)  # TODO\n",
    "\n",
    "# we should probably also have other options to run the graph\n",
    "# in some other regimes\n",
    "# e. g., some kind of live-coding-loop regime\n",
    "# or depending on [0, 1] time\n",
    "# or position in bar or 4-bar cycle\n",
    "# or just having infinite stream, not depending on anything in particular"
   ]
  },
  {
   "cell_type": "code",
   "execution_count": 1,
   "id": "29e1f8a1",
   "metadata": {},
   "outputs": [
    {
     "name": "stdout",
     "output_type": "stream",
     "text": [
      "4\n"
     ]
    }
   ],
   "source": [
    "class Config():\n",
    "    def __init__(self):\n",
    "        pass\n",
    "\n",
    "    def __getattr__(self, name):\n",
    "        if name[0] == '_':\n",
    "            setattr(self, name, self)\n",
    "            def wrapper(*args, **kwargs):\n",
    "                assert len(args) == 1\n",
    "                assert not kwargs\n",
    "                self[name[1:]] = args[0]\n",
    "                return self\n",
    "            return wrapper\n",
    "        else:\n",
    "            return self[name]\n",
    "\n",
    "    def __setitem__(self, key, value):\n",
    "        setattr(self, key, value)\n",
    "\n",
    "m = Config()\n",
    "m._amp(4)\n",
    "print(m.amp)"
   ]
  },
  {
   "cell_type": "code",
   "execution_count": 6,
   "id": "ad930bd7",
   "metadata": {},
   "outputs": [
    {
     "name": "stdout",
     "output_type": "stream",
     "text": [
      "Sum with arg1 as integer. 2 + 3 = 5\n",
      "Sum with arg1 as float. 2.1 + 3.4 = 5.5\n",
      "Default implementation with arg1 = hi and arg2 = 3.4\n"
     ]
    }
   ],
   "source": [
    "# multiple dispatch example in python\n",
    "\n",
    "from functools import singledispatchmethod\n",
    "\n",
    "class Sum:\n",
    "\n",
    "    @singledispatchmethod\n",
    "    def sumMethod(self, arg1, arg2):\n",
    "        print(\"Default implementation with arg1 = %s and arg2 = %s\" % (arg1, arg2))\n",
    "\n",
    "    @sumMethod.register(int)\n",
    "    def _(self, arg1, arg2):\n",
    "        print(\"Sum with arg1 as integer. %s + %s = %s\" % (arg1, arg2, arg1 + arg2))\n",
    "\n",
    "    @sumMethod.register(float)\n",
    "    def _(self, arg1, arg2):\n",
    "        print(\"Sum with arg1 as float. %s + %s = %s\" % (arg1, arg2, arg1 + arg2))\n",
    "\n",
    "\n",
    "s = Sum()\n",
    "s.sumMethod(2, 3)\n",
    "s.sumMethod(2.1, 3.4)\n",
    "s.sumMethod(\"hi\", 3.4)\n"
   ]
  }
 ],
 "metadata": {
  "kernelspec": {
   "display_name": "py38",
   "language": "python",
   "name": "python3"
  },
  "language_info": {
   "codemirror_mode": {
    "name": "ipython",
    "version": 3
   },
   "file_extension": ".py",
   "mimetype": "text/x-python",
   "name": "python",
   "nbconvert_exporter": "python",
   "pygments_lexer": "ipython3",
   "version": "3.8.10"
  },
  "vscode": {
   "interpreter": {
    "hash": "fbf0dd17592d3ca6e635cabb1c16d1355bb8d9b58dd5152262ed90a953ba68fb"
   }
  }
 },
 "nbformat": 4,
 "nbformat_minor": 5
}
