{
 "cells": [
  {
   "cell_type": "code",
   "execution_count": 27,
   "id": "4987b6f7",
   "metadata": {},
   "outputs": [
    {
     "name": "stdout",
     "output_type": "stream",
     "text": [
      "f ('a', 'b')\n",
      "{'a': 2, 'b': 3}\n",
      "5\n"
     ]
    }
   ],
   "source": [
    "import inspect\n",
    "from functools import wraps\n",
    "\n",
    "\n",
    "def get_default_args(func):\n",
    "    signature = inspect.signature(func)\n",
    "    return {\n",
    "        k: v.default\n",
    "        for k, v in signature.parameters.items()\n",
    "        if v.default is not inspect.Parameter.empty\n",
    "    }\n",
    "\n",
    "\n",
    "def block(func):\n",
    "    @wraps(func)\n",
    "    def filter_kwargs(*args, **kwargs):\n",
    "        # FIXME: make this assert more nice\n",
    "        # replace with printing info that we accept only named variables\n",
    "        assert len(args) == 0\n",
    "        print(func.__name__, func.__code__.co_varnames)\n",
    "        default_args = get_default_args(func)\n",
    "        print(kwargs)\n",
    "        selected_kwargs = {}\n",
    "        for key in func.__code__.co_varnames:\n",
    "            # FIXME: make this assert more nice\n",
    "            # e. g., display a message that graph doesn't compile\n",
    "            assert (key in kwargs) or (key in default_args)\n",
    "            if key in kwargs:\n",
    "                selected_kwargs[key] = kwargs[key]\n",
    "            else:\n",
    "                selected_kwargs[key] = default_args[key]\n",
    "        for key in kwargs:\n",
    "            # TODO: make this configurable\n",
    "            assert key in func.__code__.co_varnames\n",
    "        result = func(**selected_kwargs)\n",
    "        # FIXME: make this assert more nice\n",
    "        # e. g., display a message that graph doesn't compile\n",
    "        assert type(result) is dict\n",
    "        # TODO: register function, inputs and outputs\n",
    "        # TODO: how to call a fuction by name\n",
    "        # https://stackoverflow.com/questions/3061/calling-a-function-of-a-module-by-using-its-name-a-string\n",
    "        return result\n",
    "    return filter_kwargs\n",
    "\n",
    "\n",
    "@block\n",
    "def f(a, b=4):\n",
    "    return {'sum': a + b}\n",
    "\n",
    "# f(a=2, c=3)\n",
    "# f(a=2, b=3)\n"
   ]
  },
  {
   "cell_type": "code",
   "execution_count": null,
   "id": "4baafc1e",
   "metadata": {},
   "outputs": [],
   "source": []
  }
 ],
 "metadata": {
  "kernelspec": {
   "display_name": "py38",
   "language": "python",
   "name": "python3"
  },
  "language_info": {
   "codemirror_mode": {
    "name": "ipython",
    "version": 3
   },
   "file_extension": ".py",
   "mimetype": "text/x-python",
   "name": "python",
   "nbconvert_exporter": "python",
   "pygments_lexer": "ipython3",
   "version": "3.8.10"
  },
  "vscode": {
   "interpreter": {
    "hash": "fbf0dd17592d3ca6e635cabb1c16d1355bb8d9b58dd5152262ed90a953ba68fb"
   }
  }
 },
 "nbformat": 4,
 "nbformat_minor": 5
}
