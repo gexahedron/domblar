{
 "cells": [
  {
   "cell_type": "code",
   "execution_count": 2,
   "id": "3df91801",
   "metadata": {},
   "outputs": [
    {
     "name": "stdout",
     "output_type": "stream",
     "text": [
      "/Users/gexahedron/devel\n"
     ]
    }
   ],
   "source": [
    "# setup:\n",
    "# 1. open scds/vst_tracker.scd file in SuperCollider\n",
    "# and run first cell (on MacOS press 'Cmd+Enter')\n",
    "\n",
    "# 2. run this cell\n",
    "%cd ..\n",
    "\n",
    "synth_count = 3\n",
    "\n",
    "from domblar.domblar import Domblar\n",
    "d = Domblar(\n",
    "    synth_count=synth_count,\n",
    "    context='dexed',\n",
    "    analysis_mode=False,\n",
    ")"
   ]
  },
  {
   "cell_type": "code",
   "execution_count": 3,
   "id": "77e089e5",
   "metadata": {},
   "outputs": [
    {
     "name": "stdout",
     "output_type": "stream",
     "text": [
      "[[0, 5, 8], [1, 5, 8], [1, 4, 9], [3, 6, 9], [-1, 4, 8]]\n",
      "[[0, 5, 8], [1, 5, 8], [1, 4, 9], [3, 6, 9], [-1, 4, 8]]\n",
      "[5, 0, 5, 8, 1, 5, 8, 1, 4, 9, 4, 3, 6, 9, 4, -1, 4, 8]\n"
     ]
    }
   ],
   "source": [
    "# Philip Glass - Spaceship\n",
    "# exploring voice-leading, modulations,\n",
    "# triadic chord progressions, tonnetz\n",
    "# transformations, neo-riemannian theories\n",
    "# contrary and similar motions\n",
    "# 12edo for now\n",
    "\n",
    "from domblar.transformations import transpose\n",
    "import domblar.nrt_transformations as nrt\n",
    "from domblar.gestures import apply_gestures\n",
    "\n",
    "def set_synths():\n",
    "    for i in range(synth_count):\n",
    "        d.set_synth(i, 'harpic3')\n",
    "set_synths()\n",
    "\n",
    "edo = 12\n",
    "scale = list(range(edo))\n",
    "\n",
    "\n",
    "init_chord = [0, 5, 8]  # 5/F minor\n",
    "chords = []\n",
    "chords.append(init_chord)\n",
    "chords.append(nrt.l(chords[-1], edo))\n",
    "chords.append(nrt.m(chords[-1], edo))\n",
    "chords.append(nrt.maj_to_dim_wat(chords[-1], edo))\n",
    "chords.append(nrt.slide(init_chord, edo))\n",
    "print(chords)\n",
    "\n",
    "gestures = [\n",
    "    [1, 0, 1, 2],\n",
    "    [0, 1, 2],\n",
    "    [0, 1, 2, 1],\n",
    "    [0, 1, 2],\n",
    "    [1, 0, 1, 2],\n",
    "]\n",
    "\n",
    "print(chords)\n",
    "melody = apply_gestures(chords, gestures, edo)\n",
    "print(melody)\n",
    "\n",
    "bass = [\n",
    "    5, 5, 5, ',',\n",
    "    1, 1, '.',\n",
    "    9-edo, 9-edo, 9-edo, '.',\n",
    "    11-edo, 11-edo, '.',\n",
    "    4, 4, 4, '.']\n",
    "bass = transpose(bass, -edo)\n",
    "\n",
    "voices = list(zip(melody, bass))\n",
    "\n",
    "dur = 0.15\n",
    "d.play(voices, scale, edo,\n",
    "       synth_idx=[0, 1],\n",
    "       dur=dur, sus=dur * 0.95,\n",
    "       voice_amps=[1, 1, 1, 1, 0.4, 0.4])\n"
   ]
  },
  {
   "cell_type": "code",
   "execution_count": 6,
   "id": "b5669900",
   "metadata": {},
   "outputs": [
    {
     "name": "stdout",
     "output_type": "stream",
     "text": [
      "[[2, 9, 5, 2, 9, 5], [0, 9, 6, 0, 9, 6], [1, 9, 7, 1, 9, 7], [2, 9, 5, 2, 9, 5], [0, 9, 6, 0, 9, 6], [1, 9, 7, 1, 9, 7], [2, 9, 5], [2, 9, 5], [2, 8, 4], [1, 7, 4], [2, 9, 6], [2, 10, 7], [4, 12, 7], [5, 12, 8], [6, 14, 9], [7, 14, 10], [7, 16, 10], [7, 16, 10]]\n"
     ]
    },
    {
     "ename": "IndexError",
     "evalue": "list index out of range",
     "output_type": "error",
     "traceback": [
      "\u001b[0;31m---------------------------------------------------------------------------\u001b[0m",
      "\u001b[0;31mIndexError\u001b[0m                                Traceback (most recent call last)",
      "\u001b[0;32m<ipython-input-6-a9bacabd2140>\u001b[0m in \u001b[0;36m<cell line: 38>\u001b[0;34m()\u001b[0m\n\u001b[1;32m     36\u001b[0m \u001b[0;34m\u001b[0m\u001b[0m\n\u001b[1;32m     37\u001b[0m \u001b[0mdur\u001b[0m \u001b[0;34m=\u001b[0m \u001b[0;36m1.25\u001b[0m\u001b[0;34m\u001b[0m\u001b[0;34m\u001b[0m\u001b[0m\n\u001b[0;32m---> 38\u001b[0;31m d.play(chords1, scale, edo,\n\u001b[0m\u001b[1;32m     39\u001b[0m        \u001b[0msynth_idx\u001b[0m\u001b[0;34m=\u001b[0m\u001b[0;34m[\u001b[0m\u001b[0;36m0\u001b[0m\u001b[0;34m,\u001b[0m \u001b[0;36m1\u001b[0m\u001b[0;34m,\u001b[0m \u001b[0;36m2\u001b[0m\u001b[0;34m]\u001b[0m\u001b[0;34m,\u001b[0m\u001b[0;34m\u001b[0m\u001b[0;34m\u001b[0m\u001b[0m\n\u001b[1;32m     40\u001b[0m        \u001b[0mdur\u001b[0m\u001b[0;34m=\u001b[0m\u001b[0mdur\u001b[0m\u001b[0;34m,\u001b[0m \u001b[0msus\u001b[0m\u001b[0;34m=\u001b[0m\u001b[0mdur\u001b[0m \u001b[0;34m*\u001b[0m \u001b[0;36m0.95\u001b[0m\u001b[0;34m,\u001b[0m\u001b[0;34m\u001b[0m\u001b[0;34m\u001b[0m\u001b[0m\n",
      "\u001b[0;32m~/devel/domblar/domblar/domblar.py\u001b[0m in \u001b[0;36mplay\u001b[0;34m(self, chords, scale, edo, dur, sus, delay, synth_idx, rep, muls, amps, voice_amps)\u001b[0m\n\u001b[1;32m     33\u001b[0m              muls=[], amps=[], voice_amps=[]):\n\u001b[1;32m     34\u001b[0m         \u001b[0;32mif\u001b[0m \u001b[0;32mnot\u001b[0m \u001b[0mself\u001b[0m\u001b[0;34m.\u001b[0m\u001b[0manalysis_mode\u001b[0m\u001b[0;34m:\u001b[0m\u001b[0;34m\u001b[0m\u001b[0;34m\u001b[0m\u001b[0m\n\u001b[0;32m---> 35\u001b[0;31m             play(chords, scale, edo, self.client,\n\u001b[0m\u001b[1;32m     36\u001b[0m                 \u001b[0mdur\u001b[0m\u001b[0;34m=\u001b[0m\u001b[0mdur\u001b[0m\u001b[0;34m,\u001b[0m \u001b[0msus\u001b[0m\u001b[0;34m=\u001b[0m\u001b[0msus\u001b[0m\u001b[0;34m,\u001b[0m \u001b[0mdelay\u001b[0m\u001b[0;34m=\u001b[0m\u001b[0mdelay\u001b[0m\u001b[0;34m,\u001b[0m \u001b[0msynth_idx\u001b[0m\u001b[0;34m=\u001b[0m\u001b[0msynth_idx\u001b[0m\u001b[0;34m,\u001b[0m \u001b[0mmuls\u001b[0m\u001b[0;34m=\u001b[0m\u001b[0mmuls\u001b[0m\u001b[0;34m,\u001b[0m \u001b[0mrep\u001b[0m\u001b[0;34m=\u001b[0m\u001b[0mrep\u001b[0m\u001b[0;34m,\u001b[0m\u001b[0;34m\u001b[0m\u001b[0;34m\u001b[0m\u001b[0m\n\u001b[1;32m     37\u001b[0m                 amps=amps, voice_amps=voice_amps)\n",
      "\u001b[0;32m~/devel/domblar/domblar/players.py\u001b[0m in \u001b[0;36mplay\u001b[0;34m(chords, scale, edo, client, dur, sus, delay, synth_idx, rep, muls, amps, voice_amps)\u001b[0m\n\u001b[1;32m     36\u001b[0m             \u001b[0mtimetag\u001b[0m \u001b[0;34m=\u001b[0m \u001b[0mtime\u001b[0m\u001b[0;34m.\u001b[0m\u001b[0mtime\u001b[0m\u001b[0;34m(\u001b[0m\u001b[0;34m)\u001b[0m\u001b[0;34m\u001b[0m\u001b[0;34m\u001b[0m\u001b[0m\n\u001b[1;32m     37\u001b[0m             client.send_note(\n\u001b[0;32m---> 38\u001b[0;31m                 \u001b[0msynth_idx\u001b[0m\u001b[0;34m[\u001b[0m\u001b[0mnote_idx\u001b[0m\u001b[0;34m]\u001b[0m \u001b[0;34m+\u001b[0m \u001b[0mlast_reps\u001b[0m\u001b[0;34m[\u001b[0m\u001b[0mnote_idx\u001b[0m\u001b[0;34m]\u001b[0m\u001b[0;34m,\u001b[0m\u001b[0;34m\u001b[0m\u001b[0;34m\u001b[0m\u001b[0m\n\u001b[0m\u001b[1;32m     39\u001b[0m                 \u001b[0mfreq\u001b[0m\u001b[0;34m=\u001b[0m\u001b[0mfreq\u001b[0m\u001b[0;34m,\u001b[0m \u001b[0mdur\u001b[0m\u001b[0;34m=\u001b[0m\u001b[0msend_note_dur\u001b[0m\u001b[0;34m,\u001b[0m \u001b[0mamp\u001b[0m\u001b[0;34m=\u001b[0m\u001b[0mamp\u001b[0m\u001b[0;34m,\u001b[0m\u001b[0;34m\u001b[0m\u001b[0;34m\u001b[0m\u001b[0m\n\u001b[1;32m     40\u001b[0m                 timetag=timetag, channel=0) # TODO: for MPE with channels use channel=note_idx\n",
      "\u001b[0;31mIndexError\u001b[0m: list index out of range"
     ]
    }
   ],
   "source": [
    "# Philip Glass - In the Upper Room, Dance 1\n",
    "# NRT parts (that's more of an exercise that an analysis)\n",
    "\n",
    "def set_synths():\n",
    "    for i in range(synth_count):\n",
    "        d.set_synth(i, 'harpic3')\n",
    "set_synths()\n",
    "\n",
    "edo = 12\n",
    "scale = list(range(edo))\n",
    "\n",
    "# first stream\n",
    "init_chord = [2, 9, 5]  # 2/D minor\n",
    "chords1 = []\n",
    "chords1.append(init_chord)\n",
    "chords1.append(chords1[-1])\n",
    "chords1.append(nrt.min_to_dim2(chords1[-1], edo))  # [0, 9, 6], 6/F# dim\n",
    "chords1.append(nrt.dim_to_dom7no5(chords1[-1], edo))  # [1, 9, 7], 9/A dom7no5 (without 4/E, 5th)\n",
    "chords1.extend(chords1)\n",
    "chords1.append(init_chord)\n",
    "chords1.append(chords1[-1])\n",
    "chords1.append(nrt.min_to_dom7no5(chords1[-1], edo))  # [2, 8, 4], 4/E dom7no5 (without 11/B, 5th)\n",
    "chords1.append(nrt.dom7no5_to_dim(chords1[-1], edo))  # [1, 7, 4], 1/C# dim = 4/E min6\n",
    "\n",
    "chords1.append(nrt.p(init_chord, edo))  # [2, 9, 6], 2/D major\n",
    "chords1.append(nrt.f(chords1[-1], edo))  # 7/G minor\n",
    "chords1.append(nrt.f(chords1[-1], edo))  # 0+12/C major\n",
    "chords1.append(nrt.f(chords1[-1], edo))  # 5+12/F minor\n",
    "# if the next chord is interpreted as part of same octatonic cycle, then it will be a prp transformation\n",
    "chords1.append(nrt.p(nrt.r(nrt.p(chords1[-1], edo), edo), edo))  # 2+12/D major\n",
    "chords1.append(nrt.f(chords1[-1], edo))  # 7/G minor\n",
    "chords1.append(nrt.min_to_dim3(chords1[-1], edo))  # 4+12/E dim\n",
    "chords1.append(chords1[-1])\n",
    "\n",
    "print(chords1)\n",
    "\n",
    "dur = 1.25\n",
    "d.play(chords1, scale, edo,\n",
    "       synth_idx=[0, 1, 2],\n",
    "       dur=dur, sus=dur * 0.95,\n",
    "       voice_amps=[1, 1, 1, 1, 0.4, 0.4])\n",
    "\n",
    "# second stream - this is much nastier\n",
    "# chords2 = []\n",
    "# chords2.append(init_chord)\n",
    "# chords2.append(chords2[-1])\n",
    "# chords2.append(nrt.min_to_dim2(chords2[-1], edo))  # [0, 9, 6], 6/F# dim\n",
    "# chords2.append(nrt.dim_to_maj(chords2[-1], edo))  # [1, 9, 4], 9/A major\n",
    "\n",
    "# chords2.append(nrt.p(init_chord, edo))  # [2, 9, 6], 2/D major\n",
    "# chords2.append(nrt.f(chords2[-1], edo))  # 7/G minor\n",
    "# chords2.append([0, 7, 4])  # 0/C major\n",
    "# chords2.append(nrt.f(chords2[-1], edo))  # 5+12/F minor\n",
    "# chords2.append([-3, 6, 0])  # 6/F# dim\n",
    "# chords2.append(nrt.dim_to_min_wat(chords2[-1], edo))  # 7/G minor\n",
    "# chords2.append([-2, 7, 0])  # 0/C dom7no3\n",
    "# chords2.append([4, 10, 7])  # 4/E dim\n",
    "# print(chords2)\n"
   ]
  },
  {
   "cell_type": "code",
   "execution_count": 85,
   "id": "20dec18e",
   "metadata": {},
   "outputs": [],
   "source": [
    "finetuning = 0\n",
    "\n",
    "try:\n",
    "    finetuning\n",
    "except Exception as e:\n",
    "    d.open_editor(0)\n",
    "    finetuning = 1\n",
    "else:\n",
    "    if finetuning == 0:\n",
    "        d.open_editor(0)\n",
    "    elif finetuning == 1:\n",
    "        # transfer instrument to all synths\n",
    "        d.save_preset(0)\n",
    "        import time\n",
    "        time.sleep(0.5)\n",
    "        for i in range(synth_count):\n",
    "            d.load_preset(i)\n",
    "    else:\n",
    "        d.print_params(0)"
   ]
  },
  {
   "cell_type": "code",
   "execution_count": 4,
   "id": "b48c0364",
   "metadata": {},
   "outputs": [],
   "source": [
    "# cleanup\n",
    "d.stop_server()"
   ]
  },
  {
   "cell_type": "code",
   "execution_count": null,
   "id": "85fcb657",
   "metadata": {},
   "outputs": [],
   "source": []
  }
 ],
 "metadata": {
  "kernelspec": {
   "display_name": "py38",
   "language": "python",
   "name": "python3"
  },
  "language_info": {
   "codemirror_mode": {
    "name": "ipython",
    "version": 3
   },
   "file_extension": ".py",
   "mimetype": "text/x-python",
   "name": "python",
   "nbconvert_exporter": "python",
   "pygments_lexer": "ipython3",
   "version": "3.8.10"
  },
  "vscode": {
   "interpreter": {
    "hash": "fbf0dd17592d3ca6e635cabb1c16d1355bb8d9b58dd5152262ed90a953ba68fb"
   }
  }
 },
 "nbformat": 4,
 "nbformat_minor": 5
}
