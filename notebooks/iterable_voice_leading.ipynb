{
 "cells": [
  {
   "cell_type": "code",
   "execution_count": 1,
   "id": "3df91801",
   "metadata": {},
   "outputs": [
    {
     "name": "stdout",
     "output_type": "stream",
     "text": [
      "/Users/gexahedron/devel/domblar\n"
     ]
    }
   ],
   "source": [
    "# setup:\n",
    "# 1. open scds/vst_tracker.scd file in SuperCollider\n",
    "# and run first cell\n",
    "\n",
    "# 2. run this cell\n",
    "%cd ..\n",
    "\n",
    "from domblar.domblar import Domblar\n",
    "d = Domblar(\n",
    "    synth_count=4,\n",
    "    context='dexed',\n",
    ")"
   ]
  },
  {
   "cell_type": "code",
   "execution_count": 2,
   "id": "583e7303",
   "metadata": {},
   "outputs": [
    {
     "name": "stdout",
     "output_type": "stream",
     "text": [
      "[[0, 2, 7, 11], [-2, 5, 9, 12], [-4, 7, 10, 15], [-6, 8, 13, 17], [-8, 11, 15, 18], [-10, 13, 16, 21], [-12, 14, 19, 23]]\n"
     ]
    }
   ],
   "source": [
    "# iterable voice-leading example from Dmitri Tymoczko\n",
    "\n",
    "from domblar.transformations import iterate_voice_leadings\n",
    "\n",
    "def set_synths():\n",
    "    for i in range(4):\n",
    "        d.set_synth(i, 'brass/toto_africa')\n",
    "set_synths()\n",
    "\n",
    "chords = iterate_voice_leadings(\n",
    "    [0, 2, 7, 11],\n",
    "    [-2, 10, -2, -2],\n",
    "    [0, 2, 3, 1],\n",
    "    7)\n",
    "print(chords)\n",
    "\n",
    "edo = 12\n",
    "scale = list(range(edo))\n",
    "\n",
    "d.play(chords, scale, edo, synth_idx=[0, 1, 2, 3], dur=0.75)"
   ]
  },
  {
   "cell_type": "code",
   "execution_count": 4,
   "id": "b48c0364",
   "metadata": {},
   "outputs": [],
   "source": [
    "# cleanup\n",
    "d.stop_server()\n"
   ]
  },
  {
   "cell_type": "code",
   "execution_count": null,
   "id": "4987b6f7",
   "metadata": {},
   "outputs": [],
   "source": []
  }
 ],
 "metadata": {
  "kernelspec": {
   "display_name": "py38",
   "language": "python",
   "name": "python3"
  },
  "language_info": {
   "codemirror_mode": {
    "name": "ipython",
    "version": 3
   },
   "file_extension": ".py",
   "mimetype": "text/x-python",
   "name": "python",
   "nbconvert_exporter": "python",
   "pygments_lexer": "ipython3",
   "version": "3.8.10"
  },
  "vscode": {
   "interpreter": {
    "hash": "fbf0dd17592d3ca6e635cabb1c16d1355bb8d9b58dd5152262ed90a953ba68fb"
   }
  }
 },
 "nbformat": 4,
 "nbformat_minor": 5
}
