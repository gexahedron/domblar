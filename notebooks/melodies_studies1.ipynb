{
 "cells": [
  {
   "cell_type": "code",
   "execution_count": 1,
   "id": "bc0f05eb",
   "metadata": {},
   "outputs": [],
   "source": [
    "# setup:\n",
    "# 1. open scds/vst_tracker.scd file in SuperCollider\n",
    "# and run first cell (on MacOS press 'Cmd+Enter')\n",
    "\n",
    "# 2. run this cell\n",
    "import os\n",
    "import sys\n",
    "from pathlib import Path\n",
    "\n",
    "# add path to domblar development code\n",
    "sys.path.insert(0, str(Path(os.getcwd()).parent))\n",
    "\n",
    "synth_count = 4\n",
    "\n",
    "from domblar.domblar import Domblar\n",
    "d = Domblar(\n",
    "    synth_count=synth_count,\n",
    "    context='dexed',\n",
    ")"
   ]
  },
  {
   "cell_type": "code",
   "execution_count": 62,
   "id": "7c4c27ab",
   "metadata": {},
   "outputs": [],
   "source": [
    "# melody example\n",
    "# Stephane Picq, Dune - Water\n",
    "# what i like about this is:\n",
    "# - simplicity / repetitiveness\n",
    "# - nice modulations\n",
    "\n",
    "from domblar.transformations import split, transpose\n",
    "\n",
    "\n",
    "def arpeggio_dune_water(notes, reps=2):\n",
    "    assert (len(notes) == 4)\n",
    "    notes.sort()\n",
    "    v1 = [notes[3], notes[2], notes[1], notes[2]]\n",
    "    v2 = [notes[3], notes[2], notes[0], notes[2]]\n",
    "    return (v1 + v2) * reps\n",
    "\n",
    "edo = 12\n",
    "scale = list(range(edo))  # chromatic\n",
    "\n",
    "# NOTE: transposed 1 octave below for clarity\n",
    "# c3 = 0 (in transposed values); melody starts on d#3, 3, it's d# lydian actually\n",
    "part1 = arpeggio_dune_water([-5, -3, -2, 3])\n",
    "part2 = arpeggio_dune_water([-5, -3, -2, 2])\n",
    "part3 = arpeggio_dune_water([-5, -3, -1, 4])\n",
    "part4 = arpeggio_dune_water([-1,  1,  2, 6])\n",
    "# part1, part2, part3, part4 are repeated again\n",
    "\n",
    "# 1: 3 d# lydian\n",
    "# 2: 2 d aeolian / -5 g dorian (bass)\n",
    "# 3: 4 e aeolian\n",
    "# 4: -1 b aeolian (also bass)\n",
    "\n",
    "part5 = arpeggio_dune_water([ 2,  4, 5,  9])\n",
    "part6 = arpeggio_dune_water([ 5,  7, 8, 12])\n",
    "part7 = arpeggio_dune_water([-3, -1, 0,  4])\n",
    "# part8 is a final part and is more tricky:\n",
    "part8 = arpeggio_dune_water([-4, -1, 0,  3], reps=1) +\\\n",
    "        arpeggio_dune_water([-4, -2, 0,  3], reps=1)\n",
    "\n",
    "# 5: 2 d aeolian (part4 shifted by 3 steps)\n",
    "# 6: 5 f aeolian (part5 shifted by 3 steps)\n",
    "# 7: -3 a aeolian (part6 shifted down by 8 steps)\n",
    "# 8: no single (Pressing scale) collection, because 2 consecutive semitones\n",
    "# 8.1: hex(0,3) (4 consecutive notes); e harm maj, c harm min, oct(0,2) / 8 g# (bass)\n",
    "# 8.2: -4 g# ionian\n",
    "\n",
    "def set_synths():\n",
    "    for i in range(2):\n",
    "        d.set_synth(i, 'cool2vibes')\n",
    "set_synths()\n",
    "\n",
    "melody = (part1 + part2 + part3 + part4) * 2 +\\\n",
    "         part5 + part6 + part7 + part8\n",
    "melody = [-4, -1, 0, 3]  # part8[:4]\n",
    "# melody = [-4, -1, 0, 3, 4, 7, 8]  # hex(0,3)\n",
    "# melody = [-4, -3, -1, 0, 3, 4, 6, 8]  # e harm maj\n",
    "# melody = [-4, -1, 0, 2, 3, 5, 7, 8]  # c harm min\n",
    "# melody = [-4, -3, -1, 0, 2, 3, 5, 6, 8]  # oct(0, 2)\n",
    "melody = transpose(melody, -edo)\n",
    "# melody = melody[:-1] + ['.']\n",
    "melody = split(melody, zipped=True)\n",
    "d.play(melody, scale, edo, synth_idx=[0, 1], dur=0.25, sus=0.4)\n"
   ]
  },
  {
   "cell_type": "code",
   "execution_count": 102,
   "id": "296d0fc8",
   "metadata": {},
   "outputs": [],
   "source": [
    "# Dune - Water - other voices\n",
    "\n",
    "def set_synths():\n",
    "    d.set_synth(2, 'harpic3')\n",
    "set_synths()\n",
    "\n",
    "bass = [3, 7, 4, 11] * 2 + [14, 5, 9, 8]\n",
    "bass = transpose(bass, -edo * 2)\n",
    "dur = 0.25*16\n",
    "d.play(bass, scale, edo, synth_idx=[2], dur=dur, sus=dur*0.9)\n",
    "\n",
    "# play together\n",
    "# TODO: add muls"
   ]
  },
  {
   "cell_type": "code",
   "execution_count": 70,
   "id": "4293a280",
   "metadata": {},
   "outputs": [],
   "source": [
    "# Gimmick Mountain Zone\n",
    "# rhythm: 5x(5+1)+2\n",
    "\n",
    "def set_synths():\n",
    "    d.set_synth(0, 'epiano1')\n",
    "set_synths()\n",
    "\n",
    "edo = 12\n",
    "scale = list(range(edo))\n",
    "\n",
    "melody = [0,-5,-2,3,0,'.'] * 5 + ['.', '.']\n",
    "# melody = transpose(melody, 1)\n",
    "d.play(melody, scale, edo, synth_idx=[0], dur=0.125)\n"
   ]
  },
  {
   "cell_type": "code",
   "execution_count": 76,
   "id": "9741b083",
   "metadata": {},
   "outputs": [],
   "source": [
    "# long-short-short-...-short-long\n",
    "\n",
    "def set_synths():\n",
    "    d.set_synth(0, 'epiano1')\n",
    "set_synths()\n",
    "\n",
    "edo = 12\n",
    "scale = list(range(edo))\n",
    "\n",
    "melody = [0,-5,-2,3,0]  # Gimmick Mountain Zone\n",
    "durs = [3, 1, 1, 1, 3]\n",
    "d.play(melody, scale, edo,\n",
    "       synth_idx=[0],\n",
    "       dur=0.125,\n",
    "       muls=durs)\n",
    "\n",
    "# TODO: more examples\n"
   ]
  },
  {
   "cell_type": "code",
   "execution_count": null,
   "id": "12cf490d",
   "metadata": {},
   "outputs": [],
   "source": [
    "# jazz examples\n"
   ]
  },
  {
   "cell_type": "code",
   "execution_count": null,
   "id": "00d4204e",
   "metadata": {},
   "outputs": [],
   "source": [
    "# varying dynamics example/study\n",
    "# canto ostinato, section 31\n",
    "# https://www.youtube.com/watch?v=1Zk1xyrWfX0"
   ]
  },
  {
   "cell_type": "code",
   "execution_count": null,
   "id": "3dfac250",
   "metadata": {},
   "outputs": [],
   "source": [
    "# maqamat\n"
   ]
  },
  {
   "cell_type": "code",
   "execution_count": 27,
   "id": "43a244a0",
   "metadata": {},
   "outputs": [],
   "source": [
    "# FIXME: replace with method/function\n",
    "finetuning = 2\n",
    "synth_idx = 0\n",
    "\n",
    "try:\n",
    "    finetuning\n",
    "except Exception as e:\n",
    "    d.open_editor(synth_idx)\n",
    "    finetuning = 1\n",
    "else:\n",
    "    if finetuning == 0:\n",
    "        d.open_editor(synth_idx)\n",
    "    elif finetuning == 1:\n",
    "        # transfer instrument to all synths\n",
    "        d.save_preset(synth_idx)\n",
    "        import time\n",
    "        time.sleep(0.5)\n",
    "        for i in range(synth_count):\n",
    "            d.load_preset(i)\n",
    "    else:\n",
    "        d.print_params(synth_idx)"
   ]
  },
  {
   "cell_type": "code",
   "execution_count": null,
   "id": "46e98e1b",
   "metadata": {},
   "outputs": [],
   "source": [
    "# cleanup\n",
    "d.stop_server()"
   ]
  }
 ],
 "metadata": {
  "kernelspec": {
   "display_name": "py38",
   "language": "python",
   "name": "python3"
  },
  "language_info": {
   "codemirror_mode": {
    "name": "ipython",
    "version": 3
   },
   "file_extension": ".py",
   "mimetype": "text/x-python",
   "name": "python",
   "nbconvert_exporter": "python",
   "pygments_lexer": "ipython3",
   "version": "3.8.10"
  },
  "vscode": {
   "interpreter": {
    "hash": "fbf0dd17592d3ca6e635cabb1c16d1355bb8d9b58dd5152262ed90a953ba68fb"
   }
  }
 },
 "nbformat": 4,
 "nbformat_minor": 5
}
