{
 "cells": [
  {
   "cell_type": "code",
   "execution_count": 1,
   "id": "bc0f05eb",
   "metadata": {},
   "outputs": [],
   "source": [
    "import os\n",
    "import sys\n",
    "from pathlib import Path\n",
    "\n",
    "# add path to domblar development code\n",
    "sys.path.insert(0, str(Path(os.getcwd()).parent))\n",
    "\n",
    "from domblar.domblar import Domblar\n",
    "\n",
    "synth_count = 1\n",
    "d = Domblar(\n",
    "    synth_count=synth_count,\n",
    "    context='dexed'\n",
    ")"
   ]
  },
  {
   "cell_type": "code",
   "execution_count": 2,
   "id": "28de7d45",
   "metadata": {},
   "outputs": [
    {
     "name": "stdout",
     "output_type": "stream",
     "text": [
      "[0, 3, 10, 13, 20, 23, 30, 37]\n",
      "steps - [3, 7, 3, 7, 3, 7, 7]\n"
     ]
    }
   ],
   "source": [
    "# random (microtonal) example\n",
    "\n",
    "from domblar.edo import build_mos_from_edo, intervals_in_edo\n",
    "\n",
    "def set_synths():\n",
    "    # d.set_synth(0, 'tub_bells')\n",
    "    d.set_synth(0, 'brass/toto_africa')\n",
    "set_synths()\n",
    "\n",
    "edo = 37\n",
    "# fixme: remove this scale, looks redundant\n",
    "scale = list(range(edo))\n",
    "\n",
    "scales = {}\n",
    "scales['orgone7'] = build_mos_from_edo(7, gen=10, edo=edo, down=0, shift=0) + [edo]\n",
    "\n",
    "cur_scale = scales['orgone7']\n",
    "print(cur_scale)\n",
    "print('steps -', intervals_in_edo(cur_scale, edo))\n",
    "d.play(cur_scale, scale, edo, synth_idx=[0], dur=0.3)\n"
   ]
  },
  {
   "cell_type": "code",
   "execution_count": 10,
   "id": "fe562959",
   "metadata": {},
   "outputs": [],
   "source": [
    "finetuning = 0\n",
    "\n",
    "try:\n",
    "    finetuning\n",
    "except Exception as e:\n",
    "    d.open_editor(0)\n",
    "    finetuning = 1\n",
    "else:\n",
    "    if finetuning == 0:\n",
    "        d.open_editor(0)\n",
    "    elif finetuning == 1:\n",
    "        # transfer instrument to all synths\n",
    "        d.save_preset(0)\n",
    "        import time\n",
    "        time.sleep(0.5)\n",
    "        for i in range(synth_count):\n",
    "            d.load_preset(i)\n",
    "    else:\n",
    "        d.print_params(0)"
   ]
  },
  {
   "cell_type": "code",
   "execution_count": null,
   "id": "5bd3a26d",
   "metadata": {},
   "outputs": [],
   "source": [
    "# 12edo modulation between scales of different types\n",
    "# e. g., diatonic and acoustic\n"
   ]
  },
  {
   "cell_type": "code",
   "execution_count": null,
   "id": "3be72a7e",
   "metadata": {},
   "outputs": [],
   "source": [
    "# 12edo examples: high register chords, bell-like\n",
    "# George Crumb: Music for a Summer Evening - V. Music of the Starry Night\n",
    "# https://www.youtube.com/watch?v=jTLq-9xyPz4&ab_channel=ZhengchaoDing\n",
    "# Romitelli - Amok Koma\n",
    "# https://www.youtube.com/watch?v=8tAWPIFD1_w&ab_channel=SchallfeldEnsemble\n",
    "# Desyatnikov - Kolkhoz Song About Moscow\n",
    "# https://www.youtube.com/watch?v=bBaIEapbI9o&ab_channel=VariousArtists-Topic\n"
   ]
  },
  {
   "cell_type": "code",
   "execution_count": null,
   "id": "977c972e",
   "metadata": {},
   "outputs": [],
   "source": [
    "# pentatonic planing in Debussy - La Cathédrale Engloutie\n",
    "# https://www.youtube.com/watch?v=yTwvtwlSh5U"
   ]
  },
  {
   "cell_type": "code",
   "execution_count": null,
   "id": "a1f7c684",
   "metadata": {},
   "outputs": [],
   "source": [
    "# augmented sixth examples\n"
   ]
  }
 ],
 "metadata": {
  "kernelspec": {
   "display_name": "Python 3 (ipykernel)",
   "language": "python",
   "name": "python3"
  },
  "language_info": {
   "codemirror_mode": {
    "name": "ipython",
    "version": 3
   },
   "file_extension": ".py",
   "mimetype": "text/x-python",
   "name": "python",
   "nbconvert_exporter": "python",
   "pygments_lexer": "ipython3",
   "version": "3.8.10"
  },
  "vscode": {
   "interpreter": {
    "hash": "fbf0dd17592d3ca6e635cabb1c16d1355bb8d9b58dd5152262ed90a953ba68fb"
   }
  }
 },
 "nbformat": 4,
 "nbformat_minor": 5
}
