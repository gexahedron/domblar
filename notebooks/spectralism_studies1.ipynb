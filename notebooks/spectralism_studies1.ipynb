{
 "cells": [
  {
   "cell_type": "code",
   "execution_count": 4,
   "id": "bc0f05eb",
   "metadata": {},
   "outputs": [],
   "source": [
    "import os\n",
    "import sys\n",
    "from pathlib import Path\n",
    "\n",
    "# add path to domblar development code\n",
    "sys.path.insert(0, str(Path(os.getcwd()).parent))\n",
    "\n",
    "from domblar.domblar import Domblar\n",
    "\n",
    "synth_count = 3\n",
    "d = Domblar(\n",
    "    synth_count=synth_count,\n",
    "    context='dexed'\n",
    ")"
   ]
  },
  {
   "cell_type": "code",
   "execution_count": 25,
   "id": "28de7d45",
   "metadata": {},
   "outputs": [],
   "source": [
    "# TODO: conposers to get inspired by\n",
    "# Grisey\n",
    "# Murail\n",
    "# Romitelli\n",
    "# Saariaho\n",
    "# Vivier\n",
    "\n",
    "from domblar.transformations import cycle\n",
    "\n",
    "def set_synths():\n",
    "    # d.set_synth(0, 'tub_bells')\n",
    "    d.set_synth(0, 'brass/toto_africa')\n",
    "set_synths()\n",
    "\n",
    "# harmonic series\n",
    "# TODO: how to convert this into something useful?\n",
    "# probably this should be a source of pitch material\n",
    "# but we would need a powerful discovery module\n",
    "\n",
    "# TODO: record composition\n",
    "root_hz = 220.0\n",
    "notes = []\n",
    "harmonic = 8\n",
    "muls = []\n",
    "for idx, i in enumerate(cycle(list(range(harmonic, harmonic * 2 + 1)), dup_start=True)):\n",
    "    # notes.append([root_hz * i, root_hz * (i + 2)])\n",
    "    notes.append([root_hz * i / 8 * (1 + idx / harmonic), root_hz * 32 / i, root_hz])\n",
    "    muls.append(1 + idx / harmonic)\n",
    "muls[-1] *= 4\n",
    "d.play_non_edo(notes, synth_idx=[0, 1, 2], dur=0.25, muls=muls)\n"
   ]
  },
  {
   "cell_type": "code",
   "execution_count": 43,
   "metadata": {},
   "outputs": [],
   "source": [
    "def set_synths():\n",
    "    # d.set_synth(0, 'tub_bells')\n",
    "    d.set_synth(0, 'brass/toto_africa')\n",
    "set_synths()\n",
    "\n",
    "# ring modulation\n",
    "# TODO: how to convert this into something useful?\n",
    "# probably this should be a source of pitch material\n",
    "# but we would need a powerful discovery module\n",
    "\n",
    "# TODO: add option to filter out negative frequencies\n",
    "# TODO: add option to have a ratio between mod_hz and car_hz\n",
    "# TODO: add control for volume/amplitude\n",
    "# TODO: add option to take only uniq frequencies, or filter out hzs too close to each other\n",
    "\n",
    "car_hz = 17.0 # 30.0  # car = carrier\n",
    "mod_hz = 85.0 # 220.0\n",
    "mod_harmonics = [3, 7, 11, 13] # range(1, 6)\n",
    "car_harmonics = [3, 5] # range(1, 3)\n",
    "notes = []\n",
    "\n",
    "muls = []\n",
    "for i in mod_harmonics:\n",
    "    for j in car_harmonics:\n",
    "        notes.append(mod_hz * i + car_hz * j)\n",
    "        muls.append(1)\n",
    "        notes.append(abs(mod_hz * i - car_hz * j))\n",
    "        muls.append(1)\n",
    "notes.sort()\n",
    "# muls[-1] = 4\n",
    "d.play_non_edo(notes, synth_idx=[0, 1, 2], dur=0.25, muls=muls)\n"
   ]
  },
  {
   "cell_type": "code",
   "execution_count": 49,
   "id": "d322c492",
   "metadata": {},
   "outputs": [],
   "source": [
    "# ring modulation by Claude Vivier\n",
    "\n",
    "car_hz = 196.0 # 30.0\n",
    "mod_hz = 440.0 # 220.0\n",
    "mod_harmonics = [1]\n",
    "car_harmonics = [1, 2, 3, 5, 8]\n",
    "notes = []\n",
    "\n",
    "muls = []\n",
    "for i in mod_harmonics:\n",
    "    for j in car_harmonics:\n",
    "        notes.append([mod_hz, car_hz, mod_hz * i + car_hz * j])\n",
    "        muls.append(1)\n",
    "        # notes.append(abs(mod_hz * i - car_hz * j))\n",
    "        # muls.append(1)\n",
    "notes.sort()\n",
    "muls[-1] = 3\n",
    "d.play_non_edo(notes, synth_idx=[0, 1, 2], dur=0.75, muls=muls)\n",
    "\n"
   ]
  },
  {
   "cell_type": "code",
   "execution_count": null,
   "id": "a702cc67",
   "metadata": {},
   "outputs": [],
   "source": [
    "# TODO: add approximation of hz to the system we currently use\n",
    "# e. g., 12edo, 24edo, 72edo, etc."
   ]
  },
  {
   "cell_type": "code",
   "execution_count": null,
   "id": "bfd8fae9",
   "metadata": {},
   "outputs": [],
   "source": [
    "# high register chords, bell-like\n",
    "# Romitelli - Amok Koma\n",
    "# https://www.youtube.com/watch?v=8tAWPIFD1_w&ab_channel=SchallfeldEnsemble\n"
   ]
  },
  {
   "cell_type": "code",
   "execution_count": 10,
   "id": "fe562959",
   "metadata": {},
   "outputs": [],
   "source": [
    "finetuning = 0\n",
    "\n",
    "try:\n",
    "    finetuning\n",
    "except Exception as e:\n",
    "    d.open_editor(0)\n",
    "    finetuning = 1\n",
    "else:\n",
    "    if finetuning == 0:\n",
    "        d.open_editor(0)\n",
    "    elif finetuning == 1:\n",
    "        # transfer instrument to all synths\n",
    "        d.save_preset(0)\n",
    "        import time\n",
    "        time.sleep(0.5)\n",
    "        for i in range(synth_count):\n",
    "            d.load_preset(i)\n",
    "    else:\n",
    "        d.print_params(0)"
   ]
  },
  {
   "cell_type": "code",
   "execution_count": null,
   "id": "3be72a7e",
   "metadata": {},
   "outputs": [],
   "source": []
  }
 ],
 "metadata": {
  "kernelspec": {
   "display_name": "Python 3 (ipykernel)",
   "language": "python",
   "name": "python3"
  },
  "language_info": {
   "codemirror_mode": {
    "name": "ipython",
    "version": 3
   },
   "file_extension": ".py",
   "mimetype": "text/x-python",
   "name": "python",
   "nbconvert_exporter": "python",
   "pygments_lexer": "ipython3",
   "version": "3.8.10"
  },
  "vscode": {
   "interpreter": {
    "hash": "fbf0dd17592d3ca6e635cabb1c16d1355bb8d9b58dd5152262ed90a953ba68fb"
   }
  }
 },
 "nbformat": 4,
 "nbformat_minor": 5
}
