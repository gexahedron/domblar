{
 "cells": [
  {
   "cell_type": "code",
   "execution_count": 1,
   "id": "85fcb657",
   "metadata": {},
   "outputs": [
    {
     "name": "stderr",
     "output_type": "stream",
     "text": [
      "Exception in thread Thread-4:\n",
      "Traceback (most recent call last):\n",
      "  File \"/Users/gexahedron/miniconda3/envs/py38/lib/python3.8/threading.py\", line 932, in _bootstrap_inner\n",
      "    self.run()\n",
      "  File \"/Users/gexahedron/miniconda3/envs/py38/lib/python3.8/threading.py\", line 870, in run\n",
      "    self._target(*self._args, **self._kwargs)\n",
      "  File \"<ipython-input-1-8c989e249004>\", line 33, in func\n",
      "  File \"/Users/gexahedron/miniconda3/envs/py38/lib/python3.8/site-packages/customtkinter/windows/ctk_tk.py\", line 163, in mainloop\n",
      "    super().mainloop(*args, **kwargs)\n",
      "  File \"/Users/gexahedron/miniconda3/envs/py38/lib/python3.8/tkinter/__init__.py\", line 1429, in mainloop\n",
      "    self.tk.mainloop(n)\n",
      "RuntimeError: Calling Tcl from different apartment\n"
     ]
    }
   ],
   "source": [
    "%gui tk\n",
    "\n",
    "import nest_asyncio\n",
    "nest_asyncio.apply()\n",
    "\n",
    "import tkthread\n",
    "tkthread.patch()\n",
    "\n",
    "import tkinter\n",
    "import customtkinter\n",
    "\n",
    "import threading\n",
    "\n",
    "def thread_run(func):\n",
    "    threading.Thread(target=func).start()\n",
    "\n",
    "customtkinter.set_appearance_mode(\"System\")  # Modes: system (default), light, dark\n",
    "customtkinter.set_default_color_theme(\"blue\")  # Themes: blue (default), dark-blue, green\n",
    "\n",
    "app = customtkinter.CTk()  # create CTk window like you do with the Tk window\n",
    "app.geometry(\"400x240\")\n",
    "\n",
    "count = 0\n",
    "def button_function():\n",
    "    global count\n",
    "    count += 1\n",
    "    print(count)\n",
    "\n",
    "@thread_run\n",
    "def func():\n",
    "    # Use CTkButton instead of tkinter Button\n",
    "    button = customtkinter.CTkButton(master=app, text=\"CTkButton\", command=button_function)\n",
    "    button.place(relx=0.5, rely=0.5, anchor=tkinter.CENTER)\n",
    "\n",
    "    app.mainloop()\n",
    "\n",
    "tkthread.call_nosync(func)\n",
    "\n",
    "# DOES NOTHING\n",
    "# %gui tk\n",
    "# or\n",
    "# import nest_asyncio\n",
    "# nest_asyncio.apply()\n",
    "\n",
    "# DOESN'T WORK\n",
    "# import threading\n",
    "# thread = threading.Thread(target=app.mainloop)\n",
    "# thread.start()"
   ]
  },
  {
   "cell_type": "code",
   "execution_count": 3,
   "id": "1fa5deb7",
   "metadata": {},
   "outputs": [
    {
     "name": "stdout",
     "output_type": "stream",
     "text": [
      "8\n"
     ]
    }
   ],
   "source": [
    "print(count)"
   ]
  },
  {
   "cell_type": "code",
   "execution_count": 1,
   "id": "dff2221f",
   "metadata": {},
   "outputs": [],
   "source": [
    "# DOESN'T WORK\n",
    "\n",
    "%gui tk\n",
    "\n",
    "import nest_asyncio\n",
    "nest_asyncio.apply()\n",
    "\n",
    "import tkinter\n",
    "import customtkinter\n",
    "import threading\n",
    "\n",
    "class MyTkApp(threading.Thread):\n",
    "    def __init__(self):\n",
    "        threading.Thread.__init__(self)\n",
    "\n",
    "    def run(self):\n",
    "        # self.root = tkinter.Tk()\n",
    "        # self.s = tkinter.StringVar()\n",
    "        # self.s.set('Foo')\n",
    "        # l = tkinter.Label(self.root,textvariable=self.s)\n",
    "        # l.pack()\n",
    "        # self.root.mainloop()\n",
    "\n",
    "        customtkinter.set_appearance_mode(\"System\")  # Modes: system (default), light, dark\n",
    "        customtkinter.set_default_color_theme(\"blue\")  # Themes: blue (default), dark-blue, green\n",
    "\n",
    "        self.app = customtkinter.CTk()  # create CTk window like you do with the Tk window\n",
    "        self.app.geometry(\"400x240\")\n",
    "\n",
    "        def button_function():\n",
    "            print(\"button pressed\")\n",
    "\n",
    "        # Use CTkButton instead of tkinter Button\n",
    "        button = customtkinter.CTkButton(master=self.app,\n",
    "                                         text=\"CTkButton\", command=button_function)\n",
    "        button.place(relx=0.5, rely=0.5, anchor=tkinter.CENTER)\n",
    "\n",
    "        self.app.mainloop()\n",
    "\n",
    "app = MyTkApp()\n",
    "app.start()\n"
   ]
  },
  {
   "cell_type": "code",
   "execution_count": 1,
   "id": "f0a307cf",
   "metadata": {},
   "outputs": [
    {
     "name": "stderr",
     "output_type": "stream",
     "text": [
      "Exception in thread Thread-4:\n",
      "Traceback (most recent call last):\n",
      "  File \"/Users/gexahedron/miniconda3/envs/py38/lib/python3.8/threading.py\", line 932, in _bootstrap_inner\n",
      "    self.run()\n",
      "  File \"/Users/gexahedron/miniconda3/envs/py38/lib/python3.8/threading.py\", line 870, in run\n",
      "    self._target(*self._args, **self._kwargs)\n",
      "  File \"<ipython-input-1-1467b8a862c1>\", line 23, in func\n",
      "  File \"/Users/gexahedron/miniconda3/envs/py38/lib/python3.8/tkinter/__init__.py\", line 1429, in mainloop\n",
      "    self.tk.mainloop(n)\n",
      "RuntimeError: Calling Tcl from different apartment\n"
     ]
    }
   ],
   "source": [
    "# WORKS (?!)\n",
    "# %gui tk\n",
    "\n",
    "# import nest_asyncio\n",
    "# nest_asyncio.apply()\n",
    "\n",
    "# import tkthread; tkthread.patch()\n",
    "# import tkinter as tk\n",
    "\n",
    "# root = tk.Tk()\n",
    "\n",
    "# import threading\n",
    "# def thread_run(func): threading.Thread(target=func).start()\n",
    "\n",
    "# @thread_run\n",
    "# def func():\n",
    "#     root.wm_title(threading.current_thread())\n",
    "\n",
    "#     @tkthread.main(root)\n",
    "#     @tkthread.current(root)\n",
    "#     def testfunc():\n",
    "#         tk.Label(text=threading.current_thread()).pack()\n",
    "\n",
    "#     root.mainloop()\n",
    "\n",
    "# tkthread.call_nosync(func)"
   ]
  },
  {
   "cell_type": "code",
   "execution_count": 1,
   "id": "d6102122",
   "metadata": {},
   "outputs": [
    {
     "name": "stderr",
     "output_type": "stream",
     "text": [
      "Exception in thread Thread-4:\n",
      "Traceback (most recent call last):\n",
      "  File \"/Users/gexahedron/miniconda3/envs/py38/lib/python3.8/site-packages/nest_asyncio.py\", line 27, in run\n",
      "    loop = asyncio.get_event_loop()\n",
      "  File \"/Users/gexahedron/miniconda3/envs/py38/lib/python3.8/asyncio/events.py\", line 639, in get_event_loop\n",
      "    raise RuntimeError('There is no current event loop in thread %r.'\n",
      "RuntimeError: There is no current event loop in thread 'Thread-4'.\n",
      "\n",
      "During handling of the above exception, another exception occurred:\n",
      "\n",
      "Traceback (most recent call last):\n",
      "  File \"/Users/gexahedron/miniconda3/envs/py38/lib/python3.8/threading.py\", line 932, in _bootstrap_inner\n",
      "    self.run()\n",
      "  File \"/Users/gexahedron/miniconda3/envs/py38/lib/python3.8/threading.py\", line 870, in run\n",
      "    self._target(*self._args, **self._kwargs)\n",
      "  File \"<ipython-input-1-4c2128054966>\", line 12, in func\n",
      "  File \"/Users/gexahedron/miniconda3/envs/py38/lib/python3.8/site-packages/nicegui/run.py\", line 121, in run\n",
      "    globals.server.run()\n",
      "  File \"/Users/gexahedron/miniconda3/envs/py38/lib/python3.8/site-packages/uvicorn/server.py\", line 60, in run\n",
      "    return asyncio.run(self.serve(sockets=sockets))\n",
      "  File \"/Users/gexahedron/miniconda3/envs/py38/lib/python3.8/site-packages/nest_asyncio.py\", line 31, in run\n",
      "    _patch_loop(loop)\n",
      "  File \"/Users/gexahedron/miniconda3/envs/py38/lib/python3.8/site-packages/nest_asyncio.py\", line 175, in _patch_loop\n",
      "    raise ValueError('Can\\'t patch loop of type %s' % type(loop))\n",
      "ValueError: Can't patch loop of type <class 'uvloop.Loop'>\n",
      "/Users/gexahedron/miniconda3/envs/py38/lib/python3.8/threading.py:934: RuntimeWarning: coroutine 'Server.serve' was never awaited\n",
      "  self._invoke_excepthook(self)\n",
      "RuntimeWarning: Enable tracemalloc to get the object allocation traceback\n"
     ]
    }
   ],
   "source": [
    "# NiceGUI doesn't work\n",
    "\n",
    "import nest_asyncio\n",
    "nest_asyncio.apply()\n",
    "\n",
    "import threading\n",
    "\n",
    "def func():\n",
    "    from nicegui import ui\n",
    "    ui.label('Hello NiceGUI!')\n",
    "    ui.button('BUTTON', on_click=lambda: ui.notify('button was pressed'))\n",
    "    ui.run(reload=False)\n",
    "\n",
    "threading.Thread(target=func).start()\n"
   ]
  },
  {
   "cell_type": "code",
   "execution_count": 1,
   "id": "b72af495",
   "metadata": {},
   "outputs": [
    {
     "name": "stdout",
     "output_type": "stream",
     "text": [
      "/Users/gexahedron/miniconda3/envs/py38/lib/python3.8/site-packages/justpy\n",
      "Module directory: /Users/gexahedron/miniconda3/envs/py38/lib/python3.8/site-packages/justpy, Application directory: /Users/gexahedron/devel/domblar/notebooks\n",
      "JustPy ready to go on http://127.0.0.1:8000\n"
     ]
    }
   ],
   "source": [
    "import nest_asyncio\n",
    "nest_asyncio.apply()\n",
    "\n",
    "import threading\n",
    "\n",
    "import justpy as jp\n",
    "\n",
    "def hello_world_readme():\n",
    "    wp = jp.WebPage()\n",
    "    d = jp.Div(text='Hello world!')\n",
    "    wp.add(d)\n",
    "    return wp\n",
    "\n",
    "def func():\n",
    "    jp.justpy(hello_world_readme)\n",
    "\n",
    "# threading.Thread(target=func).start()\n",
    "\n",
    "func()"
   ]
  },
  {
   "cell_type": "code",
   "execution_count": 1,
   "id": "17c8302f",
   "metadata": {},
   "outputs": [
    {
     "name": "stderr",
     "output_type": "stream",
     "text": [
      "<ipython-input-1-f38fbae9bd6e>:7: DeprecationWarning: zmq.eventloop.ioloop is deprecated in pyzmq 17. pyzmq now works with default tornado and asyncio eventloops.\n",
      "  return zmq.eventloop.ioloop.IOLoop.instance()\n"
     ]
    }
   ],
   "source": [
    "import threading\n",
    "\n",
    "def get_ioloop():\n",
    "    import IPython, zmq\n",
    "    ipython = IPython.get_ipython()\n",
    "    if ipython and hasattr(ipython, 'kernel'):\n",
    "        return zmq.eventloop.ioloop.IOLoop.instance()\n",
    "\n",
    "\n",
    "count = 0\n",
    "def button_function():\n",
    "    global count\n",
    "    count += 1\n",
    "    print(count)\n",
    "\n",
    "#The IOloop is shared\n",
    "ioloop = get_ioloop()\n",
    "\n",
    "\n",
    "class MyThread(threading.Thread):\n",
    "    def __init__(self):\n",
    "        super().__init__()\n",
    "\n",
    "        self._quit = threading.Event()\n",
    "        self.start()\n",
    "\n",
    "    def run(self):\n",
    "        import justpy as jp\n",
    "\n",
    "        def my_click(self, msg):\n",
    "            self.text = 'I was clicked!'\n",
    "            button_function()\n",
    "\n",
    "        def hello_world_readme2():\n",
    "            wp = jp.WebPage()\n",
    "            d = jp.Div(text='Hello world!')\n",
    "            d.on('click', my_click)\n",
    "            wp.add(d)\n",
    "            return wp\n",
    "\n",
    "        jp.justpy(hello_world_readme2)\n",
    "\n",
    "def run_progress():\n",
    "    thread = MyThread()\n",
    "    return thread\n"
   ]
  },
  {
   "cell_type": "code",
   "execution_count": 2,
   "id": "300062ec",
   "metadata": {},
   "outputs": [
    {
     "name": "stdout",
     "output_type": "stream",
     "text": [
      "/Users/gexahedron/miniconda3/envs/py38/lib/python3.8/site-packages/justpy\n",
      "Module directory: /Users/gexahedron/miniconda3/envs/py38/lib/python3.8/site-packages/justpy, Application directory: /Users/gexahedron/devel/domblar/notebooks\n",
      "JustPy ready to go on http://127.0.0.1:8000\n",
      "1\n"
     ]
    }
   ],
   "source": [
    "t3 = run_progress()\n",
    "# open browser in vs code in mac os: cmd+shift+p"
   ]
  },
  {
   "cell_type": "code",
   "execution_count": null,
   "id": "7e0e99cd",
   "metadata": {},
   "outputs": [],
   "source": []
  },
  {
   "cell_type": "code",
   "execution_count": 1,
   "id": "47b351a3",
   "metadata": {},
   "outputs": [
    {
     "name": "stderr",
     "output_type": "stream",
     "text": [
      "<ipython-input-1-4beb958a2f17>:10: DeprecationWarning: zmq.eventloop.ioloop is deprecated in pyzmq 17. pyzmq now works with default tornado and asyncio eventloops.\n",
      "  return zmq.eventloop.ioloop.IOLoop.instance()\n"
     ]
    }
   ],
   "source": [
    "# import threading\n",
    "# from IPython.display import display\n",
    "# import ipywidgets as widgets\n",
    "# import time\n",
    "\n",
    "# def get_ioloop():\n",
    "#     import IPython, zmq\n",
    "#     ipython = IPython.get_ipython()\n",
    "#     if ipython and hasattr(ipython, 'kernel'):\n",
    "#         return zmq.eventloop.ioloop.IOLoop.instance()\n",
    "\n",
    "\n",
    "# #The IOloop is shared\n",
    "# ioloop = get_ioloop()\n",
    "\n",
    "\n",
    "# class MyThread(threading.Thread):\n",
    "#     def __init__(self):\n",
    "#         super().__init__()\n",
    "\n",
    "#         self.progress = widgets.FloatProgress(value=0, min=0, max=10)\n",
    "\n",
    "#         self._quit = threading.Event()\n",
    "#         self.start()\n",
    "\n",
    "#     def run(self):\n",
    "#         i = 0\n",
    "#         while not self._quit.isSet():\n",
    "#             def update_progress(i=i):\n",
    "#                 if self._quit.isSet():\n",
    "#                     return\n",
    "#                 if self.progress.value == 10:\n",
    "#                     self.progress.value = 0\n",
    "#                 self.progress.value = i\n",
    "\n",
    "#             time.sleep(2)\n",
    "\n",
    "#             ioloop.add_callback(update_progress)\n",
    "\n",
    "#             i += 1\n",
    "#             if i > 10:\n",
    "#                 i = 0\n",
    "#         self.progress.value = 10\n",
    "#         print(\"Quit\")\n",
    "\n",
    "#     def quit(self):\n",
    "#         self._quit.set()\n",
    "\n",
    "# def run_progress():\n",
    "#     thread = MyThread()\n",
    "#     display(thread.progress)\n",
    "#     return thread\n"
   ]
  },
  {
   "cell_type": "code",
   "execution_count": 2,
   "id": "ccc25f39",
   "metadata": {},
   "outputs": [
    {
     "data": {
      "application/vnd.jupyter.widget-view+json": {
       "model_id": "5bffa234e9d9459583feb87086d6d736",
       "version_major": 2,
       "version_minor": 0
      },
      "text/plain": [
       "FloatProgress(value=0.0, max=10.0)"
      ]
     },
     "metadata": {},
     "output_type": "display_data"
    }
   ],
   "source": [
    "t1 = run_progress()\n"
   ]
  },
  {
   "cell_type": "code",
   "execution_count": 3,
   "id": "5a8d0d09",
   "metadata": {},
   "outputs": [
    {
     "data": {
      "application/vnd.jupyter.widget-view+json": {
       "model_id": "1dfd9db317244ceeaa067fbaab60868c",
       "version_major": 2,
       "version_minor": 0
      },
      "text/plain": [
       "FloatProgress(value=0.0, max=10.0)"
      ]
     },
     "metadata": {},
     "output_type": "display_data"
    }
   ],
   "source": [
    "t2 = run_progress()\n"
   ]
  },
  {
   "cell_type": "code",
   "execution_count": 5,
   "id": "7cfdc62c",
   "metadata": {},
   "outputs": [
    {
     "name": "stdout",
     "output_type": "stream",
     "text": [
      "Quit\n"
     ]
    }
   ],
   "source": [
    "t1.quit()\n",
    "t2.quit()"
   ]
  },
  {
   "cell_type": "code",
   "execution_count": 1,
   "id": "fdeb8b4c",
   "metadata": {},
   "outputs": [
    {
     "name": "stderr",
     "output_type": "stream",
     "text": [
      "<ipython-input-1-e1ecc1aafbbe>:7: DeprecationWarning: zmq.eventloop.ioloop is deprecated in pyzmq 17. pyzmq now works with default tornado and asyncio eventloops.\n",
      "  return zmq.eventloop.ioloop.IOLoop.instance()\n"
     ]
    }
   ],
   "source": [
    "import threading\n",
    "\n",
    "def get_ioloop():\n",
    "    import IPython, zmq\n",
    "    ipython = IPython.get_ipython()\n",
    "    if ipython and hasattr(ipython, 'kernel'):\n",
    "        return zmq.eventloop.ioloop.IOLoop.instance()\n",
    "\n",
    "\n",
    "count = 0\n",
    "def button_function():\n",
    "    global count\n",
    "    count += 1\n",
    "    print(count)\n",
    "\n",
    "#The IOloop is shared\n",
    "ioloop = get_ioloop()\n",
    "\n",
    "\n",
    "class MyThread(threading.Thread):\n",
    "    def __init__(self):\n",
    "        super().__init__()\n",
    "\n",
    "        self._quit = threading.Event()\n",
    "        self.start()\n",
    "\n",
    "    def run(self):\n",
    "        from nicegui import ui\n",
    "\n",
    "        def my_click():\n",
    "            global count\n",
    "            button_function()\n",
    "            text = f'button was pressed {count} times'\n",
    "            ui.notify(text)\n",
    "            self.button.set_text(text)\n",
    "\n",
    "        ui.label('Hello NiceGUI!')\n",
    "        self.button = ui.button('BUTTON', on_click=my_click)\n",
    "        ui.run(reload=False)\n",
    "\n",
    "def run_progress():\n",
    "    thread = MyThread()\n",
    "    return thread\n"
   ]
  },
  {
   "cell_type": "code",
   "execution_count": 2,
   "id": "59035a81",
   "metadata": {},
   "outputs": [
    {
     "name": "stdout",
     "output_type": "stream",
     "text": [
      "NiceGUI ready to go on http://0.0.0.0:8080\n",
      "1\n",
      "2\n",
      "3\n",
      "4\n",
      "5\n",
      "6\n",
      "7\n",
      "8\n",
      "9\n",
      "10\n"
     ]
    }
   ],
   "source": [
    "t1 = run_progress()\n"
   ]
  },
  {
   "cell_type": "code",
   "execution_count": null,
   "id": "ebfcb306",
   "metadata": {},
   "outputs": [],
   "source": []
  }
 ],
 "metadata": {
  "kernelspec": {
   "display_name": "Python 3",
   "language": "python",
   "name": "python3"
  },
  "language_info": {
   "codemirror_mode": {
    "name": "ipython",
    "version": 3
   },
   "file_extension": ".py",
   "mimetype": "text/x-python",
   "name": "python",
   "nbconvert_exporter": "python",
   "pygments_lexer": "ipython3",
   "version": "3.8.10"
  }
 },
 "nbformat": 4,
 "nbformat_minor": 5
}
