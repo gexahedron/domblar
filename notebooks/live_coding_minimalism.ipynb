{
 "cells": [
  {
   "cell_type": "code",
   "execution_count": 1,
   "id": "3df91801",
   "metadata": {},
   "outputs": [
    {
     "name": "stdout",
     "output_type": "stream",
     "text": [
      "/Users/gexahedron/devel/domblar\n"
     ]
    }
   ],
   "source": [
    "# setup:\n",
    "# 1. open scds/vst_tracker.scd file in SuperCollider\n",
    "# and run first cell (on MacOS press 'Cmd+Enter')\n",
    "\n",
    "# 2. run this cell\n",
    "%cd ..\n",
    "\n",
    "synth_count = 6\n",
    "\n",
    "from domblar.domblar import Domblar\n",
    "d = Domblar(\n",
    "    synth_count=synth_count,\n",
    "    context='dexed',\n",
    "    analysis_mode=False,\n",
    ")"
   ]
  },
  {
   "cell_type": "code",
   "execution_count": null,
   "id": "583e7303",
   "metadata": {},
   "outputs": [],
   "source": [
    "# sliding window approach to form (similar to Riley's \"In C\", Rzewski's \"Les Moutons de Panurge\" Kyle Gann):\n",
    "# https://www.kylegann.com/CallMyselfaMinimalist.html\n",
    "# A, AB, ABC, BCD, BCDE, DEF, DEFG, EFGH...\n",
    "# L-system rhythms?\n",
    "# although I also like Philip Glass approach, sounds very techno-like, jittery"
   ]
  },
  {
   "cell_type": "code",
   "execution_count": 85,
   "id": "20dec18e",
   "metadata": {},
   "outputs": [],
   "source": [
    "finetuning = 0\n",
    "\n",
    "try:\n",
    "    finetuning\n",
    "except Exception as e:\n",
    "    d.open_editor(0)\n",
    "    finetuning = 1\n",
    "else:\n",
    "    if finetuning == 0:\n",
    "        d.open_editor(0)\n",
    "    elif finetuning == 1:\n",
    "        # transfer instrument to all synths\n",
    "        d.save_preset(0)\n",
    "        import time\n",
    "        time.sleep(0.5)\n",
    "        for i in range(synth_count):\n",
    "            d.load_preset(i)\n",
    "    else:\n",
    "        d.print_params(0)"
   ]
  },
  {
   "cell_type": "code",
   "execution_count": null,
   "id": "b48c0364",
   "metadata": {},
   "outputs": [],
   "source": [
    "# cleanup\n",
    "d.stop_server()"
   ]
  },
  {
   "cell_type": "code",
   "execution_count": null,
   "id": "85fcb657",
   "metadata": {},
   "outputs": [],
   "source": []
  }
 ],
 "metadata": {
  "kernelspec": {
   "display_name": "py38",
   "language": "python",
   "name": "python3"
  },
  "language_info": {
   "codemirror_mode": {
    "name": "ipython",
    "version": 3
   },
   "file_extension": ".py",
   "mimetype": "text/x-python",
   "name": "python",
   "nbconvert_exporter": "python",
   "pygments_lexer": "ipython3",
   "version": "3.8.10"
  },
  "vscode": {
   "interpreter": {
    "hash": "fbf0dd17592d3ca6e635cabb1c16d1355bb8d9b58dd5152262ed90a953ba68fb"
   }
  }
 },
 "nbformat": 4,
 "nbformat_minor": 5
}
