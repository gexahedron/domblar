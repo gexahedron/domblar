{
 "cells": [
  {
   "cell_type": "code",
   "execution_count": 6,
   "id": "3df91801",
   "metadata": {},
   "outputs": [
    {
     "name": "stdout",
     "output_type": "stream",
     "text": [
      "/Users/gexahedron/devel\n"
     ]
    }
   ],
   "source": [
    "# setup:\n",
    "# 1. open scds/vst_tracker.scd file in SuperCollider\n",
    "# and run first cell (on MacOS press 'Cmd+Enter')\n",
    "\n",
    "# 2. run this cell\n",
    "%cd ..\n",
    "\n",
    "rep = 3\n",
    "from domblar.domblar import Domblar\n",
    "d = Domblar(\n",
    "    synth_count=3 * rep,\n",
    "    context='dexed'\n",
    ")"
   ]
  },
  {
   "cell_type": "code",
   "execution_count": 13,
   "id": "583e7303",
   "metadata": {},
   "outputs": [],
   "source": [
    "# tintinnabuli example (from Fratres)\n",
    "# based on https://www.youtube.com/watch?v=XbykaYwVO0w\n",
    "\n",
    "# todos:\n",
    "# add drone\n",
    "# add percussion (clave)\n",
    "# humanize tempo\n",
    "# replace rep, muls & amps with something smarter and less error-prone\n",
    "# add timbre modulations\n",
    "# generalize to other scales\n",
    "# create useful operations for live-coding/composition\n",
    "# (maybe) calculate t-scales with some algorithms\n",
    "\n",
    "from domblar.transformations import transpose\n",
    "from domblar.edo import Scale\n",
    "\n",
    "def set_synths():\n",
    "    for i in range(3 * rep):\n",
    "        d.set_synth(i, 'strings10')\n",
    "set_synths()\n",
    "\n",
    "edo = 12\n",
    "scale = list(range(edo))\n",
    "\n",
    "# t and m scales\n",
    "m_scale  = Scale([ 4, 5, 7, 9, 10, 13, 14], edo)  # D harm min / A Phrygian dominant\n",
    "t1_scale = Scale([-3, 0, 0, 0,  0,  4,  4], edo)  # Am chord; A natural minor (implied)\n",
    "t2_scale = Scale([-3, -3, 0, 0, 4,  4,  9], edo)  # also Am chord\n",
    "\n",
    "def build_chord(idx, m_scale, t_scale):\n",
    "    return transpose([\n",
    "        m_scale[idx - 2],\n",
    "        transpose(t_scale[idx], edo),\n",
    "        transpose(m_scale[idx], edo)\n",
    "        ], edo)\n",
    "\n",
    "chords = []\n",
    "muls = []\n",
    "amps = []\n",
    "\n",
    "for r in range(8):\n",
    "    cur_amp = 1.5 - 2 * abs(r - 3) / 6\n",
    "    for i in range(1, 4):\n",
    "        chords.append(build_chord(0 - 2 * r, m_scale, t1_scale))\n",
    "        muls.append(2)\n",
    "        amps.append(cur_amp)\n",
    "        for j in range(1, i + 1):\n",
    "            chords.append(build_chord(-j - 2 * r, m_scale, t1_scale))\n",
    "            muls.append(1)\n",
    "            amps.append(cur_amp)\n",
    "        for j in range(i):\n",
    "            chords.append(build_chord(i - j - 2 * r, m_scale, t1_scale))\n",
    "            muls.append(1)\n",
    "            amps.append(cur_amp)\n",
    "        chords.append(build_chord(0 - 2 * r, m_scale, t1_scale))\n",
    "        muls.append(2)\n",
    "        amps.append(cur_amp)\n",
    "        chords.append('.')\n",
    "        muls.append(1)\n",
    "        amps.append(cur_amp)\n",
    "\n",
    "    for i in range(1, 4):\n",
    "        chords.append(build_chord(0 - 2 * r, m_scale, t2_scale))\n",
    "        muls.append(2)\n",
    "        amps.append(cur_amp)\n",
    "        for j in range(1, i + 1):\n",
    "            chords.append(build_chord(j - 2 * r, m_scale, t2_scale))\n",
    "            muls.append(1)\n",
    "            amps.append(cur_amp)\n",
    "        for j in range(i):\n",
    "            chords.append(build_chord(j - i - 2 * r, m_scale, t2_scale))\n",
    "            muls.append(1)\n",
    "            amps.append(cur_amp)\n",
    "        chords.append(build_chord(0 - 2 * r, m_scale, t2_scale))\n",
    "        muls.append(2)\n",
    "        amps.append(cur_amp)\n",
    "        chords.append('.')\n",
    "        muls.append(1)\n",
    "        amps.append(cur_amp)\n",
    "\n",
    "dur = 1.0\n",
    "d.play(chords, scale, edo,\n",
    "       synth_idx=[0, 3, 6], rep=rep,\n",
    "       dur=dur, sus=dur * 0.9,\n",
    "       muls=muls, amps=amps)"
   ]
  },
  {
   "cell_type": "code",
   "execution_count": 6,
   "id": "20dec18e",
   "metadata": {},
   "outputs": [],
   "source": [
    "finetuning = 1\n",
    "\n",
    "try:\n",
    "    finetuning\n",
    "except Exception as e:\n",
    "    d.open_editor(0)\n",
    "    finetuning = 1\n",
    "else:\n",
    "    if finetuning == 0:\n",
    "        d.open_editor(0)\n",
    "    elif finetuning == 1:\n",
    "        # transfer instrument to all synths\n",
    "        d.save_preset(0)\n",
    "        import time\n",
    "        time.sleep(0.5)\n",
    "        for i in range(3):\n",
    "            d.load_preset(i)\n",
    "    else:\n",
    "        d.print_params(0)"
   ]
  },
  {
   "cell_type": "code",
   "execution_count": 3,
   "id": "b48c0364",
   "metadata": {},
   "outputs": [],
   "source": [
    "# cleanup\n",
    "d.stop_server()"
   ]
  },
  {
   "cell_type": "code",
   "execution_count": null,
   "id": "4987b6f7",
   "metadata": {},
   "outputs": [],
   "source": []
  }
 ],
 "metadata": {
  "kernelspec": {
   "display_name": "py38",
   "language": "python",
   "name": "python3"
  },
  "language_info": {
   "codemirror_mode": {
    "name": "ipython",
    "version": 3
   },
   "file_extension": ".py",
   "mimetype": "text/x-python",
   "name": "python",
   "nbconvert_exporter": "python",
   "pygments_lexer": "ipython3",
   "version": "3.8.10"
  },
  "vscode": {
   "interpreter": {
    "hash": "fbf0dd17592d3ca6e635cabb1c16d1355bb8d9b58dd5152262ed90a953ba68fb"
   }
  }
 },
 "nbformat": 4,
 "nbformat_minor": 5
}
