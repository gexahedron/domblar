{
 "cells": [
  {
   "cell_type": "code",
   "execution_count": 1,
   "id": "3df91801",
   "metadata": {},
   "outputs": [
    {
     "name": "stdout",
     "output_type": "stream",
     "text": [
      "/Users/gexahedron/devel/domblar\n"
     ]
    }
   ],
   "source": [
    "# setup:\n",
    "# 1. open scds/vst_tracker.scd file in SuperCollider\n",
    "# and run first cell\n",
    "\n",
    "# 2. run this cell\n",
    "%cd ..\n",
    "\n",
    "from domblar.domblar import Domblar\n",
    "d = Domblar(\n",
    "    synth_count=4,\n",
    "    context='dexed',\n",
    ")"
   ]
  },
  {
   "cell_type": "code",
   "execution_count": 2,
   "id": "583e7303",
   "metadata": {},
   "outputs": [],
   "source": [
    "# Steve Reich - \"Clapping Music\"\n",
    "\n",
    "from copy import copy\n",
    "import random\n",
    "\n",
    "from domblar.rhythm import get_grouped_rhythm, rhythm_to_notes\n",
    "from domblar.transformations import shift\n",
    "\n",
    "def set_synths():\n",
    "    d.set_synth(0, 'timpani')\n",
    "    d.set_synth(1, 'timpani2')\n",
    "set_synths()\n",
    "\n",
    "edo = 2\n",
    "scale = list(range(edo))\n",
    "\n",
    "rhythm1 = get_grouped_rhythm([3, 2, 1, 2])\n",
    "rhythm2 = copy(rhythm1)\n",
    "voice1 = []\n",
    "voice2 = []\n",
    "for i in range(len(rhythm1) + 1):\n",
    "    rep_count = random.randint(4, 8)\n",
    "    voice1.extend(rhythm1 * rep_count)\n",
    "    voice2.extend(rhythm2 * rep_count)\n",
    "    rhythm2 = shift(rhythm2, 1)\n",
    "voice1 = rhythm_to_notes(voice1, 0)\n",
    "voice2 = rhythm_to_notes(voice2, 0)\n",
    "# TODO: create a method for \"list(zip)\"\n",
    "chords = list(zip(voice1, voice2))\n",
    "d.rec()\n",
    "d.play(chords, scale, edo, synth_idx=[0, 1], dur=0.16)\n",
    "d.stop_rec()"
   ]
  },
  {
   "cell_type": "code",
   "execution_count": 4,
   "id": "b48c0364",
   "metadata": {},
   "outputs": [],
   "source": [
    "# cleanup\n",
    "d.stop_server()\n"
   ]
  },
  {
   "cell_type": "code",
   "execution_count": null,
   "id": "4987b6f7",
   "metadata": {},
   "outputs": [],
   "source": []
  }
 ],
 "metadata": {
  "kernelspec": {
   "display_name": "py38",
   "language": "python",
   "name": "python3"
  },
  "language_info": {
   "codemirror_mode": {
    "name": "ipython",
    "version": 3
   },
   "file_extension": ".py",
   "mimetype": "text/x-python",
   "name": "python",
   "nbconvert_exporter": "python",
   "pygments_lexer": "ipython3",
   "version": "3.8.10"
  },
  "vscode": {
   "interpreter": {
    "hash": "fbf0dd17592d3ca6e635cabb1c16d1355bb8d9b58dd5152262ed90a953ba68fb"
   }
  }
 },
 "nbformat": 4,
 "nbformat_minor": 5
}
