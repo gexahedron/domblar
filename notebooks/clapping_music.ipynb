{
 "cells": [
  {
   "cell_type": "code",
   "execution_count": 2,
   "id": "3df91801",
   "metadata": {},
   "outputs": [
    {
     "name": "stdout",
     "output_type": "stream",
     "text": [
      "/Users/gexahedron/devel\n"
     ]
    }
   ],
   "source": [
    "# setup:\n",
    "# 1. open scds/vst_tracker.scd file in SuperCollider\n",
    "# and run first cell\n",
    "\n",
    "# 2. run this cell\n",
    "%cd ..\n",
    "\n",
    "from domblar.domblar import Domblar\n",
    "d = Domblar(\n",
    "    synth_count=4,\n",
    "    context='dexed',\n",
    ")"
   ]
  },
  {
   "cell_type": "code",
   "execution_count": 3,
   "id": "583e7303",
   "metadata": {},
   "outputs": [
    {
     "ename": "KeyboardInterrupt",
     "evalue": "",
     "output_type": "error",
     "traceback": [
      "\u001b[0;31m---------------------------------------------------------------------------\u001b[0m",
      "\u001b[0;31mKeyboardInterrupt\u001b[0m                         Traceback (most recent call last)",
      "\u001b[0;32m<ipython-input-3-f9bd956ac9bf>\u001b[0m in \u001b[0;36m<cell line: 30>\u001b[0;34m()\u001b[0m\n\u001b[1;32m     28\u001b[0m \u001b[0;31m# TODO: create a method for \"list(zip)\"\u001b[0m\u001b[0;34m\u001b[0m\u001b[0;34m\u001b[0m\u001b[0;34m\u001b[0m\u001b[0m\n\u001b[1;32m     29\u001b[0m \u001b[0mchords\u001b[0m \u001b[0;34m=\u001b[0m \u001b[0mlist\u001b[0m\u001b[0;34m(\u001b[0m\u001b[0mzip\u001b[0m\u001b[0;34m(\u001b[0m\u001b[0mvoice1\u001b[0m\u001b[0;34m,\u001b[0m \u001b[0mvoice2\u001b[0m\u001b[0;34m)\u001b[0m\u001b[0;34m)\u001b[0m\u001b[0;34m\u001b[0m\u001b[0;34m\u001b[0m\u001b[0m\n\u001b[0;32m---> 30\u001b[0;31m \u001b[0md\u001b[0m\u001b[0;34m.\u001b[0m\u001b[0mplay\u001b[0m\u001b[0;34m(\u001b[0m\u001b[0mchords\u001b[0m\u001b[0;34m,\u001b[0m \u001b[0mscale\u001b[0m\u001b[0;34m,\u001b[0m \u001b[0medo\u001b[0m\u001b[0;34m,\u001b[0m \u001b[0msynth_idx\u001b[0m\u001b[0;34m=\u001b[0m\u001b[0;34m[\u001b[0m\u001b[0;36m0\u001b[0m\u001b[0;34m,\u001b[0m \u001b[0;36m1\u001b[0m\u001b[0;34m]\u001b[0m\u001b[0;34m,\u001b[0m \u001b[0mdur\u001b[0m\u001b[0;34m=\u001b[0m\u001b[0;36m0.16\u001b[0m\u001b[0;34m)\u001b[0m\u001b[0;34m\u001b[0m\u001b[0;34m\u001b[0m\u001b[0m\n\u001b[0m",
      "\u001b[0;32m~/devel/domblar/domblar/domblar.py\u001b[0m in \u001b[0;36mplay\u001b[0;34m(self, chords, scale, edo, dur, sus, delay, synth_idx)\u001b[0m\n\u001b[1;32m     14\u001b[0m \u001b[0;34m\u001b[0m\u001b[0m\n\u001b[1;32m     15\u001b[0m     \u001b[0;32mdef\u001b[0m \u001b[0mplay\u001b[0m\u001b[0;34m(\u001b[0m\u001b[0mself\u001b[0m\u001b[0;34m,\u001b[0m \u001b[0mchords\u001b[0m\u001b[0;34m,\u001b[0m \u001b[0mscale\u001b[0m\u001b[0;34m,\u001b[0m \u001b[0medo\u001b[0m\u001b[0;34m,\u001b[0m \u001b[0mdur\u001b[0m\u001b[0;34m=\u001b[0m\u001b[0;36m0.25\u001b[0m\u001b[0;34m,\u001b[0m \u001b[0msus\u001b[0m\u001b[0;34m=\u001b[0m\u001b[0;32mNone\u001b[0m\u001b[0;34m,\u001b[0m \u001b[0mdelay\u001b[0m\u001b[0;34m=\u001b[0m\u001b[0;32mNone\u001b[0m\u001b[0;34m,\u001b[0m \u001b[0msynth_idx\u001b[0m\u001b[0;34m=\u001b[0m\u001b[0;36m0\u001b[0m\u001b[0;34m)\u001b[0m\u001b[0;34m:\u001b[0m\u001b[0;34m\u001b[0m\u001b[0;34m\u001b[0m\u001b[0m\n\u001b[0;32m---> 16\u001b[0;31m         play(chords, scale, edo, self.client,\n\u001b[0m\u001b[1;32m     17\u001b[0m              dur=dur, sus=sus, delay=delay, synth_idx=synth_idx)\n\u001b[1;32m     18\u001b[0m \u001b[0;34m\u001b[0m\u001b[0m\n",
      "\u001b[0;32m~/devel/domblar/domblar/players.py\u001b[0m in \u001b[0;36mplay\u001b[0;34m(chords, scale, edo, client, dur, sus, delay, synth_idx)\u001b[0m\n\u001b[1;32m     61\u001b[0m             \u001b[0;32mif\u001b[0m \u001b[0mdelay\u001b[0m\u001b[0;34m:\u001b[0m\u001b[0;34m\u001b[0m\u001b[0;34m\u001b[0m\u001b[0m\n\u001b[1;32m     62\u001b[0m                 \u001b[0mtime\u001b[0m\u001b[0;34m.\u001b[0m\u001b[0msleep\u001b[0m\u001b[0;34m(\u001b[0m\u001b[0mdelay\u001b[0m\u001b[0;34m)\u001b[0m\u001b[0;34m\u001b[0m\u001b[0;34m\u001b[0m\u001b[0m\n\u001b[0;32m---> 63\u001b[0;31m         \u001b[0mtime\u001b[0m\u001b[0;34m.\u001b[0m\u001b[0msleep\u001b[0m\u001b[0;34m(\u001b[0m\u001b[0mdur\u001b[0m\u001b[0;34m)\u001b[0m\u001b[0;34m\u001b[0m\u001b[0;34m\u001b[0m\u001b[0m\n\u001b[0m\u001b[1;32m     64\u001b[0m \u001b[0;34m\u001b[0m\u001b[0m\n\u001b[1;32m     65\u001b[0m \u001b[0;34m\u001b[0m\u001b[0m\n",
      "\u001b[0;31mKeyboardInterrupt\u001b[0m: "
     ]
    }
   ],
   "source": [
    "# Steve Reich - \"Clapping Music\"\n",
    "\n",
    "from copy import copy\n",
    "import random\n",
    "\n",
    "from domblar.rhythm import get_grouped_rhythm, rhythm_to_notes\n",
    "from domblar.transformations import shift\n",
    "\n",
    "def set_synths():\n",
    "    d.set_synth(0, 'timpani')\n",
    "    d.set_synth(1, 'timpani2')\n",
    "set_synths()\n",
    "\n",
    "edo = 2\n",
    "scale = list(range(edo))\n",
    "\n",
    "rhythm1 = get_grouped_rhythm([3, 2, 1, 2])\n",
    "rhythm2 = copy(rhythm1)\n",
    "voice1 = []\n",
    "voice2 = []\n",
    "for i in range(len(rhythm1) + 1):\n",
    "    rep_count = random.randint(4, 8)\n",
    "    voice1.extend(rhythm1 * rep_count)\n",
    "    voice2.extend(rhythm2 * rep_count)\n",
    "    rhythm2 = shift(rhythm2, 1)\n",
    "voice1 = rhythm_to_notes(voice1, 0)\n",
    "voice2 = rhythm_to_notes(voice2, 0)\n",
    "# TODO: create a method for \"list(zip)\"\n",
    "chords = list(zip(voice1, voice2))\n",
    "d.play(chords, scale, edo, synth_idx=[0, 1], dur=0.16)"
   ]
  },
  {
   "cell_type": "code",
   "execution_count": 4,
   "id": "b48c0364",
   "metadata": {},
   "outputs": [],
   "source": [
    "# cleanup\n",
    "d.stop_server()\n"
   ]
  },
  {
   "cell_type": "code",
   "execution_count": null,
   "id": "4987b6f7",
   "metadata": {},
   "outputs": [],
   "source": []
  }
 ],
 "metadata": {
  "kernelspec": {
   "display_name": "py38",
   "language": "python",
   "name": "python3"
  },
  "language_info": {
   "codemirror_mode": {
    "name": "ipython",
    "version": 3
   },
   "file_extension": ".py",
   "mimetype": "text/x-python",
   "name": "python",
   "nbconvert_exporter": "python",
   "pygments_lexer": "ipython3",
   "version": "3.8.10"
  },
  "vscode": {
   "interpreter": {
    "hash": "fbf0dd17592d3ca6e635cabb1c16d1355bb8d9b58dd5152262ed90a953ba68fb"
   }
  }
 },
 "nbformat": 4,
 "nbformat_minor": 5
}
