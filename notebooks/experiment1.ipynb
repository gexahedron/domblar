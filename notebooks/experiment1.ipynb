{
 "cells": [
  {
   "cell_type": "code",
   "execution_count": 1,
   "id": "bc0f05eb",
   "metadata": {},
   "outputs": [
    {
     "name": "stdout",
     "output_type": "stream",
     "text": [
      "/Users/gexahedron/devel/domblar\n"
     ]
    }
   ],
   "source": [
    "%cd ..\n",
    "\n",
    "# imports:\n",
    "# todo: hide/combine/simplify these imports\n",
    "from domblar.sc3.client import SC3Client\n",
    "from domblar.sc3.instruments import setup_instruments, assign_instrument\n",
    "from domblar.players import play, play_voices\n",
    "from domblar.transformations import iterate_voice_leadings, shift, transpose, split\n",
    "from domblar.rhythm import get_grouped_rhythm, rhythm_to_notes\n",
    "from domblar.edo import build_mos_from_edo, intervals_in_edo"
   ]
  },
  {
   "cell_type": "code",
   "execution_count": 2,
   "id": "3df91801",
   "metadata": {},
   "outputs": [],
   "source": [
    "# setup:\n",
    "# 1. open scds/vst_tracker.scd file in SuperCollider\n",
    "# and run first cell\n",
    "\n",
    "# 2. run this cell\n",
    "client = SC3Client()\n",
    "instruments = setup_instruments(client, 4, 'Dexed.vst3', 'dexed_preset')"
   ]
  },
  {
   "cell_type": "code",
   "execution_count": 3,
   "id": "28de7d45",
   "metadata": {},
   "outputs": [
    {
     "name": "stdout",
     "output_type": "stream",
     "text": [
      "[0, 3, 10, 13, 20, 23, 30, 37]\n",
      "steps - [3, 7, 3, 7, 3, 7, 7]\n"
     ]
    }
   ],
   "source": [
    "# play:\n",
    "\n",
    "def assign_instruments():\n",
    "    # assign_instrument(0, 'tub_bells', instruments, client)\n",
    "    assign_instrument(0, 'brass/toto_africa', instruments, client)\n",
    "assign_instruments()\n",
    "\n",
    "edo = 37\n",
    "# fixme: remove this scale, looks redundant\n",
    "scale = list(range(edo))\n",
    "\n",
    "scales = {}\n",
    "scales['orgone7'] = build_mos_from_edo(7, gen=10, edo=edo, down=0, shift=0) + [edo]\n",
    "\n",
    "cur_scale = scales['orgone7']\n",
    "print(cur_scale)\n",
    "print('steps -', intervals_in_edo(cur_scale, edo))\n",
    "play(cur_scale, scale, edo, client, synth_idx=[0], dur=0.3)\n"
   ]
  },
  {
   "cell_type": "code",
   "execution_count": 5,
   "id": "a2b0619a",
   "metadata": {},
   "outputs": [
    {
     "name": "stdout",
     "output_type": "stream",
     "text": [
      "[[0, 2, 7, 11], [-2, 5, 9, 12], [-4, 7, 10, 15], [-6, 8, 13, 17], [-8, 11, 15, 18], [-10, 13, 16, 21], [-12, 14, 19, 23]]\n"
     ]
    }
   ],
   "source": [
    "chords = iterate_voice_leadings(\n",
    "    [0, 2, 7, 11],\n",
    "    [-2, 10, -2, -2],\n",
    "    [0, 2, 3, 1],\n",
    "    7)\n",
    "print(chords)\n",
    "\n",
    "def assign_instruments():\n",
    "    for i in range(4):\n",
    "        # assign_instrument(i, 'tub_bells', instruments, client)\n",
    "        assign_instrument(i, 'brass/toto_africa', instruments, client)\n",
    "assign_instruments()\n",
    "\n",
    "edo = 12\n",
    "scale = list(range(edo))\n",
    "play(chords, scale, edo, client, synth_idx=[0, 1, 2, 3], dur=0.75)\n"
   ]
  },
  {
   "cell_type": "code",
   "execution_count": 6,
   "id": "7c4c27ab",
   "metadata": {},
   "outputs": [
    {
     "ename": "KeyboardInterrupt",
     "evalue": "",
     "output_type": "error",
     "traceback": [
      "\u001b[0;31m---------------------------------------------------------------------------\u001b[0m",
      "\u001b[0;31mKeyboardInterrupt\u001b[0m                         Traceback (most recent call last)",
      "\u001b[0;32m<ipython-input-6-56da8cb88d4b>\u001b[0m in \u001b[0;36m<cell line: 53>\u001b[0;34m()\u001b[0m\n\u001b[1;32m     51\u001b[0m \u001b[0mmelody\u001b[0m \u001b[0;34m=\u001b[0m \u001b[0msplit\u001b[0m\u001b[0;34m(\u001b[0m\u001b[0mmelody\u001b[0m\u001b[0;34m)\u001b[0m\u001b[0;34m\u001b[0m\u001b[0;34m\u001b[0m\u001b[0m\n\u001b[1;32m     52\u001b[0m \u001b[0mmelody\u001b[0m \u001b[0;34m=\u001b[0m \u001b[0mmelody\u001b[0m\u001b[0;34m[\u001b[0m\u001b[0;34m:\u001b[0m\u001b[0;34m-\u001b[0m\u001b[0;36m1\u001b[0m\u001b[0;34m]\u001b[0m \u001b[0;34m+\u001b[0m \u001b[0;34m[\u001b[0m\u001b[0;34m[\u001b[0m\u001b[0;34m'.'\u001b[0m\u001b[0;34m,\u001b[0m \u001b[0;34m'.'\u001b[0m\u001b[0;34m]\u001b[0m\u001b[0;34m]\u001b[0m\u001b[0;34m\u001b[0m\u001b[0;34m\u001b[0m\u001b[0m\n\u001b[0;32m---> 53\u001b[0;31m \u001b[0mplay\u001b[0m\u001b[0;34m(\u001b[0m\u001b[0mmelody\u001b[0m\u001b[0;34m,\u001b[0m \u001b[0mscale\u001b[0m\u001b[0;34m,\u001b[0m \u001b[0medo\u001b[0m\u001b[0;34m,\u001b[0m \u001b[0mclient\u001b[0m\u001b[0;34m,\u001b[0m \u001b[0msynth_idx\u001b[0m\u001b[0;34m=\u001b[0m\u001b[0;34m[\u001b[0m\u001b[0;36m0\u001b[0m\u001b[0;34m,\u001b[0m \u001b[0;36m1\u001b[0m\u001b[0;34m]\u001b[0m\u001b[0;34m,\u001b[0m \u001b[0mdur\u001b[0m\u001b[0;34m=\u001b[0m\u001b[0;36m0.25\u001b[0m\u001b[0;34m)\u001b[0m\u001b[0;34m\u001b[0m\u001b[0;34m\u001b[0m\u001b[0m\n\u001b[0m",
      "\u001b[0;32m~/devel/domblar/domblar/players.py\u001b[0m in \u001b[0;36mplay\u001b[0;34m(chords, scale, edo, client, dur, sus, delay, synth_idx)\u001b[0m\n\u001b[1;32m     61\u001b[0m             \u001b[0;32mif\u001b[0m \u001b[0mdelay\u001b[0m\u001b[0;34m:\u001b[0m\u001b[0;34m\u001b[0m\u001b[0;34m\u001b[0m\u001b[0m\n\u001b[1;32m     62\u001b[0m                 \u001b[0mtime\u001b[0m\u001b[0;34m.\u001b[0m\u001b[0msleep\u001b[0m\u001b[0;34m(\u001b[0m\u001b[0mdelay\u001b[0m\u001b[0;34m)\u001b[0m\u001b[0;34m\u001b[0m\u001b[0;34m\u001b[0m\u001b[0m\n\u001b[0;32m---> 63\u001b[0;31m         \u001b[0mtime\u001b[0m\u001b[0;34m.\u001b[0m\u001b[0msleep\u001b[0m\u001b[0;34m(\u001b[0m\u001b[0mdur\u001b[0m\u001b[0;34m)\u001b[0m\u001b[0;34m\u001b[0m\u001b[0;34m\u001b[0m\u001b[0m\n\u001b[0m\u001b[1;32m     64\u001b[0m \u001b[0;34m\u001b[0m\u001b[0m\n\u001b[1;32m     65\u001b[0m \u001b[0;34m\u001b[0m\u001b[0m\n",
      "\u001b[0;31mKeyboardInterrupt\u001b[0m: "
     ]
    }
   ],
   "source": [
    "# melody example\n",
    "# Stephane Picq, Dune - Water\n",
    "# what i like about this is\n",
    "# - simplicity / repetitiveness\n",
    "# - nice modulations\n",
    "# values below are MIDI values\n",
    "\n",
    "def arpeggio_dune_water(notes, reps=2):\n",
    "    assert (len(notes) == 4)\n",
    "    notes.sort()\n",
    "    v1 = [notes[3], notes[2], notes[1], notes[2]]\n",
    "    v2 = [notes[3], notes[2], notes[0], notes[2]]\n",
    "    return (v1 + v2) * reps\n",
    "\n",
    "# c3 = 48; melody starts on d#3, 51, it's d# lydian actually\n",
    "# vibraphone\n",
    "part1 = arpeggio_dune_water([43, 45, 46, 51])\n",
    "part2 = arpeggio_dune_water([43, 45, 46, 50])\n",
    "part3 = arpeggio_dune_water([43, 45, 47, 52])\n",
    "part4 = arpeggio_dune_water([47, 49, 50, 54])\n",
    "# part1, part2, part3, part4 are repeated again\n",
    "\n",
    "# 1: 51 d# lydian\n",
    "# 2: 50 d aeolian\n",
    "# 3: 52 e aeolian\n",
    "# 4: 47 b aeolian = 54 phrygian (i think i perceive this as aeolian though)\n",
    "\n",
    "part5 = arpeggio_dune_water([50, 52, 53, 57])\n",
    "part6 = arpeggio_dune_water([53, 55, 56, 60])\n",
    "part7 = arpeggio_dune_water([45, 47, 48, 52])\n",
    "# part8 is a final part and is more tricky:\n",
    "part8 = arpeggio_dune_water([44, 47, 48, 51], reps=1) + arpeggio_dune_water([44, 46, 48, 51], reps=1)\n",
    "\n",
    "# 5: 50 d aeolian (part4 shifted by 3 steps)\n",
    "# 6: 53 f aeolian (part5 shifted by 3 steps)\n",
    "# 7: 45 a aeolian (part6 shifted down by 8 steps)\n",
    "# 8: no single (Pressing scale) collection, because 2 consecutive semitones\n",
    "# 8.1: e harm maj, c harm min, oct(0,2), hex(0,3)\n",
    "# 8.2: 44 g# ionian\n",
    "\n",
    "def assign_instruments():\n",
    "    for i in range(2):\n",
    "        assign_instrument(i, 'vibraphone/dune_water', instruments, client)\n",
    "assign_instruments()\n",
    "\n",
    "edo = 12\n",
    "scale = list(range(edo))\n",
    "\n",
    "melody = (part1 + part2 + part3 + part4) * 2 + part5 + part6 + part7 + part8\n",
    "melody = transpose(melody, -60)  # because i used MIDI values above\n",
    "melody = split(melody)\n",
    "melody = melody[:-1] + [['.', '.']]\n",
    "play(melody, scale, edo, client, synth_idx=[0, 1], dur=0.25)\n",
    "\n",
    "# TODO: notes are not released completely - we need to cut the release values"
   ]
  },
  {
   "cell_type": "code",
   "execution_count": 38,
   "id": "96e43f9e",
   "metadata": {},
   "outputs": [
    {
     "name": "stdout",
     "output_type": "stream",
     "text": [
      "[0, '.', '.', '.', 0, '.', '.', '.', 0, '.', '.', '.', 0, '.', '.', '.']\n",
      "['.', '.', '.', '.', -8, '.', '.', '.', '.', '.', '.', '.', -8, '.', '.', '.']\n",
      "['.', '.', -16, '.', '.', '.', -16, '.', '.', '.', -16, '.', '.', '.', -16, '.']\n",
      "['.', '.', '.', '.', '.', '.', '.', '.', '.', -16, '.', '.', '.', '.', '.', '.']\n"
     ]
    }
   ],
   "source": [
    "# four on the floor\n",
    "edo = 2\n",
    "scale = list(range(edo))\n",
    "\n",
    "# TODO: replace with 'x...' * 4\n",
    "kick_voice = ['x', '.', '.', '.'] * 4\n",
    "kick_voice = rhythm_to_notes(kick_voice, 0)\n",
    "print(kick_voice)\n",
    "snare_voice = (['.'] * 4 + ['x', '.', '.', '.']) * 2\n",
    "snare_voice = rhythm_to_notes(snare_voice, -4*edo)\n",
    "print(snare_voice)\n",
    "closed_hihat_voice = ['.'] * 8 + ['.', 'x', '.', '.'] + ['.'] * 4\n",
    "closed_hihat_voice = rhythm_to_notes(closed_hihat_voice, -edo)\n",
    "print(closed_hihat_voice)\n",
    "open_hihat_voice = ['.', '.', 'x', '.'] * 4\n",
    "open_hihat_voice = rhythm_to_notes(open_hihat_voice, -8*edo)\n",
    "print(open_hihat_voice)\n",
    "voices = list(zip(kick_voice, snare_voice, closed_hihat_voice, open_hihat_voice))\n",
    "\n",
    "def assign_instruments():\n",
    "    assign_instrument(0, 'timpani2', instruments, client)\n",
    "    assign_instrument(1, 'snare1', instruments, client)\n",
    "    assign_instrument(2, 'closed_hi_hat', instruments, client)\n",
    "    assign_instrument(3, 'hi_hat', instruments, client)\n",
    "assign_instruments()\n",
    "\n",
    "for _ in range(4):\n",
    "    play(voices, scale, edo, client, synth_idx=[0, 1, 2, 3], dur=0.12)\n"
   ]
  },
  {
   "cell_type": "code",
   "execution_count": 55,
   "id": "6ca55786",
   "metadata": {},
   "outputs": [
    {
     "name": "stdout",
     "output_type": "stream",
     "text": [
      "[0, 0, '.', '.', '.', '.', '.', 0, '.', '.', 0, 0, '.', '.', '.', '.']\n",
      "['.', '.', '.', '.', 2, '.', '.', '.', '.', '.', '.', '.', 2, '.', '.', '.']\n",
      "[16, '.', 16, '.', 16, '.', 16, '.', 16, '.', 16, '.', 16, '.', 16, '.']\n"
     ]
    },
    {
     "ename": "KeyboardInterrupt",
     "evalue": "",
     "output_type": "error",
     "traceback": [
      "\u001b[0;31m---------------------------------------------------------------------------\u001b[0m",
      "\u001b[0;31mKeyboardInterrupt\u001b[0m                         Traceback (most recent call last)",
      "\u001b[0;32m<ipython-input-55-267fba327672>\u001b[0m in \u001b[0;36m<cell line: 22>\u001b[0;34m()\u001b[0m\n\u001b[1;32m     21\u001b[0m \u001b[0;34m\u001b[0m\u001b[0m\n\u001b[1;32m     22\u001b[0m \u001b[0;32mfor\u001b[0m \u001b[0m_\u001b[0m \u001b[0;32min\u001b[0m \u001b[0mrange\u001b[0m\u001b[0;34m(\u001b[0m\u001b[0;36m4\u001b[0m\u001b[0;34m)\u001b[0m\u001b[0;34m:\u001b[0m\u001b[0;34m\u001b[0m\u001b[0;34m\u001b[0m\u001b[0m\n\u001b[0;32m---> 23\u001b[0;31m     \u001b[0mplay\u001b[0m\u001b[0;34m(\u001b[0m\u001b[0mvoices\u001b[0m\u001b[0;34m,\u001b[0m \u001b[0mscale\u001b[0m\u001b[0;34m,\u001b[0m \u001b[0medo\u001b[0m\u001b[0;34m,\u001b[0m \u001b[0mclient\u001b[0m\u001b[0;34m,\u001b[0m \u001b[0msynth_idx\u001b[0m\u001b[0;34m=\u001b[0m\u001b[0;34m[\u001b[0m\u001b[0;36m0\u001b[0m\u001b[0;34m,\u001b[0m \u001b[0;36m1\u001b[0m\u001b[0;34m,\u001b[0m \u001b[0;36m2\u001b[0m\u001b[0;34m]\u001b[0m\u001b[0;34m,\u001b[0m \u001b[0mdur\u001b[0m\u001b[0;34m=\u001b[0m\u001b[0;36m0.15\u001b[0m\u001b[0;34m)\u001b[0m\u001b[0;34m\u001b[0m\u001b[0;34m\u001b[0m\u001b[0m\n\u001b[0m",
      "\u001b[0;32m~/devel/domblar/domblar/players.py\u001b[0m in \u001b[0;36mplay\u001b[0;34m(chords, scale, edo, client, dur, sus, delay, synth_idx)\u001b[0m\n\u001b[1;32m     61\u001b[0m             \u001b[0;32mif\u001b[0m \u001b[0mdelay\u001b[0m\u001b[0;34m:\u001b[0m\u001b[0;34m\u001b[0m\u001b[0;34m\u001b[0m\u001b[0m\n\u001b[1;32m     62\u001b[0m                 \u001b[0mtime\u001b[0m\u001b[0;34m.\u001b[0m\u001b[0msleep\u001b[0m\u001b[0;34m(\u001b[0m\u001b[0mdelay\u001b[0m\u001b[0;34m)\u001b[0m\u001b[0;34m\u001b[0m\u001b[0;34m\u001b[0m\u001b[0m\n\u001b[0;32m---> 63\u001b[0;31m         \u001b[0mtime\u001b[0m\u001b[0;34m.\u001b[0m\u001b[0msleep\u001b[0m\u001b[0;34m(\u001b[0m\u001b[0mdur\u001b[0m\u001b[0;34m)\u001b[0m\u001b[0;34m\u001b[0m\u001b[0;34m\u001b[0m\u001b[0m\n\u001b[0m\u001b[1;32m     64\u001b[0m \u001b[0;34m\u001b[0m\u001b[0m\n\u001b[1;32m     65\u001b[0m \u001b[0;34m\u001b[0m\u001b[0m\n",
      "\u001b[0;31mKeyboardInterrupt\u001b[0m: "
     ]
    }
   ],
   "source": [
    "# the levee break\n",
    "edo = 2\n",
    "scale = list(range(edo))\n",
    "\n",
    "kick_voice = ['x', 'x', '.', '.'] + ['.', '.', '.', 'x'] + ['.', '.', 'x', 'x'] + ['.'] * 4\n",
    "kick_voice = rhythm_to_notes(kick_voice, 0)\n",
    "print(kick_voice)\n",
    "snare_voice = (['.'] * 4 + ['x', '.', '.', '.']) * 2\n",
    "snare_voice = rhythm_to_notes(snare_voice, edo)\n",
    "print(snare_voice)\n",
    "closed_hihat_voice = ['x', '.'] * 8\n",
    "closed_hihat_voice = rhythm_to_notes(closed_hihat_voice, -8*edo)\n",
    "print(closed_hihat_voice)\n",
    "voices = list(zip(kick_voice, snare_voice, closed_hihat_voice))\n",
    "\n",
    "def assign_instruments():\n",
    "    assign_instrument(0, 'timpani2', instruments, client)\n",
    "    assign_instrument(1, 'log_drum', instruments, client)\n",
    "    assign_instrument(2, 'closed_hi_hat', instruments, client)\n",
    "assign_instruments()\n",
    "\n",
    "for _ in range(4):\n",
    "    play(voices, scale, edo, client, synth_idx=[0, 1, 2], dur=0.15)\n"
   ]
  },
  {
   "cell_type": "code",
   "execution_count": null,
   "id": "5bd3a26d",
   "metadata": {},
   "outputs": [],
   "source": [
    "# 12edo modulation between scales\n"
   ]
  },
  {
   "cell_type": "code",
   "execution_count": null,
   "id": "43a7711d",
   "metadata": {},
   "outputs": [],
   "source": [
    "# 12edo Neo-Riemannian transformations"
   ]
  },
  {
   "cell_type": "code",
   "execution_count": null,
   "id": "12cf490d",
   "metadata": {},
   "outputs": [],
   "source": [
    "# jazz examples\n"
   ]
  },
  {
   "cell_type": "code",
   "execution_count": null,
   "id": "3be72a7e",
   "metadata": {},
   "outputs": [],
   "source": [
    "# 12edo scales examples\n",
    "# high register chords, bell-like\n",
    "# George Crumb: Music for a Summer Evening - V. Music of the Starry Night\n",
    "# https://www.youtube.com/watch?v=jTLq-9xyPz4&ab_channel=ZhengchaoDing\n",
    "# Romitelli - Amok Koma\n",
    "# https://www.youtube.com/watch?v=8tAWPIFD1_w&ab_channel=SchallfeldEnsemble\n",
    "# Desyatnikov - Kolkhoz Song About Moscow\n",
    "# https://www.youtube.com/watch?v=bBaIEapbI9o&ab_channel=VariousArtists-Topic\n"
   ]
  },
  {
   "cell_type": "code",
   "execution_count": null,
   "id": "977c972e",
   "metadata": {},
   "outputs": [],
   "source": [
    "# pentatonic planing in Debussy - La Cathédrale Engloutie\n",
    "# https://www.youtube.com/watch?v=yTwvtwlSh5U"
   ]
  },
  {
   "cell_type": "code",
   "execution_count": null,
   "id": "00d4204e",
   "metadata": {},
   "outputs": [],
   "source": [
    "# varying dynamics example/study\n",
    "# canto ostinato, section 31\n",
    "# https://www.youtube.com/watch?v=1Zk1xyrWfX0\n"
   ]
  },
  {
   "cell_type": "code",
   "execution_count": null,
   "id": "a1f7c684",
   "metadata": {},
   "outputs": [],
   "source": [
    "# augmented sixth examples\n"
   ]
  },
  {
   "cell_type": "code",
   "execution_count": null,
   "id": "3dfac250",
   "metadata": {},
   "outputs": [],
   "source": [
    "# maqamat\n"
   ]
  },
  {
   "cell_type": "code",
   "execution_count": null,
   "id": "60d02759",
   "metadata": {},
   "outputs": [],
   "source": [
    "# dynamic tonality"
   ]
  },
  {
   "cell_type": "code",
   "execution_count": 13,
   "id": "b48c0364",
   "metadata": {},
   "outputs": [],
   "source": [
    "# cleanup\n",
    "# TODO\n",
    "# do stop_server()\n"
   ]
  }
 ],
 "metadata": {
  "kernelspec": {
   "display_name": "py38",
   "language": "python",
   "name": "python3"
  },
  "language_info": {
   "codemirror_mode": {
    "name": "ipython",
    "version": 3
   },
   "file_extension": ".py",
   "mimetype": "text/x-python",
   "name": "python",
   "nbconvert_exporter": "python",
   "pygments_lexer": "ipython3",
   "version": "3.8.10 (default, May 19 2021, 11:01:55) \n[Clang 10.0.0 ]"
  },
  "vscode": {
   "interpreter": {
    "hash": "fbf0dd17592d3ca6e635cabb1c16d1355bb8d9b58dd5152262ed90a953ba68fb"
   }
  }
 },
 "nbformat": 4,
 "nbformat_minor": 5
}
