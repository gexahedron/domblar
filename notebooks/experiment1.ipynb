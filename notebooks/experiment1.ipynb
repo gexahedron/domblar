{
 "cells": [
  {
   "cell_type": "code",
   "execution_count": 1,
   "id": "bc0f05eb",
   "metadata": {},
   "outputs": [
    {
     "name": "stdout",
     "output_type": "stream",
     "text": [
      "/Users/gexahedron/devel/domblar\n"
     ]
    }
   ],
   "source": [
    "%cd ..\n",
    "\n",
    "# imports:\n",
    "import pyOSC3\n",
    "\n",
    "# todo: hide/combine/simplify these imports\n",
    "from domblar.sc3.client import SC3Client\n",
    "from domblar.sc3.instruments import setup_instruments, assign_instrument\n",
    "from domblar.players import play, play_voices\n",
    "from domblar.transformations import iterate_voice_leadings\n",
    "from domblar.edo import build_mos_from_edo, intervals_in_edo"
   ]
  },
  {
   "cell_type": "code",
   "execution_count": 2,
   "id": "3df91801",
   "metadata": {},
   "outputs": [],
   "source": [
    "# setup:\n",
    "# 1. open scds/vst_tracker.scd file in SuperCollider\n",
    "# and run first cell\n",
    "# and second cell\n",
    "# and third cell\n",
    "\n",
    "# 2. run this cell\n",
    "client = SC3Client()\n",
    "instruments = setup_instruments()"
   ]
  },
  {
   "cell_type": "code",
   "execution_count": 4,
   "id": "28de7d45",
   "metadata": {},
   "outputs": [
    {
     "name": "stdout",
     "output_type": "stream",
     "text": [
      "[0, 3, 10, 13, 20, 23, 30, 37]\n",
      "steps - [3, 7, 3, 7, 3, 7, 7]\n"
     ]
    }
   ],
   "source": [
    "# play:\n",
    "\n",
    "def assign_instruments():\n",
    "    # assign_instrument(0, 'tub_bells', instruments, client)\n",
    "    assign_instrument(0, 'brass/toto_africa', instruments, client)\n",
    "assign_instruments()\n",
    "\n",
    "edo = 37\n",
    "# fixme: remove this scale, looks redundant\n",
    "scale = list(range(edo))\n",
    "\n",
    "scales = {}\n",
    "scales['orgone7'] = build_mos_from_edo(7, gen=10, edo=edo, down=0, shift=0) + [edo]\n",
    "\n",
    "cur_scale = scales['orgone7']\n",
    "print(cur_scale)\n",
    "print('steps -', intervals_in_edo(cur_scale, edo))\n",
    "play(cur_scale, scale, edo, client, synth_idx=[0], dur=0.3)\n"
   ]
  },
  {
   "cell_type": "code",
   "execution_count": 5,
   "id": "a2b0619a",
   "metadata": {},
   "outputs": [
    {
     "name": "stdout",
     "output_type": "stream",
     "text": [
      "[[0, 2, 7, 11], [-2, 5, 9, 12], [-4, 7, 10, 15], [-6, 8, 13, 17], [-8, 11, 15, 18], [-10, 13, 16, 21], [-12, 14, 19, 23]]\n"
     ]
    }
   ],
   "source": [
    "chords = iterate_voice_leadings(\n",
    "    [0, 2, 7, 11],\n",
    "    [-2, 10, -2, -2],\n",
    "    [0, 2, 3, 1],\n",
    "    7)\n",
    "print(chords)\n",
    "\n",
    "def assign_instruments():\n",
    "    for i in range(4):\n",
    "        # assign_instrument(i, 'tub_bells', instruments, client)\n",
    "        assign_instrument(i, 'brass/toto_africa', instruments, client)\n",
    "assign_instruments()\n",
    "\n",
    "edo = 12\n",
    "scale = list(range(edo))\n",
    "play(chords, scale, edo, client, synth_idx=[0, 1, 2, 3], dur=0.75)\n"
   ]
  },
  {
   "cell_type": "code",
   "execution_count": 13,
   "id": "b48c0364",
   "metadata": {},
   "outputs": [],
   "source": [
    "# cleanup\n"
   ]
  }
 ],
 "metadata": {
  "kernelspec": {
   "display_name": "py38",
   "language": "python",
   "name": "python3"
  },
  "language_info": {
   "codemirror_mode": {
    "name": "ipython",
    "version": 3
   },
   "file_extension": ".py",
   "mimetype": "text/x-python",
   "name": "python",
   "nbconvert_exporter": "python",
   "pygments_lexer": "ipython3",
   "version": "3.8.10"
  },
  "vscode": {
   "interpreter": {
    "hash": "fbf0dd17592d3ca6e635cabb1c16d1355bb8d9b58dd5152262ed90a953ba68fb"
   }
  }
 },
 "nbformat": 4,
 "nbformat_minor": 5
}
