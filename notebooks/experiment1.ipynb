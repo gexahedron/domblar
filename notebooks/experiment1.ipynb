{
 "cells": [
  {
   "cell_type": "code",
   "execution_count": 2,
   "id": "bc0f05eb",
   "metadata": {},
   "outputs": [],
   "source": [
    "import os\n",
    "import sys\n",
    "from pathlib import Path\n",
    "\n",
    "# add path to domblar development code\n",
    "sys.path.insert(0, str(Path(os.getcwd()).parent))\n",
    "\n",
    "# # imports:\n",
    "# # todo: hide/combine/simplify these imports\n",
    "# from domblar.sc3.client import SC3Client\n",
    "# from domblar.sc3.instruments import setup_instruments, assign_instrument\n",
    "# from domblar.players import play\n",
    "# from domblar.transformations import iterate_voice_leadings, shift, transpose, split\n",
    "# from domblar.rhythm import get_grouped_rhythm, rhythm_to_notes\n",
    "\n",
    "from domblar.domblar import Domblar\n",
    "d = Domblar(\n",
    "    synth_count=1,\n",
    "    context='dexed'\n",
    ")"
   ]
  },
  {
   "cell_type": "code",
   "execution_count": 6,
   "id": "28de7d45",
   "metadata": {},
   "outputs": [
    {
     "name": "stdout",
     "output_type": "stream",
     "text": [
      "[0, 3, 10, 13, 20, 23, 30, 37]\n",
      "steps - [3, 7, 3, 7, 3, 7, 7]\n"
     ]
    },
    {
     "ename": "KeyboardInterrupt",
     "evalue": "",
     "output_type": "error",
     "traceback": [
      "\u001b[0;31m---------------------------------------------------------------------------\u001b[0m",
      "\u001b[0;31mKeyboardInterrupt\u001b[0m                         Traceback (most recent call last)",
      "Cell \u001b[0;32mIn[6], line 21\u001b[0m\n\u001b[1;32m     19\u001b[0m \u001b[38;5;28mprint\u001b[39m(\u001b[38;5;124m'\u001b[39m\u001b[38;5;124msteps -\u001b[39m\u001b[38;5;124m'\u001b[39m, intervals_in_edo(cur_scale, edo))\n\u001b[1;32m     20\u001b[0m \u001b[38;5;28;01mwhile\u001b[39;00m \u001b[38;5;28;01mTrue\u001b[39;00m:\n\u001b[0;32m---> 21\u001b[0m     \u001b[43md\u001b[49m\u001b[38;5;241;43m.\u001b[39;49m\u001b[43mplay\u001b[49m\u001b[43m(\u001b[49m\u001b[43mcur_scale\u001b[49m\u001b[43m,\u001b[49m\u001b[43m \u001b[49m\u001b[43mscale\u001b[49m\u001b[43m,\u001b[49m\u001b[43m \u001b[49m\u001b[43medo\u001b[49m\u001b[43m,\u001b[49m\u001b[43m \u001b[49m\u001b[43msynth_idx\u001b[49m\u001b[38;5;241;43m=\u001b[39;49m\u001b[43m[\u001b[49m\u001b[38;5;241;43m0\u001b[39;49m\u001b[43m]\u001b[49m\u001b[43m,\u001b[49m\u001b[43m \u001b[49m\u001b[43mdur\u001b[49m\u001b[38;5;241;43m=\u001b[39;49m\u001b[38;5;241;43m0.3\u001b[39;49m\u001b[43m)\u001b[49m\n",
      "File \u001b[0;32m~/devel/domblar/domblar/domblar.py:54\u001b[0m, in \u001b[0;36mDomblar.play\u001b[0;34m(self, chords_or_voices, scale, edo, dur, sus, delay, synth_idx, rep, muls, amps, voice_amps, once, loop_from)\u001b[0m\n\u001b[1;32m     51\u001b[0m \u001b[38;5;28;01mif\u001b[39;00m \u001b[38;5;129;01mnot\u001b[39;00m \u001b[38;5;28mself\u001b[39m\u001b[38;5;241m.\u001b[39manalysis_mode:\n\u001b[1;32m     52\u001b[0m     \u001b[38;5;28;01mif\u001b[39;00m \u001b[38;5;28mself\u001b[39m\u001b[38;5;241m.\u001b[39mmode \u001b[38;5;241m==\u001b[39m \u001b[38;5;124m'\u001b[39m\u001b[38;5;124monce\u001b[39m\u001b[38;5;124m'\u001b[39m:\n\u001b[1;32m     53\u001b[0m         \u001b[38;5;66;03m# FIXME: remove this, by reusing tracker\u001b[39;00m\n\u001b[0;32m---> 54\u001b[0m         \u001b[43mplay\u001b[49m\u001b[43m(\u001b[49m\u001b[43mchords_or_voices\u001b[49m\u001b[43m,\u001b[49m\u001b[43m \u001b[49m\u001b[43mscale\u001b[49m\u001b[43m,\u001b[49m\u001b[43m \u001b[49m\u001b[43medo\u001b[49m\u001b[43m,\u001b[49m\u001b[43m \u001b[49m\u001b[38;5;28;43mself\u001b[39;49m\u001b[38;5;241;43m.\u001b[39;49m\u001b[43mclient\u001b[49m\u001b[43m,\u001b[49m\n\u001b[1;32m     55\u001b[0m \u001b[43m            \u001b[49m\u001b[43mdur\u001b[49m\u001b[38;5;241;43m=\u001b[39;49m\u001b[43mdur\u001b[49m\u001b[43m,\u001b[49m\u001b[43m \u001b[49m\u001b[43msus\u001b[49m\u001b[38;5;241;43m=\u001b[39;49m\u001b[43msus\u001b[49m\u001b[43m,\u001b[49m\u001b[43m \u001b[49m\u001b[43mdelay\u001b[49m\u001b[38;5;241;43m=\u001b[39;49m\u001b[43mdelay\u001b[49m\u001b[43m,\u001b[49m\u001b[43m \u001b[49m\u001b[43msynth_idx\u001b[49m\u001b[38;5;241;43m=\u001b[39;49m\u001b[43msynth_idx\u001b[49m\u001b[43m,\u001b[49m\u001b[43m \u001b[49m\u001b[43mmuls\u001b[49m\u001b[38;5;241;43m=\u001b[39;49m\u001b[43mmuls\u001b[49m\u001b[43m,\u001b[49m\u001b[43m \u001b[49m\u001b[43mrep\u001b[49m\u001b[38;5;241;43m=\u001b[39;49m\u001b[43mrep\u001b[49m\u001b[43m,\u001b[49m\n\u001b[1;32m     56\u001b[0m \u001b[43m            \u001b[49m\u001b[43mamps\u001b[49m\u001b[38;5;241;43m=\u001b[39;49m\u001b[43mamps\u001b[49m\u001b[43m,\u001b[49m\u001b[43m \u001b[49m\u001b[43mvoice_amps\u001b[49m\u001b[38;5;241;43m=\u001b[39;49m\u001b[43mvoice_amps\u001b[49m\u001b[43m)\u001b[49m\n\u001b[1;32m     57\u001b[0m     \u001b[38;5;28;01melse\u001b[39;00m:\n\u001b[1;32m     58\u001b[0m         \u001b[38;5;28;01mfrom\u001b[39;00m \u001b[38;5;21;01mdomblar\u001b[39;00m\u001b[38;5;21;01m.\u001b[39;00m\u001b[38;5;21;01mchord_theory\u001b[39;00m \u001b[38;5;28;01mimport\u001b[39;00m Voices\n",
      "File \u001b[0;32m~/devel/domblar/domblar/players.py:47\u001b[0m, in \u001b[0;36mplay\u001b[0;34m(chords, scale, edo, client, dur, sus, delay, synth_idx, rep, muls, amps, voice_amps)\u001b[0m\n\u001b[1;32m     45\u001b[0m \u001b[38;5;28;01mif\u001b[39;00m muls:\n\u001b[1;32m     46\u001b[0m     sleep_dur \u001b[38;5;241m*\u001b[39m\u001b[38;5;241m=\u001b[39m muls[chord_idx]\n\u001b[0;32m---> 47\u001b[0m \u001b[43mtime\u001b[49m\u001b[38;5;241;43m.\u001b[39;49m\u001b[43msleep\u001b[49m\u001b[43m(\u001b[49m\u001b[43msleep_dur\u001b[49m\u001b[43m)\u001b[49m\n",
      "\u001b[0;31mKeyboardInterrupt\u001b[0m: "
     ]
    }
   ],
   "source": [
    "# random (microtonal) example\n",
    "\n",
    "from domblar.edo import build_mos_from_edo, intervals_in_edo\n",
    "\n",
    "def set_synths():\n",
    "    # d.set_synth(0, 'tub_bells')\n",
    "    d.set_synth(0, 'brass/toto_africa')\n",
    "set_synths()\n",
    "\n",
    "edo = 37\n",
    "# fixme: remove this scale, looks redundant\n",
    "scale = list(range(edo))\n",
    "\n",
    "scales = {}\n",
    "scales['orgone7'] = build_mos_from_edo(7, gen=10, edo=edo, down=0, shift=0) + [edo]\n",
    "\n",
    "cur_scale = scales['orgone7']\n",
    "print(cur_scale)\n",
    "print('steps -', intervals_in_edo(cur_scale, edo))\n",
    "while True:\n",
    "    d.play(cur_scale, scale, edo, synth_idx=[0], dur=0.3)\n"
   ]
  },
  {
   "cell_type": "code",
   "execution_count": 5,
   "id": "2aa8db8b",
   "metadata": {},
   "outputs": [],
   "source": [
    "finetuning = 0\n",
    "\n",
    "try:\n",
    "    finetuning\n",
    "except Exception as e:\n",
    "    d.open_editor(0)\n",
    "    finetuning = 1\n",
    "else:\n",
    "    if finetuning == 0:\n",
    "        d.open_editor(0)\n",
    "    elif finetuning == 1:\n",
    "        # transfer instrument to all synths\n",
    "        d.save_preset(0)\n",
    "        import time\n",
    "        time.sleep(0.5)\n",
    "        for i in range(3 * rep):\n",
    "            d.load_preset(i)\n",
    "    else:\n",
    "        d.print_params(0)"
   ]
  },
  {
   "cell_type": "code",
   "execution_count": null,
   "id": "5bd3a26d",
   "metadata": {},
   "outputs": [],
   "source": [
    "# 12edo modulation between scales of different types\n",
    "# e. g., diatonic and acoustic\n"
   ]
  },
  {
   "cell_type": "code",
   "execution_count": null,
   "id": "3be72a7e",
   "metadata": {},
   "outputs": [],
   "source": [
    "# 12edo examples: high register chords, bell-like\n",
    "# George Crumb: Music for a Summer Evening - V. Music of the Starry Night\n",
    "# https://www.youtube.com/watch?v=jTLq-9xyPz4&ab_channel=ZhengchaoDing\n",
    "# Romitelli - Amok Koma\n",
    "# https://www.youtube.com/watch?v=8tAWPIFD1_w&ab_channel=SchallfeldEnsemble\n",
    "# Desyatnikov - Kolkhoz Song About Moscow\n",
    "# https://www.youtube.com/watch?v=bBaIEapbI9o&ab_channel=VariousArtists-Topic\n"
   ]
  },
  {
   "cell_type": "code",
   "execution_count": null,
   "id": "977c972e",
   "metadata": {},
   "outputs": [],
   "source": [
    "# pentatonic planing in Debussy - La Cathédrale Engloutie\n",
    "# https://www.youtube.com/watch?v=yTwvtwlSh5U"
   ]
  },
  {
   "cell_type": "code",
   "execution_count": null,
   "id": "a1f7c684",
   "metadata": {},
   "outputs": [],
   "source": [
    "# augmented sixth examples\n"
   ]
  }
 ],
 "metadata": {
  "kernelspec": {
   "display_name": "Python 3 (ipykernel)",
   "language": "python",
   "name": "python3"
  },
  "language_info": {
   "codemirror_mode": {
    "name": "ipython",
    "version": 3
   },
   "file_extension": ".py",
   "mimetype": "text/x-python",
   "name": "python",
   "nbconvert_exporter": "python",
   "pygments_lexer": "ipython3",
   "version": "3.10.11"
  },
  "vscode": {
   "interpreter": {
    "hash": "fbf0dd17592d3ca6e635cabb1c16d1355bb8d9b58dd5152262ed90a953ba68fb"
   }
  }
 },
 "nbformat": 4,
 "nbformat_minor": 5
}
