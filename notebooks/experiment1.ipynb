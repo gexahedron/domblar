{
 "cells": [
  {
   "cell_type": "code",
   "execution_count": 11,
   "id": "bc0f05eb",
   "metadata": {},
   "outputs": [
    {
     "name": "stdout",
     "output_type": "stream",
     "text": [
      "/Users/gexahedron\n"
     ]
    }
   ],
   "source": [
    "%cd ..\n",
    "\n",
    "# imports:\n",
    "import pyOSC3\n",
    "\n",
    "# todo: hide/combine/simplify these imports\n",
    "from domblar.sc3.client import SC3Client\n",
    "from domblar.sc3.instruments import setup_instruments, assign_instrument\n",
    "from domblar.players import play, play_voices\n",
    "from domblar.transformations import iterate_voice_leadings, shift, transpose\n",
    "from domblar.rhythm import get_grouped_rhythm, rhythm_to_notes\n",
    "from domblar.edo import build_mos_from_edo, intervals_in_edo"
   ]
  },
  {
   "cell_type": "code",
   "execution_count": 7,
   "id": "3df91801",
   "metadata": {},
   "outputs": [],
   "source": [
    "# setup:\n",
    "# 1. open scds/vst_tracker.scd file in SuperCollider\n",
    "# and run first cell\n",
    "# and second cell\n",
    "# and third cell\n",
    "\n",
    "# 2. run this cell\n",
    "client = SC3Client()\n",
    "instruments = setup_instruments()"
   ]
  },
  {
   "cell_type": "code",
   "execution_count": 3,
   "id": "28de7d45",
   "metadata": {},
   "outputs": [
    {
     "name": "stdout",
     "output_type": "stream",
     "text": [
      "[0, 3, 10, 13, 20, 23, 30, 37]\n",
      "steps - [3, 7, 3, 7, 3, 7, 7]\n"
     ]
    }
   ],
   "source": [
    "# play:\n",
    "\n",
    "def assign_instruments():\n",
    "    # assign_instrument(0, 'tub_bells', instruments, client)\n",
    "    assign_instrument(0, 'brass/toto_africa', instruments, client)\n",
    "assign_instruments()\n",
    "\n",
    "edo = 37\n",
    "# fixme: remove this scale, looks redundant\n",
    "scale = list(range(edo))\n",
    "\n",
    "scales = {}\n",
    "scales['orgone7'] = build_mos_from_edo(7, gen=10, edo=edo, down=0, shift=0) + [edo]\n",
    "\n",
    "cur_scale = scales['orgone7']\n",
    "print(cur_scale)\n",
    "print('steps -', intervals_in_edo(cur_scale, edo))\n",
    "play(cur_scale, scale, edo, client, synth_idx=[0], dur=0.3)\n"
   ]
  },
  {
   "cell_type": "code",
   "execution_count": 4,
   "id": "a2b0619a",
   "metadata": {},
   "outputs": [
    {
     "name": "stdout",
     "output_type": "stream",
     "text": [
      "[[0, 2, 7, 11], [-2, 5, 9, 12], [-4, 7, 10, 15], [-6, 8, 13, 17], [-8, 11, 15, 18], [-10, 13, 16, 21], [-12, 14, 19, 23]]\n"
     ]
    }
   ],
   "source": [
    "chords = iterate_voice_leadings(\n",
    "    [0, 2, 7, 11],\n",
    "    [-2, 10, -2, -2],\n",
    "    [0, 2, 3, 1],\n",
    "    7)\n",
    "print(chords)\n",
    "\n",
    "def assign_instruments():\n",
    "    for i in range(4):\n",
    "        # assign_instrument(i, 'tub_bells', instruments, client)\n",
    "        assign_instrument(i, 'brass/toto_africa', instruments, client)\n",
    "assign_instruments()\n",
    "\n",
    "edo = 12\n",
    "scale = list(range(edo))\n",
    "play(chords, scale, edo, client, synth_idx=[0, 1, 2, 3], dur=0.75)\n"
   ]
  },
  {
   "cell_type": "code",
   "execution_count": 10,
   "id": "583e7303",
   "metadata": {},
   "outputs": [
    {
     "ename": "KeyboardInterrupt",
     "evalue": "",
     "output_type": "error",
     "traceback": [
      "\u001b[0;31m---------------------------------------------------------------------------\u001b[0m",
      "\u001b[0;31mKeyboardInterrupt\u001b[0m                         Traceback (most recent call last)",
      "\u001b[0;32m<ipython-input-10-99c4462919f5>\u001b[0m in \u001b[0;36m<cell line: 26>\u001b[0;34m()\u001b[0m\n\u001b[1;32m     24\u001b[0m \u001b[0mvoice2\u001b[0m \u001b[0;34m=\u001b[0m \u001b[0mrhythm_to_notes\u001b[0m\u001b[0;34m(\u001b[0m\u001b[0mvoice2\u001b[0m\u001b[0;34m,\u001b[0m \u001b[0;36m0\u001b[0m\u001b[0;34m)\u001b[0m\u001b[0;34m\u001b[0m\u001b[0;34m\u001b[0m\u001b[0m\n\u001b[1;32m     25\u001b[0m \u001b[0mchords\u001b[0m \u001b[0;34m=\u001b[0m \u001b[0mzip\u001b[0m\u001b[0;34m(\u001b[0m\u001b[0mvoice1\u001b[0m\u001b[0;34m,\u001b[0m \u001b[0mvoice2\u001b[0m\u001b[0;34m)\u001b[0m\u001b[0;34m\u001b[0m\u001b[0;34m\u001b[0m\u001b[0m\n\u001b[0;32m---> 26\u001b[0;31m \u001b[0mplay\u001b[0m\u001b[0;34m(\u001b[0m\u001b[0mchords\u001b[0m\u001b[0;34m,\u001b[0m \u001b[0mscale\u001b[0m\u001b[0;34m,\u001b[0m \u001b[0medo\u001b[0m\u001b[0;34m,\u001b[0m \u001b[0mclient\u001b[0m\u001b[0;34m,\u001b[0m \u001b[0msynth_idx\u001b[0m\u001b[0;34m=\u001b[0m\u001b[0;34m[\u001b[0m\u001b[0;36m0\u001b[0m\u001b[0;34m,\u001b[0m \u001b[0;36m1\u001b[0m\u001b[0;34m]\u001b[0m\u001b[0;34m,\u001b[0m \u001b[0mdur\u001b[0m\u001b[0;34m=\u001b[0m\u001b[0;36m0.16\u001b[0m\u001b[0;34m)\u001b[0m\u001b[0;34m\u001b[0m\u001b[0;34m\u001b[0m\u001b[0m\n\u001b[0m",
      "\u001b[0;32m~/devel/domblar/domblar/players.py\u001b[0m in \u001b[0;36mplay\u001b[0;34m(chords, scale, edo, client, dur, sus, delay, synth_idx)\u001b[0m\n\u001b[1;32m     61\u001b[0m             \u001b[0;32mif\u001b[0m \u001b[0mdelay\u001b[0m\u001b[0;34m:\u001b[0m\u001b[0;34m\u001b[0m\u001b[0;34m\u001b[0m\u001b[0m\n\u001b[1;32m     62\u001b[0m                 \u001b[0mtime\u001b[0m\u001b[0;34m.\u001b[0m\u001b[0msleep\u001b[0m\u001b[0;34m(\u001b[0m\u001b[0mdelay\u001b[0m\u001b[0;34m)\u001b[0m\u001b[0;34m\u001b[0m\u001b[0;34m\u001b[0m\u001b[0m\n\u001b[0;32m---> 63\u001b[0;31m         \u001b[0mtime\u001b[0m\u001b[0;34m.\u001b[0m\u001b[0msleep\u001b[0m\u001b[0;34m(\u001b[0m\u001b[0mdur\u001b[0m\u001b[0;34m)\u001b[0m\u001b[0;34m\u001b[0m\u001b[0;34m\u001b[0m\u001b[0m\n\u001b[0m\u001b[1;32m     64\u001b[0m \u001b[0;34m\u001b[0m\u001b[0m\n\u001b[1;32m     65\u001b[0m \u001b[0;34m\u001b[0m\u001b[0m\n",
      "\u001b[0;31mKeyboardInterrupt\u001b[0m: "
     ]
    }
   ],
   "source": [
    "# Steve Reich - \"Clapping Music\"\n",
    "\n",
    "from copy import copy\n",
    "import random\n",
    "\n",
    "def assign_instruments():\n",
    "    assign_instrument(0, 'timpani', instruments, client)\n",
    "    assign_instrument(1, 'timpani2', instruments, client)\n",
    "assign_instruments()\n",
    "\n",
    "edo = 2\n",
    "scale = list(range(edo))\n",
    "\n",
    "rhythm1 = get_grouped_rhythm([3, 2, 1, 2])\n",
    "rhythm2 = copy(rhythm1)\n",
    "voice1 = []\n",
    "voice2 = []\n",
    "for i in range(len(rhythm1) + 1):\n",
    "    rep_count = random.randint(4, 8)\n",
    "    voice1.extend(rhythm1 * rep_count)\n",
    "    voice2.extend(rhythm2 * rep_count)\n",
    "    rhythm2 = shift(rhythm2, 1)\n",
    "voice1 = rhythm_to_notes(voice1, 0)\n",
    "voice2 = rhythm_to_notes(voice2, 0)\n",
    "chords = list(zip(voice1, voice2))\n",
    "play(chords, scale, edo, client, synth_idx=[0, 1], dur=0.16)"
   ]
  },
  {
   "cell_type": "code",
   "execution_count": 58,
   "id": "7c4c27ab",
   "metadata": {},
   "outputs": [
    {
     "ename": "KeyboardInterrupt",
     "evalue": "",
     "output_type": "error",
     "traceback": [
      "\u001b[0;31m---------------------------------------------------------------------------\u001b[0m",
      "\u001b[0;31mKeyboardInterrupt\u001b[0m                         Traceback (most recent call last)",
      "\u001b[0;32m<ipython-input-58-f4c1c63ffd47>\u001b[0m in \u001b[0;36m<cell line: 76>\u001b[0;34m()\u001b[0m\n\u001b[1;32m     74\u001b[0m \u001b[0mmelody\u001b[0m \u001b[0;34m=\u001b[0m \u001b[0mmelody\u001b[0m\u001b[0;34m[\u001b[0m\u001b[0;34m:\u001b[0m\u001b[0;34m-\u001b[0m\u001b[0;36m1\u001b[0m\u001b[0;34m]\u001b[0m \u001b[0;34m+\u001b[0m \u001b[0;34m[\u001b[0m\u001b[0;34m[\u001b[0m\u001b[0;34m'.'\u001b[0m\u001b[0;34m,\u001b[0m \u001b[0;34m'.'\u001b[0m\u001b[0;34m]\u001b[0m\u001b[0;34m]\u001b[0m\u001b[0;34m\u001b[0m\u001b[0;34m\u001b[0m\u001b[0m\n\u001b[1;32m     75\u001b[0m \u001b[0;32mwhile\u001b[0m \u001b[0;32mTrue\u001b[0m\u001b[0;34m:\u001b[0m\u001b[0;34m\u001b[0m\u001b[0;34m\u001b[0m\u001b[0m\n\u001b[0;32m---> 76\u001b[0;31m     \u001b[0mplay\u001b[0m\u001b[0;34m(\u001b[0m\u001b[0mmelody\u001b[0m\u001b[0;34m,\u001b[0m \u001b[0mscale\u001b[0m\u001b[0;34m,\u001b[0m \u001b[0medo\u001b[0m\u001b[0;34m,\u001b[0m \u001b[0mclient\u001b[0m\u001b[0;34m,\u001b[0m \u001b[0msynth_idx\u001b[0m\u001b[0;34m=\u001b[0m\u001b[0;34m[\u001b[0m\u001b[0;36m0\u001b[0m\u001b[0;34m,\u001b[0m \u001b[0;36m1\u001b[0m\u001b[0;34m]\u001b[0m\u001b[0;34m,\u001b[0m \u001b[0mdur\u001b[0m\u001b[0;34m=\u001b[0m\u001b[0;36m0.25\u001b[0m\u001b[0;34m)\u001b[0m\u001b[0;34m\u001b[0m\u001b[0;34m\u001b[0m\u001b[0m\n\u001b[0m",
      "\u001b[0;32m~/devel/domblar/domblar/players.py\u001b[0m in \u001b[0;36mplay\u001b[0;34m(chords, scale, edo, client, dur, sus, delay, synth_idx)\u001b[0m\n\u001b[1;32m     61\u001b[0m             \u001b[0;32mif\u001b[0m \u001b[0mdelay\u001b[0m\u001b[0;34m:\u001b[0m\u001b[0;34m\u001b[0m\u001b[0;34m\u001b[0m\u001b[0m\n\u001b[1;32m     62\u001b[0m                 \u001b[0mtime\u001b[0m\u001b[0;34m.\u001b[0m\u001b[0msleep\u001b[0m\u001b[0;34m(\u001b[0m\u001b[0mdelay\u001b[0m\u001b[0;34m)\u001b[0m\u001b[0;34m\u001b[0m\u001b[0;34m\u001b[0m\u001b[0m\n\u001b[0;32m---> 63\u001b[0;31m         \u001b[0mtime\u001b[0m\u001b[0;34m.\u001b[0m\u001b[0msleep\u001b[0m\u001b[0;34m(\u001b[0m\u001b[0mdur\u001b[0m\u001b[0;34m)\u001b[0m\u001b[0;34m\u001b[0m\u001b[0;34m\u001b[0m\u001b[0m\n\u001b[0m\u001b[1;32m     64\u001b[0m \u001b[0;34m\u001b[0m\u001b[0m\n\u001b[1;32m     65\u001b[0m \u001b[0;34m\u001b[0m\u001b[0m\n",
      "\u001b[0;31mKeyboardInterrupt\u001b[0m: "
     ]
    }
   ],
   "source": [
    "# melody example\n",
    "# Stephane Picq, Dune - Water\n",
    "# what i like about this is\n",
    "# - simplicity / repetitiveness\n",
    "# - nice modulations\n",
    "# values below are MIDI values\n",
    "\n",
    "def arpeggio_dune_water(notes, reps=2):\n",
    "    assert (len(notes) == 4)\n",
    "    notes.sort()\n",
    "    v1 = [notes[3], notes[2], notes[1], notes[2]]\n",
    "    v2 = [notes[3], notes[2], notes[0], notes[2]]\n",
    "    return (v1 + v2) * reps\n",
    "\n",
    "# c3 = 48; melody starts on d#3, 51, it's d# lydian actually\n",
    "# vibraphone\n",
    "part1 = arpeggio_dune_water([43, 45, 46, 51])\n",
    "part2 = arpeggio_dune_water([43, 45, 46, 50])\n",
    "part3 = arpeggio_dune_water([43, 45, 47, 52])\n",
    "part4 = arpeggio_dune_water([47, 49, 50, 54])\n",
    "# part1, part2, part3, part4 are repeated again\n",
    "\n",
    "# 1: 51 d# lydian\n",
    "# 2: 50 d aeolian\n",
    "# 3: 52 e aeolian\n",
    "# 4: 47 b aeolian\n",
    "\n",
    "part5 = arpeggio_dune_water([50, 52, 53, 57])\n",
    "part6 = arpeggio_dune_water([53, 55, 56, 60])\n",
    "part7 = arpeggio_dune_water([45, 47, 48, 52])\n",
    "# part8 is a final part and is more tricky:\n",
    "part8 = arpeggio_dune_water([44, 47, 48, 51], reps=1) + arpeggio_dune_water([44, 46, 48, 51], reps=1)\n",
    "\n",
    "# 5: 50 d aeolian (again, but shifted)\n",
    "# 6: 53 f aeolian\n",
    "# 7: 45 a aeolian\n",
    "# 8: no single (Pressing scale) collection, because 2 consecutive semitones\n",
    "# 8.1: e harm maj, c harm min, oct(0,2), hex(0,3)\n",
    "# 8.2: 44 g# ionian\n",
    "\n",
    "def distribute(voice):\n",
    "    voice1 = []\n",
    "    voice2 = []\n",
    "    for i, n in enumerate(voice):\n",
    "        n1 = '.'\n",
    "        n2 = n\n",
    "        if i % 2:\n",
    "            n1, n2 = n2, n1\n",
    "        voice1.append(n1)\n",
    "        voice2.append(n2)\n",
    "    return list(zip(voice1, voice2))\n",
    "\n",
    "def assign_instruments():\n",
    "    for i in range(2):\n",
    "        assign_instrument(i, 'vibraphone/dune_water', instruments, client)\n",
    "assign_instruments()\n",
    "\n",
    "edo = 12\n",
    "scale = list(range(edo))\n",
    "\n",
    "melody = part1+part2+part3+part4+part1+part2+part3+part4+part5+part6+part7+part8\n",
    "melody = transpose(melody, -60)  # because i used MIDI values above\n",
    "melody = distribute(melody)\n",
    "melody = melody[:-1] + [['.', '.']]\n",
    "play(melody, scale, edo, client, synth_idx=[0, 1], dur=0.25)"
   ]
  },
  {
   "cell_type": "code",
   "execution_count": null,
   "id": "076cb448",
   "metadata": {},
   "outputs": [],
   "source": []
  },
  {
   "cell_type": "code",
   "execution_count": null,
   "id": "3be72a7e",
   "metadata": {},
   "outputs": [],
   "source": []
  },
  {
   "cell_type": "code",
   "execution_count": 13,
   "id": "b48c0364",
   "metadata": {},
   "outputs": [],
   "source": [
    "# cleanup\n",
    "# TODO"
   ]
  }
 ],
 "metadata": {
  "kernelspec": {
   "display_name": "py38",
   "language": "python",
   "name": "python3"
  },
  "language_info": {
   "codemirror_mode": {
    "name": "ipython",
    "version": 3
   },
   "file_extension": ".py",
   "mimetype": "text/x-python",
   "name": "python",
   "nbconvert_exporter": "python",
   "pygments_lexer": "ipython3",
   "version": "3.8.10"
  },
  "vscode": {
   "interpreter": {
    "hash": "fbf0dd17592d3ca6e635cabb1c16d1355bb8d9b58dd5152262ed90a953ba68fb"
   }
  }
 },
 "nbformat": 4,
 "nbformat_minor": 5
}
