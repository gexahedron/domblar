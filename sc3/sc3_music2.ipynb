{
 "cells": [
  {
   "cell_type": "code",
   "execution_count": 1,
   "id": "cefefdcb",
   "metadata": {},
   "outputs": [
    {
     "name": "stderr",
     "output_type": "stream",
     "text": [
      "INFO:sc3.synth.server:setting global variable 's' to 'localhost'\n"
     ]
    }
   ],
   "source": [
    "# FIXME:\n",
    "from sc3.all import *\n",
    "\n",
    "import random\n",
    "import time\n",
    "import numpy as np\n",
    "from math import inf, log, sin, ceil\n",
    "from functools import partial\n",
    "\n",
    "from instruments import *\n",
    "from fxs import *\n",
    "from rhythms import *\n",
    "from sc3_stuff import *\n"
   ]
  },
  {
   "cell_type": "code",
   "execution_count": 2,
   "id": "04a01a43",
   "metadata": {},
   "outputs": [
    {
     "name": "stderr",
     "output_type": "stream",
     "text": [
      "INFO:sc3.synth.server:booting server 'localhost' on address 127.0.0.1:57110\n",
      "INFO:SERVER.stdout:Number of Devices: 4\n",
      "INFO:SERVER.stdout:   0 : \"External Headphones\"\n",
      "INFO:SERVER.stdout:   1 : \"MacBook Pro Microphone\"\n",
      "INFO:SERVER.stdout:   2 : \"MacBook Pro Speakers\"\n",
      "INFO:SERVER.stdout:   3 : \"ZoomAudioD\"\n",
      "INFO:SERVER.stdout:\n",
      "INFO:SERVER.stdout:\"MacBook Pro Microphone\" Input Device\n",
      "INFO:SERVER.stdout:   Streams: 1\n",
      "INFO:SERVER.stdout:      0  channels 1\n",
      "INFO:SERVER.stdout:\n",
      "INFO:SERVER.stdout:\"External Headphones\" Output Device\n",
      "INFO:SERVER.stdout:   Streams: 1\n",
      "INFO:SERVER.stdout:      0  channels 2\n",
      "INFO:SERVER.stdout:\n",
      "INFO:SERVER.stdout:SC_AudioDriver: sample rate = 48000.000000, driver's block size = 512\n",
      "INFO:SERVER.stdout:SuperCollider 3 server ready.\n",
      "INFO:sc3.synth._serverstatus:'localhost': requested registration id\n",
      "INFO:sc3.synth._serverstatus:'localhost': setting client_id to 0\n"
     ]
    }
   ],
   "source": [
    "restart()"
   ]
  },
  {
   "cell_type": "code",
   "execution_count": 22,
   "id": "03368abc",
   "metadata": {},
   "outputs": [],
   "source": [
    "def play(notes,\n",
    "         scale,\n",
    "         edo=12,  # FIXME\n",
    "         synth=chiptune_varsaw,\n",
    "         amp=1,\n",
    "         pan=0.0,\n",
    "         dur=1.0,  # FIXME: doesn't work in most synths\n",
    "         base_freq=261.6255653006,\n",
    "         debug=False):\n",
    "    debug_output = []\n",
    "    for i, n_tuple in enumerate(notes):\n",
    "        # FIXME: ugly\n",
    "        if n_tuple == '.':\n",
    "            continue\n",
    "        if isinstance(n_tuple, int):\n",
    "            n_tuple = (n_tuple,)\n",
    "        for n in n_tuple:\n",
    "            # TODO: use function\n",
    "            edo_n = scale[n % len(scale)] + edo * (n // len(scale))\n",
    "            debug_output.append(edo_n)\n",
    "            freq = base_freq * (2 ** (edo_n / edo))\n",
    "            synth(0, freq,\n",
    "                  dur=dur,\n",
    "                  pan=pan,\n",
    "                  add_action='head',\n",
    "                  amp=max(0.1, 0.4 - freq / 440 / 4) * amp)  # FIXME\n",
    "        time.sleep(dur)\n",
    "    if debug:\n",
    "        print('notes:', debug_output)\n",
    "\n",
    "\n",
    "# orwell tetrad\n",
    "# https://en.xen.wiki/w/Orwell_tetrad\n",
    "# play([0, 19, 38, 57, (0, 19, 38, 57)], list(range(84)), edo=84, dur=0.5)\n",
    "# play([0, 5, 10, 15, (0, 5, 10, 15)], list(range(22)), edo=22, dur=0.5)\n",
    "\n",
    "# orwell[5]\n",
    "# 5 5 5 5 2\n",
    "\n",
    "# orwell[9]\n",
    "# 3 2 3 2 2 3 2 3 2\n",
    "\n",
    "# play([(0, 5, 10, 15),\n",
    "#       (2, 7, 12, 22)], list(range(22)), edo=22,\n",
    "#      synth=chiptune_varsaw,\n",
    "#      dur=1.0)\n",
    "\n",
    "# play([(0, 5, 10-22, 15),\n",
    "#       (0, 5, 7, 12-22)], list(range(22)), edo=22,\n",
    "#      synth=chiptune_varsaw,\n",
    "#      dur=1.0)\n",
    "\n",
    "# play([0, 3, 5, 8, 5, 3, 0], list(range(22)), edo=22,\n",
    "#      synth=chiptune_varsaw,\n",
    "#      dur=0.2)\n",
    "\n",
    "# play([0, 3, 5, 8, 10, 12, 15, 17, 20, 8, 5, 3], list(range(22)), edo=22,\n",
    "#      synth=chiptune_varsaw,\n",
    "#      dur=0.2)\n",
    "\n",
    "# play([0, 5, 10, 15, 20, 22], list(range(22)), edo=22,\n",
    "#      synth=chiptune_varsaw,\n",
    "#      dur=0.25)\n",
    "\n",
    "# play([0, 5, 10, 15, 17, 22], list(range(22)), edo=22,\n",
    "#      synth=chiptune_varsaw,\n",
    "#      dur=0.25)\n",
    "\n",
    "# play([0, 5, 10, 12, 17, 22], list(range(22)), edo=22,\n",
    "#      synth=chiptune_varsaw,\n",
    "#      dur=0.25)\n",
    "\n",
    "# 52555\n",
    "# play([0, 5, 7, 12, 17, 22], list(range(22)), edo=22,\n",
    "#      synth=chiptune_varsaw,\n",
    "#      dur=0.25)\n",
    "\n",
    "# # 322323232\n",
    "# play([0, 3, 5, 7, 10, 12, 15, 17, 20, 22], list(range(22)), edo=22,\n",
    "#      synth=chiptune_varsaw,\n",
    "#      dur=0.25)\n",
    "\n",
    "# # 232232323\n",
    "# play([0, 2, 5, 7, 9, 12, 14, 17, 19, 22], list(range(22)), edo=22,\n",
    "#      synth=chiptune_varsaw,\n",
    "#      dur=0.25)\n",
    "\n",
    "# play([0, 2, 7, 12, 17, 22], list(range(22)), edo=22,\n",
    "#      synth=chiptune_varsaw,\n",
    "#      dur=0.25)\n",
    "\n",
    "\n",
    "# 223232323\n",
    "# 0,2,4,7, 9,12,14,17,19,22\n",
    "# 323232322\n",
    "# 0,3,5,8,10,13,15,18,20,22\n",
    "\n",
    "# not part of any orwell9, because of 6 and 11\n",
    "# # 5:6:7:9\n",
    "# play([(0, 6, 11, 19)], list(range(22)), edo=22,\n",
    "#      synth=chiptune_varsaw,\n",
    "#      dur=0.5)\n"
   ]
  },
  {
   "cell_type": "code",
   "execution_count": 47,
   "id": "fcc6b839",
   "metadata": {},
   "outputs": [],
   "source": [
    "# WIP: dreaming of some syntax\n",
    "scale = 'orwell9'\n",
    "melody = ''  # ? xenpaper syntax, which includes stops/long-notes/emphasis\n",
    "compo = ''  # some graph?\n",
    "hierarchies = 'rhythm -> melody; harmony -> melody'  # graph?\n",
    "# probabilities?\n",
    "# memory / dependencies on the past\n",
    "# other parameters: panning, volume, ..."
   ]
  },
  {
   "cell_type": "code",
   "execution_count": 28,
   "id": "336a8b53",
   "metadata": {},
   "outputs": [],
   "source": [
    "# drone example\n",
    "\n",
    "@synthdef\n",
    "def sine(freq=440, amp=0.1, pan=0, gate=1):\n",
    "    sig = SinOsc(freq) * amp\n",
    "    env = EnvGen(Env.asr(), gate)\n",
    "    FreeSelfWhenDone(env)\n",
    "    Out(0, Pan2(sig * env, pan))\n",
    "\n",
    "x = sine(220, pan=-0.5)\n"
   ]
  },
  {
   "cell_type": "code",
   "execution_count": 29,
   "id": "5db56f46",
   "metadata": {},
   "outputs": [],
   "source": [
    "# also, change of variable example\n",
    "x.set('freq', [330])"
   ]
  },
  {
   "cell_type": "code",
   "execution_count": 30,
   "id": "3d6ddb62",
   "metadata": {},
   "outputs": [],
   "source": [
    "x.release()"
   ]
  },
  {
   "cell_type": "code",
   "execution_count": 32,
   "id": "e5a09355",
   "metadata": {},
   "outputs": [
    {
     "name": "stderr",
     "output_type": "stream",
     "text": [
      "INFO:sc3.synth.server:server 'localhost' exited with exit code -9\n",
      "INFO:sc3.synth.server:booting server 'localhost' on address 127.0.0.1:57110\n",
      "INFO:SERVER.stdout:Number of Devices: 4\n",
      "INFO:SERVER.stdout:   0 : \"External Headphones\"\n",
      "INFO:SERVER.stdout:   1 : \"MacBook Pro Microphone\"\n",
      "INFO:SERVER.stdout:   2 : \"MacBook Pro Speakers\"\n",
      "INFO:SERVER.stdout:   3 : \"ZoomAudioD\"\n",
      "INFO:SERVER.stdout:\n",
      "INFO:SERVER.stdout:\"MacBook Pro Microphone\" Input Device\n",
      "INFO:SERVER.stdout:   Streams: 1\n",
      "INFO:SERVER.stdout:      0  channels 1\n",
      "INFO:SERVER.stdout:\n",
      "INFO:SERVER.stdout:\"External Headphones\" Output Device\n",
      "INFO:SERVER.stdout:   Streams: 1\n",
      "INFO:SERVER.stdout:      0  channels 2\n",
      "INFO:SERVER.stdout:\n",
      "INFO:SERVER.stdout:SC_AudioDriver: sample rate = 48000.000000, driver's block size = 512\n",
      "INFO:SERVER.stdout:SuperCollider 3 server ready.\n",
      "INFO:sc3.synth._serverstatus:'localhost': requested registration id\n",
      "INFO:sc3.synth._serverstatus:'localhost': setting client_id to 0\n"
     ]
    }
   ],
   "source": [
    "restart()"
   ]
  },
  {
   "cell_type": "code",
   "execution_count": 33,
   "id": "4f5445d0",
   "metadata": {},
   "outputs": [],
   "source": [
    "# trigger example\n",
    "# routing example\n",
    "\n",
    "@synthdef\n",
    "def sine(out=0, freq=440, amp=0.1, trig:'tr'=1):\n",
    "    sig = SinOsc(freq) * amp\n",
    "    env = EnvGen(Env.perc(0.02, 2), trig)\n",
    "    Out(out, sig * env)\n",
    "\n",
    "@synthdef\n",
    "def cheaptrem(sig:'ar'=0, freq:'ir'=4, amp:'kr'=1):\n",
    "    sig = In(sig)\n",
    "    ctl_pan = SinOsc.kr(freq)\n",
    "    ctl_amp = ctl_pan.range(0, 1) * amp\n",
    "    Out(0, Pan2(sig * ctl_amp, ctl_pan))\n",
    "\n",
    "g = Group()\n",
    "b = AudioBus()\n",
    "\n",
    "fx = cheaptrem(b, target=g)\n",
    "x = sine(b, target=g, add_action='head')\n"
   ]
  },
  {
   "cell_type": "code",
   "execution_count": 36,
   "id": "e06544bd",
   "metadata": {},
   "outputs": [],
   "source": [
    "x.set('trig', 1)"
   ]
  },
  {
   "cell_type": "code",
   "execution_count": 37,
   "id": "bf2171cd",
   "metadata": {},
   "outputs": [],
   "source": [
    "x.free()\n",
    "fx.free()"
   ]
  }
 ],
 "metadata": {
  "kernelspec": {
   "display_name": "Python 3 (ipykernel)",
   "language": "python",
   "name": "python3"
  },
  "language_info": {
   "codemirror_mode": {
    "name": "ipython",
    "version": 3
   },
   "file_extension": ".py",
   "mimetype": "text/x-python",
   "name": "python",
   "nbconvert_exporter": "python",
   "pygments_lexer": "ipython3",
   "version": "3.11.5"
  }
 },
 "nbformat": 4,
 "nbformat_minor": 5
}
